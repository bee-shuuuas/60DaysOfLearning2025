{
 "cells": [
  {
   "cell_type": "markdown",
   "id": "7e66a98c",
   "metadata": {},
   "source": [
    "# Challenge 1 Hint: Define and use a class\n",
    "\n",
    "In our bakery, we track the items we sell using Python objects.\n",
    "\n",
    "Each of our cakes has three attributes that we need to store:  \n",
    "- what kind of cake it is (kind),  \n",
    "- the price, and  \n",
    "- how many slices a full cake contains.\n",
    "\n",
    "We also need each of our cake instances to return a string describing themselves in the format:  \n",
    "**The lemon cake costs $24 and is divided into 6 slices.**\n",
    "\n",
    "---\n",
    "\n",
    "### Your tasks:\n",
    "- Create a class called `Cake` with attributes `kind`, `price`, and `slices`.\n",
    "- Create a method in the class called `describe()` that returns a string formatted like the example above.\n",
    "- Create two instances (`spice_cake`, `chocolate_cake`) from this class using the following information:\n",
    "  - kind: spice, price: 18, slices: 8\n",
    "  - kind: chocolate, price: 24, slices: 6\n",
    "\n",
    "---\n",
    "\n",
    "### Parameters:\n",
    "- `kind`: A string describing the variety of cake  \n",
    "- `price`: An integer describing the cost of a whole cake  \n",
    "- `slices`: An integer describing how many slices a full cake is divided into  \n",
    "- `describe()`: A method that returns a formatted string describing the cake instance\n",
    "\n",
    "---\n",
    "\n",
    "### Result:\n",
    "- Object: An instance of the `Cake` class called `spice_cake`  \n",
    "- Object: An instance of the `Cake` class called `chocolate_cake`\n",
    "\n",
    "---\n",
    "\n",
    "### Examples:\n",
    "\n",
    "**Example 1:**  \n",
    "Input: `\"lemon\", 24, 6`  \n",
    "Result: `The lemon cake costs $24 and is divided into 6 slices.`\n",
    "\n",
    "**Example 2:**  \n",
    "Input: `\"vanilla\", 14, 8`  \n",
    "Result: `The vanilla cake costs $14 and is divided into 8 slices.`\n"
   ]
  },
  {
   "cell_type": "code",
   "execution_count": 16,
   "id": "1d2fc119",
   "metadata": {},
   "outputs": [],
   "source": [
    "# Solution\n",
    "class Cake: \n",
    "    def __init__(self, kind, price, slices): \n",
    "        self.kind = kind \n",
    "        self.price = price \n",
    "        self.slices = slices \n",
    "    \n",
    "    def describe(self): \n",
    "        return f\"The {self.kind} cake costs ${self.price} and is divided into {self.slices} slices\"\n",
    "    \n",
    "spice_cake = Cake('spice', 18, 8)\n",
    "chocolate_cake = Cake('chocolate',24,6)"
   ]
  },
  {
   "cell_type": "markdown",
   "id": "4eae6ffd",
   "metadata": {},
   "source": [
    "Testing Code: "
   ]
  },
  {
   "cell_type": "code",
   "execution_count": 17,
   "id": "392504e9",
   "metadata": {},
   "outputs": [
    {
     "name": "stdout",
     "output_type": "stream",
     "text": [
      "['The spice cake costs $18 and is divided into 8 slices', True]\n",
      "['The chocolate cake costs $24 and is divided into 6 slices', True]\n"
     ]
    }
   ],
   "source": [
    "result1 = [spice_cake.describe(), isinstance(spice_cake, Cake)]\n",
    "result2 = [chocolate_cake.describe(), isinstance(chocolate_cake, Cake)]\n",
    "\n",
    "print(result1)\n",
    "print(result2)"
   ]
  },
  {
   "cell_type": "markdown",
   "id": "e0d04eba",
   "metadata": {},
   "source": [
    "----\n",
    "=======================================================================================================================================\n",
    "----"
   ]
  },
  {
   "cell_type": "markdown",
   "id": "dfcad395",
   "metadata": {},
   "source": [
    "# Challenge 2 Hint: Modify a class definition\n",
    "\n",
    "When we sell slices of cake, or eat a slice ourselves, we need to track how many slices remain.  \n",
    "Let’s expand our `Cake` class with a new function called `sell()` that takes the number of slices sold in a transaction.\n",
    "\n",
    "---\n",
    "\n",
    "### Requirements:\n",
    "It’s important to put some basic reasonableness checks on this function:\n",
    "- We cannot sell `0` slices.\n",
    "- We cannot sell a **negative** number of slices.\n",
    "- We cannot sell **more slices than we have remaining**.\n",
    "\n",
    "If any of these conditions are true, we should return an appropriate message **and not** change the remaining slice count.  \n",
    "Otherwise, we should decrease the slice count and return a confirmation message.\n",
    "\n",
    "---\n",
    "\n",
    "### Messages to return (replace `n` with the correct value):\n",
    "- `Cannot sell zero or negative slices!`\n",
    "- `Cannot sell more slices than we have (n)!`\n",
    "- `This cake has n slices remaining.`\n",
    "\n",
    "---\n",
    "\n",
    "### Your tasks:\n",
    "- Add an attribute to track the number of slices remaining in a cake.\n",
    "- Add a method `sell(count)` to the `Cake` class to handle updating the slice count.\n",
    "- Ensure that the method includes the three basic reasonableness checks.\n",
    "\n",
    "---\n",
    "\n",
    "### Parameters:\n",
    "- `count`: An integer representing the number of slices sold.\n",
    "\n",
    "---\n",
    "\n",
    "### Result:\n",
    "When called, the function should return one of the three result messages listed above.  \n",
    "The cake instance’s count of remaining slices should be updated when a valid sale is made.\n",
    "\n",
    "---\n",
    "\n",
    "### Validation Rules:\n",
    "- Do **not** allow the sale of 0 slices.\n",
    "- Do **not** allow the sale of a negative number of slices.\n",
    "- Do **not** allow the sale of more slices than are remaining in the cake.\n",
    "\n",
    "---\n",
    "\n",
    "### Examples:\n",
    "\n",
    "**Example 1:**  \n",
    "Input: `spice_cake.sell(12)`  \n",
    "Result: `Cannot sell more slices than we have (8)!`\n",
    "\n",
    "**Example 2:**  \n",
    "Input: `spice_cake.sell(-2)`  \n",
    "Result: `Cannot sell zero or negative slices!`\n"
   ]
  },
  {
   "cell_type": "code",
   "execution_count": 18,
   "id": "001eaf2d",
   "metadata": {},
   "outputs": [],
   "source": [
    "# Solution\n",
    "\n",
    "\n",
    "class Cake:\n",
    "    def __init__(self, flavor, price, slices):\n",
    "        self.flavor = flavor\n",
    "        self.price = price\n",
    "        self.slices = slices\n",
    "\n",
    "    def print_description(self):\n",
    "        print(f\"The {self.flavor} cake costs {self.price} and is divided into {self.slices} slices.\")\n",
    "\n",
    "    def sell(self,count):\n",
    "        if count > self.slices: \n",
    "            return f\"Cannot sell more slices than we have ({self.slices})!\"\n",
    "        if count <= 0:\n",
    "            return f\"Cannot sell zero or negative slices!\"\n",
    "        self.slices -= count\n",
    "        return f\"This cake has {self.slices} slices remaining.\"\n",
    "\n",
    "spice_cake = Cake(\"spice\", 18, 8)\n",
    "chocolate_cake = Cake(\"chocolate\", 24, 6)"
   ]
  },
  {
   "cell_type": "markdown",
   "id": "7e396163",
   "metadata": {},
   "source": [
    "Testing Code"
   ]
  },
  {
   "cell_type": "code",
   "execution_count": 19,
   "id": "e4a4204b",
   "metadata": {},
   "outputs": [
    {
     "name": "stdout",
     "output_type": "stream",
     "text": [
      "This cake has 3 slices remaining.\n",
      "Cannot sell more slices than we have (3)!\n",
      "Cannot sell zero or negative slices!\n",
      "Cannot sell zero or negative slices!\n"
     ]
    }
   ],
   "source": [
    "# You can edit this code to try different testing cases.\n",
    "result1 = spice_cake.sell(5)\n",
    "result2 = spice_cake.sell(4)\n",
    "result3 = chocolate_cake.sell(-1)\n",
    "result4 = chocolate_cake.sell(0)\n",
    "\n",
    "print(result1)\n",
    "print(result2)\n",
    "print(result3)\n",
    "print(result4)\n"
   ]
  },
  {
   "cell_type": "markdown",
   "id": "fb761bd5",
   "metadata": {},
   "source": [
    "----\n",
    "=======================================================================================================================================\n",
    "----"
   ]
  },
  {
   "cell_type": "markdown",
   "id": "6ae50724",
   "metadata": {},
   "source": [
    "# Challenge 3 Hint: Refactor a class\n",
    "\n",
    "A useful characteristic of classes in Python is that we can set up relationships between them using **inheritance**.  \n",
    "This helps us model our bakery system more effectively as it grows and includes a variety of baked goods—not just cakes.\n",
    "\n",
    "---\n",
    "\n",
    "### Context:\n",
    "As our bakery expands, we’ll begin to sell more than just cakes.  \n",
    "To prepare for this, we need to refactor our code by creating a base class called `Item`.  \n",
    "This class will serve as the **parent class** for everything we sell.\n",
    "\n",
    "---\n",
    "\n",
    "### The `Item` class should have:\n",
    "- `item_type`: a string describing the kind of baked good (e.g., `\"cake\"`)\n",
    "- `price`: an integer or float representing the cost\n",
    "\n",
    "---\n",
    "\n",
    "### Your tasks:\n",
    "- Create a class called `Item` with the attributes `item_type` and `price`.\n",
    "- Modify the existing `Cake` class so that it **inherits from** `Item`.\n",
    "- Set the `item_type` of any `Cake` instance to `\"cake\"`.\n",
    "\n",
    "---\n",
    "\n",
    "### Example:\n",
    "If a `Cake` object is created, its `item_type` should automatically be `\"cake\"` (inherited from `Item`).\n",
    "\n",
    "---\n",
    "\n",
    "This refactor will make it easier to add other baked goods like cookies, pies, or muffins in the future,  \n",
    "all while reusing shared attributes like `item_type` and `price`.\n"
   ]
  },
  {
   "cell_type": "code",
   "execution_count": 20,
   "id": "cbc045bf",
   "metadata": {},
   "outputs": [],
   "source": [
    "# Solution\n",
    "\n",
    "class Item:\n",
    "    def __init__(self, item_type, price):\n",
    "        self.item_type = item_type\n",
    "        self.price = price\n",
    "\n",
    "class Cake(Item):\n",
    "    def __init__(self, kind, price, slices):\n",
    "        super().__init__(\"cake\", price)\n",
    "        self.kind = kind\n",
    "        self.slices = slices\n",
    "\n",
    "spice_cake = Cake(\"spice\", 18, 8)\n",
    "chocolate_cake = Cake(\"chocolate\", 24, 6)"
   ]
  },
  {
   "cell_type": "markdown",
   "id": "7976ee9c",
   "metadata": {},
   "source": [
    "Testing Code: "
   ]
  },
  {
   "cell_type": "code",
   "execution_count": 21,
   "id": "5e62a350",
   "metadata": {},
   "outputs": [
    {
     "name": "stdout",
     "output_type": "stream",
     "text": [
      "True\n",
      "True\n",
      "True\n",
      "True\n"
     ]
    }
   ],
   "source": [
    "# Test cases:\n",
    "result1 = isinstance(spice_cake, Cake)\n",
    "result2 = issubclass(Cake, Item)\n",
    "result3 = hasattr(spice_cake, \"price\")\n",
    "result4 = spice_cake.item_type == \"cake\"\n",
    "\n",
    "print(result1)  # Expected: True\n",
    "print(result2)  # Expected: True\n",
    "print(result3)  # Expected: True\n",
    "print(result4)  # Expected: True"
   ]
  },
  {
   "cell_type": "markdown",
   "id": "de4a7d0f",
   "metadata": {},
   "source": [
    "----\n",
    "=======================================================================================================================================\n",
    "----"
   ]
  },
  {
   "cell_type": "markdown",
   "id": "1d1c292a",
   "metadata": {},
   "source": [
    "# Challenge 4 Hint: Protect an attribute\n",
    "\n",
    "Python objects are great for organizing data—but sometimes we need to **protect** certain attributes from being changed after an object is created.\n",
    "\n",
    "---\n",
    "\n",
    "### Context:\n",
    "Once an item is created in our bakery system, its **price** should not be altered accidentally.  \n",
    "To enforce this, we’ll make the `price` attribute of an item **read-only**.\n",
    "\n",
    "This ensures important data like pricing remains safe from unintended modifications.\n",
    "\n",
    "---\n",
    "\n",
    "### Your task:\n",
    "- Modify the existing `Item` class.\n",
    "- Make the `price` attribute **read-only** using the `@property` decorator.\n",
    "- Do not provide a setter method for `price`.\n",
    "\n",
    "---\n",
    "\n",
    "### Behavior:\n",
    "- If someone tries to assign a new value to `price`, Python should raise an `AttributeError`.\n",
    "\n",
    "---\n",
    "\n",
    "### Example:\n",
    "```bash\n",
    "chocolate_cake.price = 17\n",
    "```\n",
    "    Result: AttributeError"
   ]
  },
  {
   "cell_type": "code",
   "execution_count": 22,
   "id": "280b9e5f",
   "metadata": {},
   "outputs": [],
   "source": [
    "# Solution\n",
    "\n",
    "class Item:\n",
    "    def __init__(self, item_type, price):\n",
    "        self.item_type = item_type\n",
    "        self._price = price\n",
    "   \n",
    "    @property\n",
    "    def price(self):\n",
    "        return self._price\n",
    "\n",
    "\n",
    "class Cake(Item):\n",
    "    def __init__(self, flavor, price, slices):\n",
    "        super().__init__(\"cake\", price)\n",
    "        self.flavor = flavor\n",
    "        self.slices = slices\n",
    "\n",
    "spice_cake = Cake(\"spice\", 18, 8)\n",
    "chocolate_cake = Cake(\"chocolate\", 24, 6)\n"
   ]
  },
  {
   "cell_type": "markdown",
   "id": "9fa99720",
   "metadata": {},
   "source": [
    "Testing Code"
   ]
  },
  {
   "cell_type": "code",
   "execution_count": 23,
   "id": "11377563",
   "metadata": {},
   "outputs": [
    {
     "name": "stdout",
     "output_type": "stream",
     "text": [
      "Test passed: True\n"
     ]
    }
   ],
   "source": [
    "result = False\n",
    "try:\n",
    "    # Attempt to set the price attribute\n",
    "    spice_cake.price = 17\n",
    "except AttributeError:\n",
    "    # Return True if the price attribute cannot be set\n",
    "    result = True\n",
    "\n",
    "print(\"Test passed:\", result)\n"
   ]
  },
  {
   "cell_type": "markdown",
   "id": "b018e8d5",
   "metadata": {},
   "source": [
    "----\n",
    "=======================================================================================================================================\n",
    "----"
   ]
  },
  {
   "cell_type": "markdown",
   "id": "d73af3a8",
   "metadata": {},
   "source": [
    "# Challenge 5 Hint: Compare Instances\n",
    "\n",
    "In our bakery system, not all cakes have the same **price per slice**.  \n",
    "Understanding how much value remains in a partially sold cake can help us manage inventory better.\n",
    "\n",
    "![alt text](image.png)\n",
    "\n",
    "---\n",
    "\n",
    "### Example:\n",
    "- An **8-slice spice cake** costs $18 → $2.25 per slice\n",
    "- A **6-slice chocolate cake** costs $24 → $4 per slice\n",
    "\n",
    "If some slices have been sold, we can calculate the **remaining value** of each cake:\n",
    "\n",
    "\n",
    "---\n",
    "\n",
    "### Your task:\n",
    "Modify the `Cake` class to compare remaining value between two cake instances.\n",
    "\n",
    "You will:\n",
    "- Define the `__eq__()` method for equality (`==`)\n",
    "- Define the `__lt__()` method for less-than (`<`)\n",
    "- Define the `__gt__()` method for greater-than (`>`)\n",
    "\n",
    "Each method should:\n",
    "- Use the calculated `remaining_value` of the cakes\n",
    "- Return a Boolean (`True` or `False`) indicating the result of the comparison\n",
    "\n",
    "---\n",
    "\n",
    "### Attributes involved:\n",
    "- `price`: The price of the whole cake\n",
    "- `slices`: The total number of slices in the cake\n",
    "- `slices_remaining`: How many slices are left\n",
    "\n",
    "---\n",
    "\n",
    "### Example 1:\n",
    "```bash\n",
    "lemon_cake == chocolate_cake\n",
    "```\n",
    "    Result: False\n",
    "\n",
    "```bash\n",
    "spice_cake < lemon_cake\n",
    "```\n",
    "\n",
    "    Result: True or False (depending on remaining slices)"
   ]
  },
  {
   "cell_type": "code",
   "execution_count": 24,
   "id": "cdbaec92",
   "metadata": {},
   "outputs": [
    {
     "data": {
      "text/plain": [
       "'This cake has 2 slices remaining.'"
      ]
     },
     "execution_count": 24,
     "metadata": {},
     "output_type": "execute_result"
    }
   ],
   "source": [
    "# Solution\n",
    "\n",
    "show_expected_result = False\n",
    "show_hints = False\n",
    "\n",
    "class Item:\n",
    "    def __init__(self, item_type, price):\n",
    "        self.item_type = item_type\n",
    "        self._price = price\n",
    "\n",
    "    @property\n",
    "    def price(self):\n",
    "        return self._price\n",
    "\n",
    "class Cake(Item):\n",
    "    def __init__(self, flavor, price, slices):\n",
    "        super().__init__(\"cake\", price)\n",
    "        self.flavor = flavor\n",
    "        self.slices = slices\n",
    "        self.slices_remaining = slices\n",
    "\n",
    "    def sell(self, count): \n",
    "        if count <= 0:\n",
    "            return \"Cannot sell zero or negative slices!\"\n",
    "        elif self.slices_remaining - count < 0:\n",
    "            return f\"Cannot sell more slices than we have ({self.slices_remaining})!\"\n",
    "        else:\n",
    "            self.slices_remaining -= count\n",
    "            return f\"This cake has {self.slices_remaining} slices remaining.\"\n",
    "\n",
    "    def remaining_value(self):\n",
    "        return (self.price / self.slices) * self.slices_remaining\n",
    "\n",
    "    def __eq__(self, other):\n",
    "        if not isinstance(other, Cake):\n",
    "            return NotImplemented\n",
    "        return self.remaining_value() == other.remaining_value()\n",
    "\n",
    "    def __lt__(self, other):\n",
    "        if not isinstance(other, Cake):\n",
    "            return NotImplemented\n",
    "        return self.remaining_value() < other.remaining_value()\n",
    "\n",
    "    def __gt__(self, other):\n",
    "        if not isinstance(other, Cake):\n",
    "            return NotImplemented\n",
    "        return self.remaining_value() > other.remaining_value()\n",
    "\n",
    "spice_cake = Cake(\"spice\", 18, 8)\n",
    "chocolate_cake = Cake(\"chocolate\", 24, 6)\n",
    "\n",
    "spice_cake.sell(3)\n",
    "chocolate_cake.sell(4)\n",
    "\n"
   ]
  },
  {
   "cell_type": "markdown",
   "id": "db7bb1cf",
   "metadata": {},
   "source": [
    "Code Testing"
   ]
  },
  {
   "cell_type": "code",
   "execution_count": 25,
   "id": "c4e37199",
   "metadata": {},
   "outputs": [
    {
     "name": "stdout",
     "output_type": "stream",
     "text": [
      "Equal: False\n",
      "Greater: True\n",
      "Less: False\n"
     ]
    }
   ],
   "source": [
    "# Compare cakes\n",
    "try:\n",
    "    result1 = (spice_cake == chocolate_cake)\n",
    "except Exception as e:\n",
    "    print(f\"Your code raised an exception when called:\\n{e}\")\n",
    "    result1 = None\n",
    "\n",
    "try:    \n",
    "    result2 = (spice_cake > chocolate_cake)\n",
    "except Exception as e:\n",
    "    print(f\"Your code raised an exception when called:\\n{e}\")\n",
    "    result2 = None\n",
    "\n",
    "try:\n",
    "    result3 = (spice_cake < chocolate_cake)\n",
    "except Exception as e:\n",
    "    print(f\"Your code raised an exception when called:\\n{e}\")\n",
    "    result3 = None\n",
    "\n",
    "# Print results\n",
    "print(\"Equal:\", result1)\n",
    "print(\"Greater:\", result2)\n",
    "print(\"Less:\", result3)"
   ]
  },
  {
   "cell_type": "markdown",
   "id": "7e6efa10",
   "metadata": {},
   "source": [
    "----\n",
    "=======================================================================================================================================\n",
    "----"
   ]
  }
 ],
 "metadata": {
  "kernelspec": {
   "display_name": "Python 3",
   "language": "python",
   "name": "python3"
  },
  "language_info": {
   "codemirror_mode": {
    "name": "ipython",
    "version": 3
   },
   "file_extension": ".py",
   "mimetype": "text/x-python",
   "name": "python",
   "nbconvert_exporter": "python",
   "pygments_lexer": "ipython3",
   "version": "3.10.12"
  }
 },
 "nbformat": 4,
 "nbformat_minor": 5
}
