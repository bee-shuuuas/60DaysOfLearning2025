{
  "nbformat": 4,
  "nbformat_minor": 0,
  "metadata": {
    "colab": {
      "provenance": []
    },
    "kernelspec": {
      "name": "python3",
      "display_name": "Python 3"
    },
    "language_info": {
      "name": "python"
    }
  },
  "cells": [
    {
      "cell_type": "markdown",
      "source": [
        "# Using Built-In Functions (Using Pytorch)"
      ],
      "metadata": {
        "id": "4cQjmpQ6yWU7"
      }
    },
    {
      "cell_type": "code",
      "execution_count": 1,
      "metadata": {
        "colab": {
          "base_uri": "https://localhost:8080/"
        },
        "id": "ehMTVr8ryMiV",
        "outputId": "c3eedaf1-5af8-4323-90f8-a460fa70c64c"
      },
      "outputs": [
        {
          "output_type": "execute_result",
          "data": {
            "text/plain": [
              "[tensor([[102.,  43.,  37.],\n",
              "         [ 82.,  70.,  45.],\n",
              "         [ 91.,  88.,  64.],\n",
              "         [ 69.,  96.,  70.],\n",
              "         [ 87., 134.,  58.]]),\n",
              " tensor([[ 22.,  37.],\n",
              "         [ 65.,  75.],\n",
              "         [ 81., 101.],\n",
              "         [103., 119.],\n",
              "         [119., 133.]])]"
            ]
          },
          "metadata": {},
          "execution_count": 1
        }
      ],
      "source": [
        "import torch\n",
        "import numpy as np\n",
        "import torch.nn as nn\n",
        "from torch.utils.data import TensorDataset, DataLoader\n",
        "\n",
        "# Input (temp, rainfall, humidity)\n",
        "inputs = np.array([[73, 67, 43],\n",
        "                   [91, 88, 64],\n",
        "                   [87, 134, 58],\n",
        "                   [102, 43, 37],\n",
        "                   [69, 96, 70],\n",
        "                   [85, 100, 60],\n",
        "                   [95, 80, 55],\n",
        "                   [105, 120, 75],\n",
        "                   [78, 90, 50],\n",
        "                   [82, 70, 45]], dtype='float32')\n",
        "\n",
        "# Targets (apples, oranges)\n",
        "targets = np.array([[56, 70],\n",
        "                    [81, 101],\n",
        "                    [119, 133],\n",
        "                    [22, 37],\n",
        "                    [103, 119],\n",
        "                    [98, 110],\n",
        "                    [88, 95],\n",
        "                    [115, 140],\n",
        "                    [76, 85],\n",
        "                    [65, 75]], dtype='float32')\n",
        "inputs = torch.from_numpy(inputs)\n",
        "targets = torch.from_numpy(targets)"
      ]
    },
    {
      "cell_type": "code",
      "source": [
        "tensor_ds = TensorDataset(inputs, targets)\n",
        "tensor_dl = DataLoader(tensor_ds, batch_size=5, shuffle=True)\n",
        "\n",
        "next(iter(tensor_dl))"
      ],
      "metadata": {
        "colab": {
          "base_uri": "https://localhost:8080/"
        },
        "id": "lSiMQjezybPO",
        "outputId": "931bcb32-635b-415c-9ca1-11396c692b44"
      },
      "execution_count": 2,
      "outputs": [
        {
          "output_type": "execute_result",
          "data": {
            "text/plain": [
              "[tensor([[102.,  43.,  37.],\n",
              "         [ 69.,  96.,  70.],\n",
              "         [ 82.,  70.,  45.],\n",
              "         [ 78.,  90.,  50.],\n",
              "         [ 87., 134.,  58.]]),\n",
              " tensor([[ 22.,  37.],\n",
              "         [103., 119.],\n",
              "         [ 65.,  75.],\n",
              "         [ 76.,  85.],\n",
              "         [119., 133.]])]"
            ]
          },
          "metadata": {},
          "execution_count": 2
        }
      ]
    },
    {
      "cell_type": "code",
      "source": [
        "tensor_ds"
      ],
      "metadata": {
        "colab": {
          "base_uri": "https://localhost:8080/"
        },
        "id": "cTASubswyd43",
        "outputId": "17d5f02d-0e06-4440-88ae-6d196e292310"
      },
      "execution_count": 3,
      "outputs": [
        {
          "output_type": "execute_result",
          "data": {
            "text/plain": [
              "<torch.utils.data.dataset.TensorDataset at 0x7b9b171fb010>"
            ]
          },
          "metadata": {},
          "execution_count": 3
        }
      ]
    },
    {
      "cell_type": "code",
      "source": [
        "#Replacing Model with built-in function\n",
        "class SimpleNN(nn.Module):\n",
        "  def __init__(self):\n",
        "    super().__init__()\n",
        "    self.linear1 = nn.Linear(3, 4)\n",
        "    self.act1 = nn.ReLU()\n",
        "    self.linear2 = nn.Linear(4, 2)\n",
        "\n",
        "  def forward(self, x):\n",
        "    x = self.linear1(x)\n",
        "    x = self.act1(x)\n",
        "    x = self.linear2(x)\n",
        "    return x\n",
        "\n",
        "model = SimpleNN()\n",
        "# for name, params in model.named_parameters():\n",
        "#   print(\"Name:\", name)\n",
        "#   print(\"Param\", params)\n",
        "\n",
        "\n",
        "#Replacing MSE with built-in function\n",
        "# mse = torch.nn.MSELoss()\n",
        "mae = torch.nn.L1Loss()\n",
        "\n",
        "#Optimizer\n",
        "opt = torch.optim.Adam(model.parameters(), lr = 0.00001)\n",
        "\n",
        "# Training step\n",
        "def fit(num_epochs, model, loss_fn, opt):\n",
        "  for epoch in range(num_epochs):\n",
        "    preds = model(inputs)\n",
        "    loss = loss_fn(preds, targets)\n",
        "\n",
        "    loss.backward()\n",
        "    if epoch%100 == 99:\n",
        "      print(loss.item())\n",
        "\n",
        "    opt.step()\n",
        "    opt.zero_grad()\n",
        "\n",
        "\n",
        "opt_SGD = torch.optim.SGD(model.parameters(), lr = 0.00001)\n",
        "\n",
        "# Training step\n",
        "def fit_SGD(num_epochs, model, loss_fn, opt):\n",
        "  for epoch in range(num_epochs):\n",
        "    for xb, yb in tensor_dl:\n",
        "      preds = model(xb)\n",
        "      loss = loss_fn(preds, yb)\n",
        "\n",
        "      loss.backward()\n",
        "      opt.step()\n",
        "      opt.zero_grad()\n",
        "    if epoch%100 == 99:\n",
        "      print(loss.item())\n",
        "\n",
        "\n",
        "\n",
        "# fit(1000, model, mae, opt)\n",
        "fit_SGD(1000, model, mae, opt_SGD)\n",
        "preds = model(inputs)\n",
        "print(preds)"
      ],
      "metadata": {
        "colab": {
          "base_uri": "https://localhost:8080/"
        },
        "id": "bRCa4R88ye3n",
        "outputId": "8fd7a74e-762c-4618-a1e1-31f3f16e8388"
      },
      "execution_count": 4,
      "outputs": [
        {
          "output_type": "stream",
          "name": "stdout",
          "text": [
            "99.60823059082031\n",
            "107.70174407958984\n",
            "78.2110595703125\n",
            "88.166259765625\n",
            "92.93743133544922\n",
            "99.16616821289062\n",
            "93.36399841308594\n",
            "72.94586944580078\n",
            "104.86198425292969\n",
            "107.98197937011719\n",
            "tensor([[ 0.2081,  0.0700],\n",
            "        [ 0.2081,  0.0700],\n",
            "        [-0.9773,  0.0471],\n",
            "        [-0.9330, -0.2344],\n",
            "        [ 0.2081,  0.0700],\n",
            "        [ 0.2081,  0.0700],\n",
            "        [ 0.2081,  0.0700],\n",
            "        [ 0.2081,  0.0700],\n",
            "        [ 0.2081,  0.0700],\n",
            "        [ 0.2081,  0.0700]], grad_fn=<AddmmBackward0>)\n"
          ]
        }
      ]
    },
    {
      "cell_type": "code",
      "source": [],
      "metadata": {
        "id": "hwZ2x3Wnyp5k"
      },
      "execution_count": null,
      "outputs": []
    }
  ]
}