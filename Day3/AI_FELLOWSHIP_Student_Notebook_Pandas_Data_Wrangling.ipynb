{
  "cells": [
    {
      "cell_type": "markdown",
      "metadata": {
        "id": "p814sgXJERi0"
      },
      "source": [
        "![image](https://analyticsindiamag.com/wp-content/uploads/2020/04/Screenshot-2020-04-15-at-10.08.12-AM.png)"
      ]
    },
    {
      "cell_type": "markdown",
      "metadata": {
        "id": "0IFzERN2E3GJ"
      },
      "source": [
        "## Business Problem Understanding\n",
        "\n",
        "- According to the World Health Organization (WHO) stroke is the 2nd leading cause of death globally, responsible for approximately 11% of total deaths.\n",
        "\n",
        "- This dataset is used to predict whether a patient is likely to get stroke based on the input parameters like gender, age, various diseases, and smoking status.\n",
        "\n",
        "- Each row in the data provides relavant information about the patient.\n",
        "\n",
        "## Attribute Information\n",
        "- 1) id: unique identifier\n",
        "- 2) gender: \"Male\", \"Female\" or \"Other\"\n",
        "- 3) age: age of the patient\n",
        "- 4) hypertension: 0 if the patient doesn't have hypertension, 1 if the patient has hypertension\n",
        "- 5) heart_disease: 0 if the patient doesn't have any heart diseases, 1 if the patient has a heart disease\n",
        "- 6) ever_married: \"No\" or \"Yes\"\n",
        "- 7) work_type: \"children\", \"Govt_jov\", \"Never_worked\", \"Private\" or \"Self-employed\"\n",
        "- 8) Residence_type: \"Rural\" or \"Urban\"\n",
        "- 9) avg_glucose_level: average glucose level in blood\n",
        "- 10) bmi: body mass index\n",
        "- 11) smoking_status: \"formerly smoked\", \"never smoked\", \"smokes\" or \"Unknown\"*\n",
        "- 12) stroke: 1 if the patient had a stroke or 0 if not\n",
        "\n",
        "*Note: \"Unknown\" in smoking_status means that the information is unavailable for this patient\n",
        "\n"
      ]
    },
    {
      "cell_type": "markdown",
      "metadata": {
        "id": "c1HtQqj9F9vh"
      },
      "source": [
        "## Data Collection/Data Import"
      ]
    },
    {
      "cell_type": "markdown",
      "metadata": {
        "id": "6tqw3sJpFrG5"
      },
      "source": [
        "**The dataset is available at this google drive link:**\n",
        "**Use gdown to download this in the colab environment directly.**\n",
        "\n",
        "!gdown https://drive.google.com/uc?id=1vs0cmeKYeht_d07C1HvHFUIxD-IfEACL\n"
      ]
    },
    {
      "cell_type": "code",
      "execution_count": 5,
      "metadata": {
        "id": "wc7c2HmyDPlg"
      },
      "outputs": [
        {
          "name": "stdout",
          "output_type": "stream",
          "text": [
            "Downloading...\n",
            "From: https://drive.google.com/uc?id=1vs0cmeKYeht_d07C1HvHFUIxD-IfEACL\n",
            "To: /media/biswash/New Volume/fm 024/video/Full/Module 2; Data Wrangling/Unit 3 ; Class Recording Nepali/Chapter 1; Data Wrangling with Pandas/Resources/stroke_data.csv\n",
            "100%|█████████████████████████████████████████| 484k/484k [00:03<00:00, 129kB/s]\n"
          ]
        }
      ],
      "source": [
        "## write your code here\n"
      ]
    },
    {
      "cell_type": "markdown",
      "metadata": {
        "id": "BcEVPy03Ef6X"
      },
      "source": [
        "## Importing Necessary libraries"
      ]
    },
    {
      "cell_type": "code",
      "execution_count": 3,
      "metadata": {
        "id": "WVMCc1INEhvr"
      },
      "outputs": [
        {
          "name": "stderr",
          "output_type": "stream",
          "text": [
            "/usr/lib/python3/dist-packages/scipy/__init__.py:146: UserWarning: A NumPy version >=1.17.3 and <1.25.0 is required for this version of SciPy (detected version 1.26.4\n",
            "  warnings.warn(f\"A NumPy version >={np_minversion} and <{np_maxversion}\"\n"
          ]
        }
      ],
      "source": [
        "import os\n",
        "import gdown\n",
        "import numpy as np\n",
        "import pandas as pd\n",
        "import seaborn as sns\n",
        "import matplotlib.pyplot as plt"
      ]
    },
    {
      "cell_type": "markdown",
      "metadata": {
        "id": "gIPI9WxRGWvx"
      },
      "source": [
        "## Importing Data From CSV File Using Pandas"
      ]
    },
    {
      "cell_type": "code",
      "execution_count": null,
      "metadata": {
        "id": "zIwmS8GTGWNr"
      },
      "outputs": [],
      "source": [
        "## write your code here\n"
      ]
    },
    {
      "cell_type": "markdown",
      "metadata": {
        "id": "LIC0Mi2kGlvc"
      },
      "source": [
        "## Data Understanding:"
      ]
    },
    {
      "cell_type": "markdown",
      "metadata": {
        "id": "0mSxRinbGgCh"
      },
      "source": [
        "### Print the first five rows of the pandas dataframe"
      ]
    },
    {
      "cell_type": "code",
      "execution_count": null,
      "metadata": {
        "id": "6VMFr1B6GQri"
      },
      "outputs": [],
      "source": [
        "## write your code here\n"
      ]
    },
    {
      "cell_type": "markdown",
      "metadata": {
        "id": "aMPQwK1CG4N4"
      },
      "source": [
        "## Print the last five rows of the pandas dataframe"
      ]
    },
    {
      "cell_type": "code",
      "execution_count": null,
      "metadata": {
        "id": "ETMqdQzIGqwm"
      },
      "outputs": [],
      "source": [
        "## write your code here\n"
      ]
    },
    {
      "cell_type": "markdown",
      "metadata": {
        "id": "IzKZZ5aTG_SE"
      },
      "source": [
        "## What is the shape of the dataset?"
      ]
    },
    {
      "cell_type": "code",
      "execution_count": null,
      "metadata": {
        "id": "Z2GuUdYEG8zb"
      },
      "outputs": [],
      "source": [
        "## write your code here\n"
      ]
    },
    {
      "cell_type": "markdown",
      "metadata": {
        "id": "SezKlK60HIaF"
      },
      "source": [
        "## What are the name of the columns in the dataframe?"
      ]
    },
    {
      "cell_type": "code",
      "execution_count": null,
      "metadata": {
        "id": "v6NSIuTcHEaO"
      },
      "outputs": [],
      "source": [
        "## write your code here\n"
      ]
    },
    {
      "cell_type": "markdown",
      "metadata": {
        "id": "sxCe3aFGHPqT"
      },
      "source": [
        "### What are the datatypes of each feature in the dataset?"
      ]
    },
    {
      "cell_type": "code",
      "execution_count": null,
      "metadata": {
        "id": "nORQCnZKHNed"
      },
      "outputs": [],
      "source": [
        "## write your code here\n"
      ]
    },
    {
      "cell_type": "markdown",
      "metadata": {
        "id": "BTrz_4nDKRIY"
      },
      "source": [
        "## Descriptive Statistics\n",
        "\n",
        "Descriptive statistics involve a set of summary measures that provide a snapshot of the dataset's characteristics. These measures help us understand the distribution, central tendency, and variability within the data.\n",
        "\n",
        "- Mean: The average value of the data.\n",
        "- Median: The middle value when the data is sorted.\n",
        "- Mode: The most frequently occurring value.\n",
        "- Range: The difference between the maximum and minimum values.\n",
        "- Standard Deviation: A more interpretable measure of data spread.\n",
        "These statistics provide a preliminary understanding of the dataset, which is valuable for subsequent analysis and decision-making.\n",
        "\n"
      ]
    },
    {
      "cell_type": "markdown",
      "metadata": {
        "id": "PJh2DGMuKdc-"
      },
      "source": [
        "### How to see the descriptive statistics of a dataset?"
      ]
    },
    {
      "cell_type": "code",
      "execution_count": null,
      "metadata": {
        "id": "OMzcCYTzKYpc"
      },
      "outputs": [],
      "source": [
        "## write your code here?\n"
      ]
    },
    {
      "cell_type": "markdown",
      "metadata": {
        "id": "jYm5dkRQHdQh"
      },
      "source": [
        "## How to select gender column from the pandas dataframe?"
      ]
    },
    {
      "cell_type": "code",
      "execution_count": null,
      "metadata": {
        "id": "K1Quzev3HWX5"
      },
      "outputs": [],
      "source": [
        "## write your code here\n"
      ]
    },
    {
      "cell_type": "markdown",
      "metadata": {
        "id": "O87Q-Pv2HuSV"
      },
      "source": [
        "### How to select multiple columns : age, gender and bmi?"
      ]
    },
    {
      "cell_type": "code",
      "execution_count": null,
      "metadata": {
        "id": "LhyYmkTKHm0A"
      },
      "outputs": [],
      "source": [
        "## write your code here\n"
      ]
    },
    {
      "cell_type": "markdown",
      "metadata": {
        "id": "Na9-3HaAH-T2"
      },
      "source": [
        "## How to select the 7th row of the pandas dataframe?\n"
      ]
    },
    {
      "cell_type": "code",
      "execution_count": null,
      "metadata": {
        "id": "DxKWEAGaH2FZ"
      },
      "outputs": [],
      "source": [
        "## write your code here\n"
      ]
    },
    {
      "cell_type": "markdown",
      "metadata": {
        "id": "SWKXH7e0IHVF"
      },
      "source": [
        "## How to select the 4th column from the pandas dataframe?\n"
      ]
    },
    {
      "cell_type": "code",
      "execution_count": null,
      "metadata": {
        "id": "18TwG_-gICUV"
      },
      "outputs": [],
      "source": [
        "## write your code here\n"
      ]
    },
    {
      "cell_type": "markdown",
      "metadata": {
        "id": "2mMuMgLRIbek"
      },
      "source": [
        "## How to select 20th to 30th row and 3rd to 7th column in pandas dataframe?"
      ]
    },
    {
      "cell_type": "code",
      "execution_count": null,
      "metadata": {
        "id": "M6MQ0GBAIPet"
      },
      "outputs": [],
      "source": [
        "## write your code here\n"
      ]
    },
    {
      "cell_type": "markdown",
      "metadata": {
        "id": "mOYlOO6IIpvf"
      },
      "source": [
        "## How to select 3rd and 100th row & 4th and 10th column in a pandas dataframe?"
      ]
    },
    {
      "cell_type": "code",
      "execution_count": null,
      "metadata": {
        "id": "RZBxJJuaIe5k"
      },
      "outputs": [],
      "source": [
        "## write your code here\n"
      ]
    },
    {
      "cell_type": "markdown",
      "metadata": {
        "id": "qJDMEk3XJBKL"
      },
      "source": [
        "## Select only those rows with gender 'Male'"
      ]
    },
    {
      "cell_type": "code",
      "execution_count": null,
      "metadata": {
        "id": "Onnpibs2I0gm"
      },
      "outputs": [],
      "source": [
        "## write your code here\n"
      ]
    },
    {
      "cell_type": "markdown",
      "metadata": {
        "id": "l8shY_roJbQr"
      },
      "source": [
        "## Select all those rows which have avg_glucose_level greater than 100 and columns gender, age, bmi and avg_glucose_level"
      ]
    },
    {
      "cell_type": "code",
      "execution_count": null,
      "metadata": {
        "id": "vBmeU7h7JIk6"
      },
      "outputs": [],
      "source": [
        "## write your code here\n"
      ]
    },
    {
      "cell_type": "markdown",
      "metadata": {
        "id": "ZPwD6WERJxfG"
      },
      "source": [
        "## Select all those Females who are greater than 50 years old?"
      ]
    },
    {
      "cell_type": "code",
      "execution_count": null,
      "metadata": {
        "id": "uXYoVDsvJk0c"
      },
      "outputs": [],
      "source": [
        "## write your code here\n"
      ]
    },
    {
      "cell_type": "markdown",
      "metadata": {
        "id": "MoGtqDg-LDUQ"
      },
      "source": [
        "## Data Wrangling\n",
        "\n",
        "- Data Inspection\n",
        "  - Checking Duplicate Enties\n",
        "  - Checking Missing Values\n",
        "  - Checking standard format\n",
        "  - Checking data entry typos and errors\n",
        "- Data Cleaning\n",
        "  - Removing Duplicates\n",
        "  - Handling Missing Values\n",
        "  - Standardizing Formats\n",
        "  - Correcting Errors\n",
        "- Data Transformation\n",
        "  - Feature Engineering\n",
        "  - Normalization/Scaling\n",
        "  - One-Hot Encoding\n",
        "- Data Integration\n",
        "- Data Reduction\n",
        "- Data Formatting\n",
        "- Data Enrichment\n",
        "- Data Validation\n",
        "- Documentation\n",
        "- Exploratory Data Analysis (EDA)\n"
      ]
    },
    {
      "cell_type": "markdown",
      "metadata": {
        "id": "Tv59NmshLk9h"
      },
      "source": [
        "### Checking Duplicate Entries\n",
        "- Check if duplicate entries are present or not.\n",
        "- If present find how many of duplicate entries are there?"
      ]
    },
    {
      "cell_type": "code",
      "execution_count": null,
      "metadata": {
        "id": "Lv4Gcme6KDXH"
      },
      "outputs": [],
      "source": [
        "## write your code here\n"
      ]
    },
    {
      "cell_type": "code",
      "execution_count": null,
      "metadata": {
        "id": "ZvMjZ2T-KpId"
      },
      "outputs": [],
      "source": [
        "## write your code here\n"
      ]
    },
    {
      "cell_type": "markdown",
      "metadata": {
        "id": "uBv2FTw7L7gK"
      },
      "source": [
        "## Remove Duplicate Entries\n",
        "\n",
        "- Remove all those rows which has duplicate entries"
      ]
    },
    {
      "cell_type": "code",
      "execution_count": null,
      "metadata": {
        "id": "VUKSJBHbLtHB"
      },
      "outputs": [],
      "source": [
        "## write your code here\n"
      ]
    },
    {
      "cell_type": "code",
      "execution_count": null,
      "metadata": {
        "id": "Rn_WXSMUMEJI"
      },
      "outputs": [],
      "source": [
        "## write your code here\n"
      ]
    },
    {
      "cell_type": "markdown",
      "metadata": {
        "id": "ZIQdCWmjMi8R"
      },
      "source": [
        "## Checking Missing Values\n",
        "- Find missing values (NAN) values in the datasets\n",
        "- Find columns which has missing values with their frequency"
      ]
    },
    {
      "cell_type": "code",
      "execution_count": null,
      "metadata": {
        "id": "v8cakW4cMNKi"
      },
      "outputs": [],
      "source": [
        "## write your code here\n"
      ]
    },
    {
      "cell_type": "markdown",
      "metadata": {
        "id": "wbKDGBTGMwof"
      },
      "source": [
        "## Visualize missing values using heatmaps"
      ]
    },
    {
      "cell_type": "code",
      "execution_count": null,
      "metadata": {
        "id": "UvY_SV-TMNNX"
      },
      "outputs": [],
      "source": [
        "## write your code here\n"
      ]
    },
    {
      "cell_type": "markdown",
      "metadata": {
        "id": "DcrkiP18NfjW"
      },
      "source": [
        "## Handling Missing Values\n",
        "\n",
        "- Handle missing values for ever_married column, avg_glucose_level and weight_in_kg column"
      ]
    },
    {
      "cell_type": "code",
      "execution_count": null,
      "metadata": {
        "id": "2-idkbgOMNP9"
      },
      "outputs": [],
      "source": [
        "## write your code here\n"
      ]
    },
    {
      "cell_type": "code",
      "execution_count": null,
      "metadata": {
        "id": "DL0S3d5FMNS9"
      },
      "outputs": [],
      "source": [
        "## write your code here\n"
      ]
    },
    {
      "cell_type": "code",
      "execution_count": null,
      "metadata": {
        "id": "8FNdApHgNoSv"
      },
      "outputs": [],
      "source": [
        "## write your code here\n",
        "\n"
      ]
    },
    {
      "cell_type": "code",
      "execution_count": null,
      "metadata": {
        "id": "8VV8AGgFN6VT"
      },
      "outputs": [],
      "source": [
        "## write your code here\n",
        "\n"
      ]
    },
    {
      "cell_type": "markdown",
      "metadata": {
        "id": "ss5BBdL5nhII"
      },
      "source": [
        "## Checking missing values for weight_in_kg and bmi columns"
      ]
    },
    {
      "cell_type": "code",
      "execution_count": null,
      "metadata": {
        "id": "6tyjr5pmOhye"
      },
      "outputs": [],
      "source": [
        "## write your code here\n"
      ]
    },
    {
      "cell_type": "code",
      "execution_count": null,
      "metadata": {
        "id": "GVvrnFyfOdVN"
      },
      "outputs": [],
      "source": [
        "## write your code here\n"
      ]
    },
    {
      "cell_type": "markdown",
      "metadata": {
        "id": "fAQrvTXqnq9R"
      },
      "source": [
        "## Check relationship between bmi and height_in_m whether it can be used to fill missing values in bmi (use scatterplot to visually inspect relationship)\n"
      ]
    },
    {
      "cell_type": "code",
      "execution_count": null,
      "metadata": {
        "id": "Gokj-af6OfRj"
      },
      "outputs": [],
      "source": [
        "## write your code here\n"
      ]
    },
    {
      "cell_type": "code",
      "execution_count": null,
      "metadata": {
        "id": "Ke6kWxX_PIBj"
      },
      "outputs": [],
      "source": [
        "## write your code here\n"
      ]
    },
    {
      "cell_type": "code",
      "execution_count": null,
      "metadata": {
        "id": "GB1WVuZOPWb1"
      },
      "outputs": [],
      "source": [
        "## write your code here\n"
      ]
    },
    {
      "cell_type": "code",
      "execution_count": null,
      "metadata": {
        "id": "Bdh26tyKPhPP"
      },
      "outputs": [],
      "source": [
        "## write your code here\n"
      ]
    },
    {
      "cell_type": "markdown",
      "metadata": {
        "id": "G5oV7TZHP_h3"
      },
      "source": [
        "## Exploratory Data Analysis\n",
        "\n",
        "- Univariate Analysis: Studying one variable at a time\n",
        "- Bivariate Analysis: Studying two variables at a time\n",
        "- Multivariate Analysis: Studying multiple variables at a time\n",
        "- We need to investigate each feature properly"
      ]
    },
    {
      "cell_type": "code",
      "execution_count": null,
      "metadata": {
        "id": "68NeELsnQYLe"
      },
      "outputs": [],
      "source": [
        "## write your code here\n"
      ]
    },
    {
      "cell_type": "markdown",
      "metadata": {
        "id": "6ncE8puRQV3G"
      },
      "source": [
        "## id feature"
      ]
    },
    {
      "cell_type": "code",
      "execution_count": null,
      "metadata": {
        "id": "-H5ovpAmPjbL"
      },
      "outputs": [],
      "source": [
        "## write your code here\n"
      ]
    },
    {
      "cell_type": "code",
      "execution_count": null,
      "metadata": {
        "id": "KepFLzUMQeMD"
      },
      "outputs": [],
      "source": []
    },
    {
      "cell_type": "markdown",
      "metadata": {
        "id": "72T2_GNdQj90"
      },
      "source": [
        "## gender"
      ]
    },
    {
      "cell_type": "code",
      "execution_count": null,
      "metadata": {
        "id": "UtV3KGWJQfpS"
      },
      "outputs": [],
      "source": [
        "## write your code here (check dtypes first)\n"
      ]
    },
    {
      "cell_type": "code",
      "execution_count": null,
      "metadata": {
        "id": "k0YlhcJaQnaj"
      },
      "outputs": [],
      "source": [
        "## write your code here\n"
      ]
    },
    {
      "cell_type": "code",
      "execution_count": null,
      "metadata": {
        "id": "qt7WIpkcQr2q"
      },
      "outputs": [],
      "source": [
        "## write your code here for calculating frequency count of gender column\n"
      ]
    },
    {
      "cell_type": "code",
      "execution_count": null,
      "metadata": {
        "id": "htc1l7qRQ7uY"
      },
      "outputs": [],
      "source": []
    },
    {
      "cell_type": "code",
      "execution_count": null,
      "metadata": {
        "id": "3t3teBBpQ-G7"
      },
      "outputs": [],
      "source": [
        "## write your code here\n"
      ]
    },
    {
      "cell_type": "code",
      "execution_count": null,
      "metadata": {
        "id": "IfwE2PwgRVjP"
      },
      "outputs": [],
      "source": []
    },
    {
      "cell_type": "markdown",
      "metadata": {
        "id": "mvVf-tfFoV9t"
      },
      "source": [
        "## Create Piechart Or Bargraph For Univariate Analysis Of Categorical Feature"
      ]
    },
    {
      "cell_type": "code",
      "execution_count": null,
      "metadata": {
        "id": "eSD2OxtfRXIk"
      },
      "outputs": [],
      "source": [
        "## write your code here\n"
      ]
    },
    {
      "cell_type": "markdown",
      "metadata": {
        "id": "Hi_BQvAkSDAj"
      },
      "source": [
        "## smoking status"
      ]
    },
    {
      "cell_type": "code",
      "execution_count": null,
      "metadata": {
        "id": "N8hTdzjQRk6O"
      },
      "outputs": [],
      "source": [
        "## write your code here\n"
      ]
    },
    {
      "cell_type": "code",
      "execution_count": null,
      "metadata": {
        "id": "86qKBQ95SOWZ"
      },
      "outputs": [],
      "source": [
        "## write your code here\n"
      ]
    },
    {
      "cell_type": "code",
      "execution_count": null,
      "metadata": {
        "id": "YaDqAvGpSWwY"
      },
      "outputs": [],
      "source": [
        "## write your code here\n"
      ]
    },
    {
      "cell_type": "code",
      "execution_count": null,
      "metadata": {
        "id": "r92tbwSJSkIv"
      },
      "outputs": [],
      "source": [
        "## write your code here\n"
      ]
    },
    {
      "cell_type": "code",
      "execution_count": null,
      "metadata": {
        "id": "AjTVNVxiSwFm"
      },
      "outputs": [],
      "source": []
    },
    {
      "cell_type": "code",
      "execution_count": null,
      "metadata": {
        "id": "SvLZymRpTFKs"
      },
      "outputs": [],
      "source": []
    },
    {
      "cell_type": "markdown",
      "metadata": {
        "id": "vpYyqjGNophN"
      },
      "source": [
        "## Plot figure (Barchart)"
      ]
    },
    {
      "cell_type": "code",
      "execution_count": null,
      "metadata": {
        "id": "FhzyX-NtTXQB"
      },
      "outputs": [],
      "source": []
    },
    {
      "cell_type": "code",
      "execution_count": null,
      "metadata": {
        "id": "aLV1D1P0TH0S"
      },
      "outputs": [],
      "source": [
        "## write your code here (use seaborn)\n"
      ]
    },
    {
      "cell_type": "markdown",
      "metadata": {
        "id": "CF7Nkt_2T3bM"
      },
      "source": [
        "## hypertension"
      ]
    },
    {
      "cell_type": "code",
      "execution_count": null,
      "metadata": {
        "id": "JJtYr91WT6kc"
      },
      "outputs": [],
      "source": [
        "## write your code here\n"
      ]
    },
    {
      "cell_type": "code",
      "execution_count": null,
      "metadata": {
        "id": "VmXA47dSUChR"
      },
      "outputs": [],
      "source": [
        "## write your code here (show graph)\n"
      ]
    },
    {
      "cell_type": "markdown",
      "metadata": {
        "id": "-1CQbv7iUbcl"
      },
      "source": [
        "## stroke feature"
      ]
    },
    {
      "cell_type": "code",
      "execution_count": null,
      "metadata": {
        "id": "HsJogkAMUdMB"
      },
      "outputs": [],
      "source": [
        "## write your code here\n"
      ]
    },
    {
      "cell_type": "code",
      "execution_count": null,
      "metadata": {
        "id": "_D-g2NbkUdSj"
      },
      "outputs": [],
      "source": [
        "## write your code here(piechart)\n"
      ]
    },
    {
      "cell_type": "markdown",
      "metadata": {
        "id": "gTTbq1PiUR32"
      },
      "source": [
        "# Bivariate Analysis\n",
        "## Is there a chance that patients with hypertension has more likely to get a stroke or not? (cross_tab function)"
      ]
    },
    {
      "cell_type": "code",
      "execution_count": null,
      "metadata": {
        "id": "ThzCvC9sTl5n"
      },
      "outputs": [],
      "source": [
        "## write your code here\n"
      ]
    },
    {
      "cell_type": "markdown",
      "metadata": {
        "id": "LtsOO7YmV0eD"
      },
      "source": [
        "## Hypothesis Testing (Chisquare test for Independence)\n",
        "\n",
        "\n",
        "chi2, p, dof, expected = chi2_contingency(stroke_hypertension_df)"
      ]
    },
    {
      "cell_type": "code",
      "execution_count": null,
      "metadata": {
        "id": "aBEHqaZypJhz"
      },
      "outputs": [],
      "source": []
    },
    {
      "cell_type": "code",
      "execution_count": null,
      "metadata": {
        "id": "-9vhMDdqV01Q"
      },
      "outputs": [],
      "source": [
        "from scipy.stats import chi2_contingency"
      ]
    },
    {
      "cell_type": "code",
      "execution_count": null,
      "metadata": {
        "id": "Y_rB2cTIVWEO"
      },
      "outputs": [],
      "source": [
        "# Perform Chi-square test\n",
        "\n"
      ]
    },
    {
      "cell_type": "markdown",
      "metadata": {
        "id": "ufOhe3T9WcsO"
      },
      "source": [
        "## Group Barplot"
      ]
    },
    {
      "cell_type": "code",
      "execution_count": null,
      "metadata": {
        "id": "5cIzszcLWUo_"
      },
      "outputs": [],
      "source": [
        "## write your code here\n"
      ]
    },
    {
      "cell_type": "code",
      "execution_count": null,
      "metadata": {
        "id": "HULtKCswWnMt"
      },
      "outputs": [],
      "source": [
        "# Plot using Seaborn\n",
        "\n"
      ]
    },
    {
      "cell_type": "markdown",
      "metadata": {
        "id": "nuRlc2MHXcXn"
      },
      "source": [
        "## heart disease"
      ]
    },
    {
      "cell_type": "code",
      "execution_count": null,
      "metadata": {
        "id": "Nr6S55KcW8gN"
      },
      "outputs": [],
      "source": [
        "## write your code here\n"
      ]
    },
    {
      "cell_type": "code",
      "execution_count": null,
      "metadata": {
        "id": "yyTfktueXwPa"
      },
      "outputs": [],
      "source": [
        "## write your code here\n"
      ]
    },
    {
      "cell_type": "markdown",
      "metadata": {
        "id": "vu_GERuWXnwD"
      },
      "source": [
        "## Hypothesis Testing (Chisquare test for Independence)\n"
      ]
    },
    {
      "cell_type": "code",
      "execution_count": null,
      "metadata": {
        "id": "LyYbz6JzXgry"
      },
      "outputs": [],
      "source": [
        "# Perform Chi-square test\n",
        "\n"
      ]
    },
    {
      "cell_type": "markdown",
      "metadata": {
        "id": "Wwjfrp15YCRd"
      },
      "source": [
        "## Group Bar plot"
      ]
    },
    {
      "cell_type": "code",
      "execution_count": null,
      "metadata": {
        "id": "26IAU0CUX-pn"
      },
      "outputs": [],
      "source": [
        "## write your code here with long format table\n"
      ]
    },
    {
      "cell_type": "code",
      "execution_count": null,
      "metadata": {
        "id": "FG2r0VgUYWcj"
      },
      "outputs": [],
      "source": [
        "## write your code here\n"
      ]
    },
    {
      "cell_type": "code",
      "execution_count": null,
      "metadata": {
        "id": "P9Ml4bE6YjY5"
      },
      "outputs": [],
      "source": []
    },
    {
      "cell_type": "code",
      "execution_count": null,
      "metadata": {
        "id": "JoPCIcQQYy6c"
      },
      "outputs": [],
      "source": []
    },
    {
      "cell_type": "code",
      "execution_count": null,
      "metadata": {
        "id": "mn2-44UgYy-p"
      },
      "outputs": [],
      "source": []
    },
    {
      "cell_type": "code",
      "execution_count": null,
      "metadata": {
        "id": "DEStIMU5YzDA"
      },
      "outputs": [],
      "source": []
    },
    {
      "cell_type": "markdown",
      "metadata": {
        "id": "kY8OEbjOYz_n"
      },
      "source": [
        "## Numerical Features"
      ]
    },
    {
      "cell_type": "code",
      "execution_count": null,
      "metadata": {
        "id": "vKovecgVY4XD"
      },
      "outputs": [],
      "source": [
        "# select numerical features\n",
        "## write your code here\n"
      ]
    },
    {
      "cell_type": "markdown",
      "metadata": {
        "id": "oze9WaJeZg1j"
      },
      "source": [
        "## age column"
      ]
    },
    {
      "cell_type": "code",
      "execution_count": null,
      "metadata": {
        "id": "ho4MBiwJZFSz"
      },
      "outputs": [],
      "source": [
        "## write your code here (for histogram)\n"
      ]
    },
    {
      "cell_type": "code",
      "execution_count": null,
      "metadata": {
        "id": "I3Zd7-fMZSqA"
      },
      "outputs": [],
      "source": [
        "## write your code here (for kde plot)\n"
      ]
    },
    {
      "cell_type": "code",
      "execution_count": null,
      "metadata": {
        "id": "Qd_mvJfsaPxf"
      },
      "outputs": [],
      "source": [
        "## write your code here (for outlier analysis using boxplot)\n"
      ]
    },
    {
      "cell_type": "code",
      "execution_count": null,
      "metadata": {
        "id": "K-k5xhxuZbvT"
      },
      "outputs": [],
      "source": []
    },
    {
      "cell_type": "markdown",
      "metadata": {
        "id": "uEgcrDrNZ36B"
      },
      "source": [
        "## Bmi column"
      ]
    },
    {
      "cell_type": "code",
      "execution_count": null,
      "metadata": {
        "id": "EsZqBKByZkmu"
      },
      "outputs": [],
      "source": [
        "## write your code here (for histogram)\n"
      ]
    },
    {
      "cell_type": "code",
      "execution_count": null,
      "metadata": {
        "id": "uS6q70cpZ9BM"
      },
      "outputs": [],
      "source": [
        "## write your code here (for kde plot)"
      ]
    },
    {
      "cell_type": "code",
      "execution_count": null,
      "metadata": {
        "id": "A_n8remsaBov"
      },
      "outputs": [],
      "source": []
    },
    {
      "cell_type": "code",
      "execution_count": null,
      "metadata": {
        "id": "7FlzRT1PaMG4"
      },
      "outputs": [],
      "source": [
        "## write your code here (for boxplot outlier analysis)\n"
      ]
    },
    {
      "cell_type": "markdown",
      "metadata": {
        "id": "qrqg2Tc4hbh-"
      },
      "source": [
        "### Hypothesis Test For Normality\n",
        "\n",
        "\n",
        "# Perform Kolmogorov-Smirnov test\n",
        "statistic, pvalue = kstest(final_df['bmi'], 'norm')\n",
        "\n",
        "# Print the result\n",
        "print(\"Kolmogorov-Smirnov Test Statistic:\", statistic)\n",
        "\n",
        "print(\"p-value:\", pvalue)\n",
        "\n",
        "# Interpret the results\n",
        "alpha = 0.05  # Significance level\n",
        "\n",
        "if pvalue > alpha:\n",
        "    print(\"Sample looks Gaussian (fail to reject H0)\")\n",
        "    \n",
        "else:\n",
        "    print(\"Sample does not look Gaussian (reject H0)\")\n"
      ]
    },
    {
      "cell_type": "code",
      "execution_count": null,
      "metadata": {
        "id": "bQO-iM8ego4K"
      },
      "outputs": [],
      "source": [
        "from scipy.stats import kstest, shapiro"
      ]
    },
    {
      "cell_type": "markdown",
      "metadata": {
        "id": "5YiAa1gHahk3"
      },
      "source": [
        "## Scatterplots"
      ]
    },
    {
      "cell_type": "code",
      "execution_count": null,
      "metadata": {
        "id": "Qar1MmSJaj2W"
      },
      "outputs": [],
      "source": [
        "## write your code here\n"
      ]
    },
    {
      "cell_type": "markdown",
      "metadata": {
        "id": "qlYbOrl_qBtC"
      },
      "source": [
        "## Correlation Plots and Heatmaps"
      ]
    },
    {
      "cell_type": "code",
      "execution_count": null,
      "metadata": {
        "id": "8k5My7vgbAKZ"
      },
      "outputs": [],
      "source": [
        "## write your code here\n"
      ]
    },
    {
      "cell_type": "code",
      "execution_count": null,
      "metadata": {
        "id": "-Kj76sN1bUGS"
      },
      "outputs": [],
      "source": []
    },
    {
      "cell_type": "code",
      "execution_count": null,
      "metadata": {
        "id": "DEIlMKKNfztU"
      },
      "outputs": [],
      "source": []
    }
  ],
  "metadata": {
    "colab": {
      "provenance": []
    },
    "kernelspec": {
      "display_name": "Python 3",
      "name": "python3"
    },
    "language_info": {
      "codemirror_mode": {
        "name": "ipython",
        "version": 3
      },
      "file_extension": ".py",
      "mimetype": "text/x-python",
      "name": "python",
      "nbconvert_exporter": "python",
      "pygments_lexer": "ipython3",
      "version": "3.10.12"
    }
  },
  "nbformat": 4,
  "nbformat_minor": 0
}
