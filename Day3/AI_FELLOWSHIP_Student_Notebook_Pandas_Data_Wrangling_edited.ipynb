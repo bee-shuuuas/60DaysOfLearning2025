{
  "cells": [
    {
      "cell_type": "markdown",
      "metadata": {
        "id": "p814sgXJERi0"
      },
      "source": [
        "![image](https://analyticsindiamag.com/wp-content/uploads/2020/04/Screenshot-2020-04-15-at-10.08.12-AM.png)"
      ]
    },
    {
      "cell_type": "markdown",
      "metadata": {
        "id": "0IFzERN2E3GJ"
      },
      "source": [
        "## Business Problem Understanding\n",
        "\n",
        "- According to the World Health Organization (WHO) stroke is the 2nd leading cause of death globally, responsible for approximately 11% of total deaths.\n",
        "\n",
        "- This dataset is used to predict whether a patient is likely to get stroke based on the input parameters like gender, age, various diseases, and smoking status.\n",
        "\n",
        "- Each row in the data provides relavant information about the patient.\n",
        "\n",
        "## Attribute Information\n",
        "- 1) id: unique identifier\n",
        "- 2) gender: \"Male\", \"Female\" or \"Other\"\n",
        "- 3) age: age of the patient\n",
        "- 4) hypertension: 0 if the patient doesn't have hypertension, 1 if the patient has hypertension\n",
        "- 5) heart_disease: 0 if the patient doesn't have any heart diseases, 1 if the patient has a heart disease\n",
        "- 6) ever_married: \"No\" or \"Yes\"\n",
        "- 7) work_type: \"children\", \"Govt_jov\", \"Never_worked\", \"Private\" or \"Self-employed\"\n",
        "- 8) Residence_type: \"Rural\" or \"Urban\"\n",
        "- 9) avg_glucose_level: average glucose level in blood\n",
        "- 10) bmi: body mass index\n",
        "- 11) smoking_status: \"formerly smoked\", \"never smoked\", \"smokes\" or \"Unknown\"*\n",
        "- 12) stroke: 1 if the patient had a stroke or 0 if not\n",
        "\n",
        "*Note: \"Unknown\" in smoking_status means that the information is unavailable for this patient\n",
        "\n"
      ]
    },
    {
      "cell_type": "markdown",
      "metadata": {
        "id": "c1HtQqj9F9vh"
      },
      "source": [
        "## Data Collection/Data Import"
      ]
    },
    {
      "cell_type": "markdown",
      "metadata": {
        "id": "6tqw3sJpFrG5"
      },
      "source": [
        "**The dataset is available at this google drive link:**\n",
        "**Use gdown to download this in the colab environment directly.**\n",
        "\n",
        "!gdown https://drive.google.com/uc?id=1vs0cmeKYeht_d07C1HvHFUIxD-IfEACL\n"
      ]
    },
    {
      "cell_type": "code",
      "execution_count": 2,
      "metadata": {
        "id": "wc7c2HmyDPlg"
      },
      "outputs": [
        {
          "name": "stdout",
          "output_type": "stream",
          "text": [
            "Downloading...\n",
            "From: https://drive.google.com/uc?id=1vs0cmeKYeht_d07C1HvHFUIxD-IfEACL\n",
            "To: /media/biswash/New Volume/fm 024/video/Full/Module 2; Data Wrangling/Unit 3 ; Class Recording Nepali/Chapter 1; Data Wrangling with Pandas/Resources/stroke_data.csv\n",
            "100%|█████████████████████████████████████████| 484k/484k [00:04<00:00, 116kB/s]\n"
          ]
        }
      ],
      "source": [
        "## write your code here\n",
        "\n",
        "!gdown https://drive.google.com/uc?id=1vs0cmeKYeht_d07C1HvHFUIxD-IfEACL"
      ]
    },
    {
      "cell_type": "markdown",
      "metadata": {
        "id": "BcEVPy03Ef6X"
      },
      "source": [
        "## Importing Necessary libraries"
      ]
    },
    {
      "cell_type": "code",
      "execution_count": 1,
      "metadata": {
        "id": "WVMCc1INEhvr"
      },
      "outputs": [
        {
          "name": "stderr",
          "output_type": "stream",
          "text": [
            "/usr/lib/python3/dist-packages/scipy/__init__.py:146: UserWarning: A NumPy version >=1.17.3 and <1.25.0 is required for this version of SciPy (detected version 1.26.4\n",
            "  warnings.warn(f\"A NumPy version >={np_minversion} and <{np_maxversion}\"\n"
          ]
        }
      ],
      "source": [
        "import os\n",
        "import gdown\n",
        "import numpy as np\n",
        "import pandas as pd\n",
        "import seaborn as sns\n",
        "import matplotlib.pyplot as plt"
      ]
    },
    {
      "cell_type": "markdown",
      "metadata": {
        "id": "gIPI9WxRGWvx"
      },
      "source": [
        "## Importing Data From CSV File Using Pandas"
      ]
    },
    {
      "cell_type": "code",
      "execution_count": 3,
      "metadata": {
        "id": "zIwmS8GTGWNr"
      },
      "outputs": [],
      "source": [
        "## write your code here\n",
        "\n",
        "df = pd.read_csv('stroke_data.csv')"
      ]
    },
    {
      "cell_type": "markdown",
      "metadata": {
        "id": "LIC0Mi2kGlvc"
      },
      "source": [
        "## Data Understanding:"
      ]
    },
    {
      "cell_type": "markdown",
      "metadata": {
        "id": "0mSxRinbGgCh"
      },
      "source": [
        "### Print the first five rows of the pandas dataframe"
      ]
    },
    {
      "cell_type": "code",
      "execution_count": 4,
      "metadata": {
        "id": "6VMFr1B6GQri"
      },
      "outputs": [
        {
          "data": {
            "text/html": [
              "<div>\n",
              "<style scoped>\n",
              "    .dataframe tbody tr th:only-of-type {\n",
              "        vertical-align: middle;\n",
              "    }\n",
              "\n",
              "    .dataframe tbody tr th {\n",
              "        vertical-align: top;\n",
              "    }\n",
              "\n",
              "    .dataframe thead th {\n",
              "        text-align: right;\n",
              "    }\n",
              "</style>\n",
              "<table border=\"1\" class=\"dataframe\">\n",
              "  <thead>\n",
              "    <tr style=\"text-align: right;\">\n",
              "      <th></th>\n",
              "      <th>id</th>\n",
              "      <th>gender</th>\n",
              "      <th>age</th>\n",
              "      <th>height_in_m</th>\n",
              "      <th>weight_in_kg</th>\n",
              "      <th>avg_glucose_level</th>\n",
              "      <th>bmi</th>\n",
              "      <th>smoking_status</th>\n",
              "      <th>hypertension</th>\n",
              "      <th>heart_disease</th>\n",
              "      <th>ever_married</th>\n",
              "      <th>work_type</th>\n",
              "      <th>Residence_type</th>\n",
              "      <th>stroke</th>\n",
              "    </tr>\n",
              "  </thead>\n",
              "  <tbody>\n",
              "    <tr>\n",
              "      <th>0</th>\n",
              "      <td>9046</td>\n",
              "      <td>Male</td>\n",
              "      <td>67.0</td>\n",
              "      <td>1.82880</td>\n",
              "      <td>122.409046</td>\n",
              "      <td>169.35</td>\n",
              "      <td>36.6</td>\n",
              "      <td>formerly smoked</td>\n",
              "      <td>0</td>\n",
              "      <td>1</td>\n",
              "      <td>Yes</td>\n",
              "      <td>Private</td>\n",
              "      <td>Urban</td>\n",
              "      <td>1</td>\n",
              "    </tr>\n",
              "    <tr>\n",
              "      <th>1</th>\n",
              "      <td>51676</td>\n",
              "      <td>Female</td>\n",
              "      <td>61.0</td>\n",
              "      <td>1.64592</td>\n",
              "      <td>NaN</td>\n",
              "      <td>169.35</td>\n",
              "      <td>NaN</td>\n",
              "      <td>never smoked</td>\n",
              "      <td>0</td>\n",
              "      <td>0</td>\n",
              "      <td>Yes</td>\n",
              "      <td>Self-employed</td>\n",
              "      <td>Rural</td>\n",
              "      <td>1</td>\n",
              "    </tr>\n",
              "    <tr>\n",
              "      <th>2</th>\n",
              "      <td>31112</td>\n",
              "      <td>Male</td>\n",
              "      <td>80.0</td>\n",
              "      <td>1.79832</td>\n",
              "      <td>105.103532</td>\n",
              "      <td>105.92</td>\n",
              "      <td>32.5</td>\n",
              "      <td>never smoked</td>\n",
              "      <td>0</td>\n",
              "      <td>1</td>\n",
              "      <td>Yes</td>\n",
              "      <td>Private</td>\n",
              "      <td>Rural</td>\n",
              "      <td>1</td>\n",
              "    </tr>\n",
              "    <tr>\n",
              "      <th>3</th>\n",
              "      <td>60182</td>\n",
              "      <td>Female</td>\n",
              "      <td>49.0</td>\n",
              "      <td>1.92024</td>\n",
              "      <td>126.843865</td>\n",
              "      <td>169.35</td>\n",
              "      <td>34.4</td>\n",
              "      <td>smokes</td>\n",
              "      <td>0</td>\n",
              "      <td>0</td>\n",
              "      <td>Yes</td>\n",
              "      <td>Private</td>\n",
              "      <td>Urban</td>\n",
              "      <td>1</td>\n",
              "    </tr>\n",
              "    <tr>\n",
              "      <th>4</th>\n",
              "      <td>1665</td>\n",
              "      <td>female</td>\n",
              "      <td>79.0</td>\n",
              "      <td>1.85928</td>\n",
              "      <td>82.966131</td>\n",
              "      <td>169.35</td>\n",
              "      <td>24.0</td>\n",
              "      <td>never smoked</td>\n",
              "      <td>1</td>\n",
              "      <td>0</td>\n",
              "      <td>Yes</td>\n",
              "      <td>Self-employed</td>\n",
              "      <td>Rural</td>\n",
              "      <td>1</td>\n",
              "    </tr>\n",
              "  </tbody>\n",
              "</table>\n",
              "</div>"
            ],
            "text/plain": [
              "      id  gender   age  height_in_m  weight_in_kg  avg_glucose_level   bmi  \\\n",
              "0   9046    Male  67.0      1.82880    122.409046             169.35  36.6   \n",
              "1  51676  Female  61.0      1.64592           NaN             169.35   NaN   \n",
              "2  31112    Male  80.0      1.79832    105.103532             105.92  32.5   \n",
              "3  60182  Female  49.0      1.92024    126.843865             169.35  34.4   \n",
              "4   1665  female  79.0      1.85928     82.966131             169.35  24.0   \n",
              "\n",
              "    smoking_status  hypertension  heart_disease ever_married      work_type  \\\n",
              "0  formerly smoked             0              1          Yes        Private   \n",
              "1     never smoked             0              0          Yes  Self-employed   \n",
              "2     never smoked             0              1          Yes        Private   \n",
              "3           smokes             0              0          Yes        Private   \n",
              "4     never smoked             1              0          Yes  Self-employed   \n",
              "\n",
              "  Residence_type  stroke  \n",
              "0          Urban       1  \n",
              "1          Rural       1  \n",
              "2          Rural       1  \n",
              "3          Urban       1  \n",
              "4          Rural       1  "
            ]
          },
          "execution_count": 4,
          "metadata": {},
          "output_type": "execute_result"
        }
      ],
      "source": [
        "## write your code here\n",
        "df.head()"
      ]
    },
    {
      "cell_type": "markdown",
      "metadata": {
        "id": "aMPQwK1CG4N4"
      },
      "source": [
        "## Print the last five rows of the pandas dataframe"
      ]
    },
    {
      "cell_type": "code",
      "execution_count": 6,
      "metadata": {
        "id": "ETMqdQzIGqwm"
      },
      "outputs": [
        {
          "data": {
            "text/html": [
              "<div>\n",
              "<style scoped>\n",
              "    .dataframe tbody tr th:only-of-type {\n",
              "        vertical-align: middle;\n",
              "    }\n",
              "\n",
              "    .dataframe tbody tr th {\n",
              "        vertical-align: top;\n",
              "    }\n",
              "\n",
              "    .dataframe thead th {\n",
              "        text-align: right;\n",
              "    }\n",
              "</style>\n",
              "<table border=\"1\" class=\"dataframe\">\n",
              "  <thead>\n",
              "    <tr style=\"text-align: right;\">\n",
              "      <th></th>\n",
              "      <th>id</th>\n",
              "      <th>gender</th>\n",
              "      <th>age</th>\n",
              "      <th>height_in_m</th>\n",
              "      <th>weight_in_kg</th>\n",
              "      <th>avg_glucose_level</th>\n",
              "      <th>bmi</th>\n",
              "      <th>smoking_status</th>\n",
              "      <th>hypertension</th>\n",
              "      <th>heart_disease</th>\n",
              "      <th>ever_married</th>\n",
              "      <th>work_type</th>\n",
              "      <th>Residence_type</th>\n",
              "      <th>stroke</th>\n",
              "    </tr>\n",
              "  </thead>\n",
              "  <tbody>\n",
              "    <tr>\n",
              "      <th>5130</th>\n",
              "      <td>46373</td>\n",
              "      <td>Female</td>\n",
              "      <td>57.0</td>\n",
              "      <td>1.67640</td>\n",
              "      <td>72.506178</td>\n",
              "      <td>169.97</td>\n",
              "      <td>25.8</td>\n",
              "      <td>never smoked</td>\n",
              "      <td>0</td>\n",
              "      <td>0</td>\n",
              "      <td>Yes</td>\n",
              "      <td>Private</td>\n",
              "      <td>Rural</td>\n",
              "      <td>0</td>\n",
              "    </tr>\n",
              "    <tr>\n",
              "      <th>5131</th>\n",
              "      <td>40112</td>\n",
              "      <td>Female</td>\n",
              "      <td>37.0</td>\n",
              "      <td>1.92024</td>\n",
              "      <td>92.551774</td>\n",
              "      <td>118.41</td>\n",
              "      <td>25.1</td>\n",
              "      <td>never smoked</td>\n",
              "      <td>0</td>\n",
              "      <td>0</td>\n",
              "      <td>No</td>\n",
              "      <td>Private</td>\n",
              "      <td>Urban</td>\n",
              "      <td>0</td>\n",
              "    </tr>\n",
              "    <tr>\n",
              "      <th>5132</th>\n",
              "      <td>32240</td>\n",
              "      <td>Female</td>\n",
              "      <td>27.0</td>\n",
              "      <td>1.82880</td>\n",
              "      <td>139.131593</td>\n",
              "      <td>93.55</td>\n",
              "      <td>41.6</td>\n",
              "      <td>never smoked</td>\n",
              "      <td>0</td>\n",
              "      <td>0</td>\n",
              "      <td>No</td>\n",
              "      <td>Private</td>\n",
              "      <td>Urban</td>\n",
              "      <td>0</td>\n",
              "    </tr>\n",
              "    <tr>\n",
              "      <th>5133</th>\n",
              "      <td>69312</td>\n",
              "      <td>Female</td>\n",
              "      <td>48.0</td>\n",
              "      <td>1.58496</td>\n",
              "      <td>78.377464</td>\n",
              "      <td>99.29</td>\n",
              "      <td>31.2</td>\n",
              "      <td>never smoked</td>\n",
              "      <td>0</td>\n",
              "      <td>0</td>\n",
              "      <td>Yes</td>\n",
              "      <td>Self-employed</td>\n",
              "      <td>Urban</td>\n",
              "      <td>0</td>\n",
              "    </tr>\n",
              "    <tr>\n",
              "      <th>5134</th>\n",
              "      <td>25763</td>\n",
              "      <td>Female</td>\n",
              "      <td>23.0</td>\n",
              "      <td>1.64592</td>\n",
              "      <td>76.666190</td>\n",
              "      <td>98.66</td>\n",
              "      <td>28.3</td>\n",
              "      <td>Unknown</td>\n",
              "      <td>0</td>\n",
              "      <td>0</td>\n",
              "      <td>No</td>\n",
              "      <td>Private</td>\n",
              "      <td>Urban</td>\n",
              "      <td>0</td>\n",
              "    </tr>\n",
              "  </tbody>\n",
              "</table>\n",
              "</div>"
            ],
            "text/plain": [
              "         id  gender   age  height_in_m  weight_in_kg  avg_glucose_level   bmi  \\\n",
              "5130  46373  Female  57.0      1.67640     72.506178             169.97  25.8   \n",
              "5131  40112  Female  37.0      1.92024     92.551774             118.41  25.1   \n",
              "5132  32240  Female  27.0      1.82880    139.131593              93.55  41.6   \n",
              "5133  69312  Female  48.0      1.58496     78.377464              99.29  31.2   \n",
              "5134  25763  Female  23.0      1.64592     76.666190              98.66  28.3   \n",
              "\n",
              "     smoking_status  hypertension  heart_disease ever_married      work_type  \\\n",
              "5130   never smoked             0              0          Yes        Private   \n",
              "5131   never smoked             0              0           No        Private   \n",
              "5132   never smoked             0              0           No        Private   \n",
              "5133   never smoked             0              0          Yes  Self-employed   \n",
              "5134        Unknown             0              0           No        Private   \n",
              "\n",
              "     Residence_type  stroke  \n",
              "5130          Rural       0  \n",
              "5131          Urban       0  \n",
              "5132          Urban       0  \n",
              "5133          Urban       0  \n",
              "5134          Urban       0  "
            ]
          },
          "execution_count": 6,
          "metadata": {},
          "output_type": "execute_result"
        }
      ],
      "source": [
        "## write your code here\n",
        "df.tail()"
      ]
    },
    {
      "cell_type": "markdown",
      "metadata": {
        "id": "IzKZZ5aTG_SE"
      },
      "source": [
        "## What is the shape of the dataset?"
      ]
    },
    {
      "cell_type": "code",
      "execution_count": 7,
      "metadata": {
        "id": "Z2GuUdYEG8zb"
      },
      "outputs": [
        {
          "data": {
            "text/plain": [
              "(5135, 14)"
            ]
          },
          "execution_count": 7,
          "metadata": {},
          "output_type": "execute_result"
        }
      ],
      "source": [
        "## write your code here\n",
        "df.shape"
      ]
    },
    {
      "cell_type": "markdown",
      "metadata": {
        "id": "SezKlK60HIaF"
      },
      "source": [
        "## What are the name of the columns in the dataframe?"
      ]
    },
    {
      "cell_type": "code",
      "execution_count": 10,
      "metadata": {
        "id": "v6NSIuTcHEaO"
      },
      "outputs": [
        {
          "data": {
            "text/plain": [
              "Index(['id', 'gender', 'age', 'height_in_m', 'weight_in_kg',\n",
              "       'avg_glucose_level', 'bmi', 'smoking_status', 'hypertension',\n",
              "       'heart_disease', 'ever_married', 'work_type', 'Residence_type',\n",
              "       'stroke'],\n",
              "      dtype='object')"
            ]
          },
          "execution_count": 10,
          "metadata": {},
          "output_type": "execute_result"
        }
      ],
      "source": [
        "## write your code here\n",
        "df.columns"
      ]
    },
    {
      "cell_type": "markdown",
      "metadata": {
        "id": "sxCe3aFGHPqT"
      },
      "source": [
        "### What are the datatypes of each feature in the dataset?"
      ]
    },
    {
      "cell_type": "code",
      "execution_count": 12,
      "metadata": {
        "id": "nORQCnZKHNed"
      },
      "outputs": [
        {
          "name": "stdout",
          "output_type": "stream",
          "text": [
            "<class 'pandas.core.frame.DataFrame'>\n",
            "RangeIndex: 5135 entries, 0 to 5134\n",
            "Data columns (total 14 columns):\n",
            " #   Column             Non-Null Count  Dtype  \n",
            "---  ------             --------------  -----  \n",
            " 0   id                 5135 non-null   int64  \n",
            " 1   gender             5135 non-null   object \n",
            " 2   age                5135 non-null   float64\n",
            " 3   height_in_m        5135 non-null   float64\n",
            " 4   weight_in_kg       4934 non-null   float64\n",
            " 5   avg_glucose_level  5135 non-null   float64\n",
            " 6   bmi                4934 non-null   float64\n",
            " 7   smoking_status     5135 non-null   object \n",
            " 8   hypertension       5135 non-null   int64  \n",
            " 9   heart_disease      5135 non-null   int64  \n",
            " 10  ever_married       4933 non-null   object \n",
            " 11  work_type          5135 non-null   object \n",
            " 12  Residence_type     5135 non-null   object \n",
            " 13  stroke             5135 non-null   int64  \n",
            "dtypes: float64(5), int64(4), object(5)\n",
            "memory usage: 561.8+ KB\n"
          ]
        }
      ],
      "source": [
        "## write your code here\n",
        "\n",
        "df.info()"
      ]
    },
    {
      "cell_type": "code",
      "execution_count": 14,
      "metadata": {},
      "outputs": [
        {
          "data": {
            "text/plain": [
              "id                     int64\n",
              "gender                object\n",
              "age                  float64\n",
              "height_in_m          float64\n",
              "weight_in_kg         float64\n",
              "avg_glucose_level    float64\n",
              "bmi                  float64\n",
              "smoking_status        object\n",
              "hypertension           int64\n",
              "heart_disease          int64\n",
              "ever_married          object\n",
              "work_type             object\n",
              "Residence_type        object\n",
              "stroke                 int64\n",
              "dtype: object"
            ]
          },
          "execution_count": 14,
          "metadata": {},
          "output_type": "execute_result"
        }
      ],
      "source": [
        "df.dtypes"
      ]
    },
    {
      "cell_type": "markdown",
      "metadata": {
        "id": "BTrz_4nDKRIY"
      },
      "source": [
        "## Descriptive Statistics\n",
        "\n",
        "Descriptive statistics involve a set of summary measures that provide a snapshot of the dataset's characteristics. These measures help us understand the distribution, central tendency, and variability within the data.\n",
        "\n",
        "- Mean: The average value of the data.\n",
        "- Median: The middle value when the data is sorted.\n",
        "- Mode: The most frequently occurring value.\n",
        "- Range: The difference between the maximum and minimum values.\n",
        "- Standard Deviation: A more interpretable measure of data spread.\n",
        "These statistics provide a preliminary understanding of the dataset, which is valuable for subsequent analysis and decision-making.\n",
        "\n"
      ]
    },
    {
      "cell_type": "markdown",
      "metadata": {
        "id": "PJh2DGMuKdc-"
      },
      "source": [
        "### How to see the descriptive statistics of a dataset?"
      ]
    },
    {
      "cell_type": "code",
      "execution_count": 15,
      "metadata": {
        "id": "OMzcCYTzKYpc"
      },
      "outputs": [
        {
          "data": {
            "text/html": [
              "<div>\n",
              "<style scoped>\n",
              "    .dataframe tbody tr th:only-of-type {\n",
              "        vertical-align: middle;\n",
              "    }\n",
              "\n",
              "    .dataframe tbody tr th {\n",
              "        vertical-align: top;\n",
              "    }\n",
              "\n",
              "    .dataframe thead th {\n",
              "        text-align: right;\n",
              "    }\n",
              "</style>\n",
              "<table border=\"1\" class=\"dataframe\">\n",
              "  <thead>\n",
              "    <tr style=\"text-align: right;\">\n",
              "      <th></th>\n",
              "      <th>id</th>\n",
              "      <th>age</th>\n",
              "      <th>height_in_m</th>\n",
              "      <th>weight_in_kg</th>\n",
              "      <th>avg_glucose_level</th>\n",
              "      <th>bmi</th>\n",
              "      <th>hypertension</th>\n",
              "      <th>heart_disease</th>\n",
              "      <th>stroke</th>\n",
              "    </tr>\n",
              "  </thead>\n",
              "  <tbody>\n",
              "    <tr>\n",
              "      <th>count</th>\n",
              "      <td>5135.000000</td>\n",
              "      <td>5135.000000</td>\n",
              "      <td>5135.000000</td>\n",
              "      <td>4934.000000</td>\n",
              "      <td>5135.000000</td>\n",
              "      <td>4934.000000</td>\n",
              "      <td>5135.000000</td>\n",
              "      <td>5135.000000</td>\n",
              "      <td>5135.000000</td>\n",
              "    </tr>\n",
              "    <tr>\n",
              "      <th>mean</th>\n",
              "      <td>36510.305940</td>\n",
              "      <td>43.237390</td>\n",
              "      <td>1.751992</td>\n",
              "      <td>89.172256</td>\n",
              "      <td>101.383180</td>\n",
              "      <td>28.899959</td>\n",
              "      <td>0.097176</td>\n",
              "      <td>0.053944</td>\n",
              "      <td>0.048491</td>\n",
              "    </tr>\n",
              "    <tr>\n",
              "      <th>std</th>\n",
              "      <td>21153.824243</td>\n",
              "      <td>22.601553</td>\n",
              "      <td>0.132236</td>\n",
              "      <td>27.910274</td>\n",
              "      <td>34.605155</td>\n",
              "      <td>7.847094</td>\n",
              "      <td>0.296226</td>\n",
              "      <td>0.225928</td>\n",
              "      <td>0.214822</td>\n",
              "    </tr>\n",
              "    <tr>\n",
              "      <th>min</th>\n",
              "      <td>67.000000</td>\n",
              "      <td>0.080000</td>\n",
              "      <td>1.524000</td>\n",
              "      <td>32.516064</td>\n",
              "      <td>55.120000</td>\n",
              "      <td>10.300000</td>\n",
              "      <td>0.000000</td>\n",
              "      <td>0.000000</td>\n",
              "      <td>0.000000</td>\n",
              "    </tr>\n",
              "    <tr>\n",
              "      <th>25%</th>\n",
              "      <td>17757.000000</td>\n",
              "      <td>25.000000</td>\n",
              "      <td>1.645920</td>\n",
              "      <td>69.416594</td>\n",
              "      <td>77.285000</td>\n",
              "      <td>23.500000</td>\n",
              "      <td>0.000000</td>\n",
              "      <td>0.000000</td>\n",
              "      <td>0.000000</td>\n",
              "    </tr>\n",
              "    <tr>\n",
              "      <th>50%</th>\n",
              "      <td>36896.000000</td>\n",
              "      <td>45.000000</td>\n",
              "      <td>1.737360</td>\n",
              "      <td>85.357641</td>\n",
              "      <td>91.850000</td>\n",
              "      <td>28.100000</td>\n",
              "      <td>0.000000</td>\n",
              "      <td>0.000000</td>\n",
              "      <td>0.000000</td>\n",
              "    </tr>\n",
              "    <tr>\n",
              "      <th>75%</th>\n",
              "      <td>54631.500000</td>\n",
              "      <td>61.000000</td>\n",
              "      <td>1.859280</td>\n",
              "      <td>104.671347</td>\n",
              "      <td>113.985000</td>\n",
              "      <td>33.100000</td>\n",
              "      <td>0.000000</td>\n",
              "      <td>0.000000</td>\n",
              "      <td>0.000000</td>\n",
              "    </tr>\n",
              "    <tr>\n",
              "      <th>max</th>\n",
              "      <td>72940.000000</td>\n",
              "      <td>82.000000</td>\n",
              "      <td>1.981200</td>\n",
              "      <td>348.548423</td>\n",
              "      <td>271.740000</td>\n",
              "      <td>97.600000</td>\n",
              "      <td>1.000000</td>\n",
              "      <td>1.000000</td>\n",
              "      <td>1.000000</td>\n",
              "    </tr>\n",
              "  </tbody>\n",
              "</table>\n",
              "</div>"
            ],
            "text/plain": [
              "                 id          age  height_in_m  weight_in_kg  \\\n",
              "count   5135.000000  5135.000000  5135.000000   4934.000000   \n",
              "mean   36510.305940    43.237390     1.751992     89.172256   \n",
              "std    21153.824243    22.601553     0.132236     27.910274   \n",
              "min       67.000000     0.080000     1.524000     32.516064   \n",
              "25%    17757.000000    25.000000     1.645920     69.416594   \n",
              "50%    36896.000000    45.000000     1.737360     85.357641   \n",
              "75%    54631.500000    61.000000     1.859280    104.671347   \n",
              "max    72940.000000    82.000000     1.981200    348.548423   \n",
              "\n",
              "       avg_glucose_level          bmi  hypertension  heart_disease  \\\n",
              "count        5135.000000  4934.000000   5135.000000    5135.000000   \n",
              "mean          101.383180    28.899959      0.097176       0.053944   \n",
              "std            34.605155     7.847094      0.296226       0.225928   \n",
              "min            55.120000    10.300000      0.000000       0.000000   \n",
              "25%            77.285000    23.500000      0.000000       0.000000   \n",
              "50%            91.850000    28.100000      0.000000       0.000000   \n",
              "75%           113.985000    33.100000      0.000000       0.000000   \n",
              "max           271.740000    97.600000      1.000000       1.000000   \n",
              "\n",
              "            stroke  \n",
              "count  5135.000000  \n",
              "mean      0.048491  \n",
              "std       0.214822  \n",
              "min       0.000000  \n",
              "25%       0.000000  \n",
              "50%       0.000000  \n",
              "75%       0.000000  \n",
              "max       1.000000  "
            ]
          },
          "execution_count": 15,
          "metadata": {},
          "output_type": "execute_result"
        }
      ],
      "source": [
        "## write your code here?\n",
        "df.describe()"
      ]
    },
    {
      "cell_type": "markdown",
      "metadata": {
        "id": "jYm5dkRQHdQh"
      },
      "source": [
        "## How to select gender column from the pandas dataframe?"
      ]
    },
    {
      "cell_type": "code",
      "execution_count": 19,
      "metadata": {
        "id": "K1Quzev3HWX5"
      },
      "outputs": [
        {
          "data": {
            "text/plain": [
              "0         Male\n",
              "1       Female\n",
              "2         Male\n",
              "3       Female\n",
              "4       female\n",
              "         ...  \n",
              "5130    Female\n",
              "5131    Female\n",
              "5132    Female\n",
              "5133    Female\n",
              "5134    Female\n",
              "Name: gender, Length: 5135, dtype: object"
            ]
          },
          "execution_count": 19,
          "metadata": {},
          "output_type": "execute_result"
        }
      ],
      "source": [
        "## write your code here\n",
        "df['gender']"
      ]
    },
    {
      "cell_type": "markdown",
      "metadata": {
        "id": "O87Q-Pv2HuSV"
      },
      "source": [
        "### How to select multiple columns : age, gender and bmi?"
      ]
    },
    {
      "cell_type": "code",
      "execution_count": 26,
      "metadata": {
        "id": "LhyYmkTKHm0A"
      },
      "outputs": [],
      "source": [
        "## write your code here\n",
        "\n",
        "data = df[['age','gender','bmi']]\n",
        "\n"
      ]
    },
    {
      "cell_type": "markdown",
      "metadata": {},
      "source": [
        "![alt text](image.png)"
      ]
    },
    {
      "cell_type": "markdown",
      "metadata": {
        "id": "Na9-3HaAH-T2"
      },
      "source": [
        "## How to select the 7th row of the pandas dataframe?\n"
      ]
    },
    {
      "cell_type": "code",
      "execution_count": 27,
      "metadata": {
        "id": "DxKWEAGaH2FZ"
      },
      "outputs": [
        {
          "data": {
            "text/plain": [
              "id                          53882\n",
              "gender                       Male\n",
              "age                          74.0\n",
              "height_in_m               1.88976\n",
              "weight_in_kg            97.850684\n",
              "avg_glucose_level           70.09\n",
              "bmi                          27.4\n",
              "smoking_status       never smoked\n",
              "hypertension                    1\n",
              "heart_disease                   1\n",
              "ever_married                  Yes\n",
              "work_type                 Private\n",
              "Residence_type              Rural\n",
              "stroke                          1\n",
              "Name: 6, dtype: object"
            ]
          },
          "execution_count": 27,
          "metadata": {},
          "output_type": "execute_result"
        }
      ],
      "source": [
        "## write your code here\n",
        "\n",
        "# iloc = index location\n",
        "\n",
        "df.iloc[6,:]"
      ]
    },
    {
      "cell_type": "markdown",
      "metadata": {
        "id": "SWKXH7e0IHVF"
      },
      "source": [
        "## How to select the 4th column from the pandas dataframe?\n"
      ]
    },
    {
      "cell_type": "code",
      "execution_count": 31,
      "metadata": {
        "id": "18TwG_-gICUV"
      },
      "outputs": [
        {
          "data": {
            "text/plain": [
              "0       1.82880\n",
              "1       1.64592\n",
              "2       1.79832\n",
              "3       1.92024\n",
              "4       1.85928\n",
              "         ...   \n",
              "5130    1.67640\n",
              "5131    1.92024\n",
              "5132    1.82880\n",
              "5133    1.58496\n",
              "5134    1.64592\n",
              "Name: height_in_m, Length: 5135, dtype: float64"
            ]
          },
          "execution_count": 31,
          "metadata": {},
          "output_type": "execute_result"
        }
      ],
      "source": [
        "## write your code here\n",
        "\n",
        "df.iloc[:,3]\n",
        "\n",
        "# [row, column]\n",
        "\n",
        "# : means all "
      ]
    },
    {
      "cell_type": "markdown",
      "metadata": {
        "id": "2mMuMgLRIbek"
      },
      "source": [
        "## How to select 20th to 30th row and 3rd to 7th column in pandas dataframe?"
      ]
    },
    {
      "cell_type": "code",
      "execution_count": 34,
      "metadata": {
        "id": "M6MQ0GBAIPet"
      },
      "outputs": [
        {
          "data": {
            "text/html": [
              "<div>\n",
              "<style scoped>\n",
              "    .dataframe tbody tr th:only-of-type {\n",
              "        vertical-align: middle;\n",
              "    }\n",
              "\n",
              "    .dataframe tbody tr th {\n",
              "        vertical-align: top;\n",
              "    }\n",
              "\n",
              "    .dataframe thead th {\n",
              "        text-align: right;\n",
              "    }\n",
              "</style>\n",
              "<table border=\"1\" class=\"dataframe\">\n",
              "  <thead>\n",
              "    <tr style=\"text-align: right;\">\n",
              "      <th></th>\n",
              "      <th>age</th>\n",
              "      <th>height_in_m</th>\n",
              "      <th>weight_in_kg</th>\n",
              "      <th>avg_glucose_level</th>\n",
              "      <th>bmi</th>\n",
              "    </tr>\n",
              "  </thead>\n",
              "  <tbody>\n",
              "    <tr>\n",
              "      <th>19</th>\n",
              "      <td>57.0</td>\n",
              "      <td>1.85928</td>\n",
              "      <td>NaN</td>\n",
              "      <td>169.35</td>\n",
              "      <td>NaN</td>\n",
              "    </tr>\n",
              "    <tr>\n",
              "      <th>20</th>\n",
              "      <td>71.0</td>\n",
              "      <td>1.85928</td>\n",
              "      <td>77.435055</td>\n",
              "      <td>169.35</td>\n",
              "      <td>22.4</td>\n",
              "    </tr>\n",
              "    <tr>\n",
              "      <th>21</th>\n",
              "      <td>52.0</td>\n",
              "      <td>1.95072</td>\n",
              "      <td>186.079587</td>\n",
              "      <td>169.35</td>\n",
              "      <td>48.9</td>\n",
              "    </tr>\n",
              "    <tr>\n",
              "      <th>22</th>\n",
              "      <td>79.0</td>\n",
              "      <td>1.55448</td>\n",
              "      <td>64.276455</td>\n",
              "      <td>169.35</td>\n",
              "      <td>26.6</td>\n",
              "    </tr>\n",
              "    <tr>\n",
              "      <th>23</th>\n",
              "      <td>82.0</td>\n",
              "      <td>1.55448</td>\n",
              "      <td>78.533262</td>\n",
              "      <td>169.35</td>\n",
              "      <td>32.5</td>\n",
              "    </tr>\n",
              "    <tr>\n",
              "      <th>24</th>\n",
              "      <td>71.0</td>\n",
              "      <td>1.92024</td>\n",
              "      <td>100.295149</td>\n",
              "      <td>102.87</td>\n",
              "      <td>27.2</td>\n",
              "    </tr>\n",
              "    <tr>\n",
              "      <th>25</th>\n",
              "      <td>80.0</td>\n",
              "      <td>1.95072</td>\n",
              "      <td>89.424750</td>\n",
              "      <td>104.12</td>\n",
              "      <td>23.5</td>\n",
              "    </tr>\n",
              "    <tr>\n",
              "      <th>26</th>\n",
              "      <td>65.0</td>\n",
              "      <td>1.88976</td>\n",
              "      <td>100.707639</td>\n",
              "      <td>100.98</td>\n",
              "      <td>28.2</td>\n",
              "    </tr>\n",
              "    <tr>\n",
              "      <th>27</th>\n",
              "      <td>58.0</td>\n",
              "      <td>1.64592</td>\n",
              "      <td>NaN</td>\n",
              "      <td>169.35</td>\n",
              "      <td>NaN</td>\n",
              "    </tr>\n",
              "    <tr>\n",
              "      <th>28</th>\n",
              "      <td>69.0</td>\n",
              "      <td>1.88976</td>\n",
              "      <td>101.064758</td>\n",
              "      <td>169.35</td>\n",
              "      <td>28.3</td>\n",
              "    </tr>\n",
              "    <tr>\n",
              "      <th>29</th>\n",
              "      <td>59.0</td>\n",
              "      <td>1.61544</td>\n",
              "      <td>NaN</td>\n",
              "      <td>169.35</td>\n",
              "      <td>NaN</td>\n",
              "    </tr>\n",
              "  </tbody>\n",
              "</table>\n",
              "</div>"
            ],
            "text/plain": [
              "     age  height_in_m  weight_in_kg  avg_glucose_level   bmi\n",
              "19  57.0      1.85928           NaN             169.35   NaN\n",
              "20  71.0      1.85928     77.435055             169.35  22.4\n",
              "21  52.0      1.95072    186.079587             169.35  48.9\n",
              "22  79.0      1.55448     64.276455             169.35  26.6\n",
              "23  82.0      1.55448     78.533262             169.35  32.5\n",
              "24  71.0      1.92024    100.295149             102.87  27.2\n",
              "25  80.0      1.95072     89.424750             104.12  23.5\n",
              "26  65.0      1.88976    100.707639             100.98  28.2\n",
              "27  58.0      1.64592           NaN             169.35   NaN\n",
              "28  69.0      1.88976    101.064758             169.35  28.3\n",
              "29  59.0      1.61544           NaN             169.35   NaN"
            ]
          },
          "execution_count": 34,
          "metadata": {},
          "output_type": "execute_result"
        }
      ],
      "source": [
        "## write your code here\n",
        "\n",
        "df.iloc[19:30,2:7]"
      ]
    },
    {
      "cell_type": "markdown",
      "metadata": {
        "id": "mOYlOO6IIpvf"
      },
      "source": [
        "## How to select 3rd and 100th row & 4th and 10th column in a pandas dataframe?"
      ]
    },
    {
      "cell_type": "code",
      "execution_count": 36,
      "metadata": {
        "id": "RZBxJJuaIe5k"
      },
      "outputs": [
        {
          "data": {
            "text/html": [
              "<div>\n",
              "<style scoped>\n",
              "    .dataframe tbody tr th:only-of-type {\n",
              "        vertical-align: middle;\n",
              "    }\n",
              "\n",
              "    .dataframe tbody tr th {\n",
              "        vertical-align: top;\n",
              "    }\n",
              "\n",
              "    .dataframe thead th {\n",
              "        text-align: right;\n",
              "    }\n",
              "</style>\n",
              "<table border=\"1\" class=\"dataframe\">\n",
              "  <thead>\n",
              "    <tr style=\"text-align: right;\">\n",
              "      <th></th>\n",
              "      <th>height_in_m</th>\n",
              "      <th>heart_disease</th>\n",
              "    </tr>\n",
              "  </thead>\n",
              "  <tbody>\n",
              "    <tr>\n",
              "      <th>2</th>\n",
              "      <td>1.79832</td>\n",
              "      <td>1</td>\n",
              "    </tr>\n",
              "    <tr>\n",
              "      <th>99</th>\n",
              "      <td>1.92024</td>\n",
              "      <td>0</td>\n",
              "    </tr>\n",
              "  </tbody>\n",
              "</table>\n",
              "</div>"
            ],
            "text/plain": [
              "    height_in_m  heart_disease\n",
              "2       1.79832              1\n",
              "99      1.92024              0"
            ]
          },
          "execution_count": 36,
          "metadata": {},
          "output_type": "execute_result"
        }
      ],
      "source": [
        "## write your code here\n",
        "df.iloc[[2,99],[3,9]]"
      ]
    },
    {
      "cell_type": "markdown",
      "metadata": {
        "id": "qJDMEk3XJBKL"
      },
      "source": [
        "## Select only those rows with gender 'Male'"
      ]
    },
    {
      "cell_type": "code",
      "execution_count": 41,
      "metadata": {
        "id": "Onnpibs2I0gm"
      },
      "outputs": [
        {
          "data": {
            "text/html": [
              "<div>\n",
              "<style scoped>\n",
              "    .dataframe tbody tr th:only-of-type {\n",
              "        vertical-align: middle;\n",
              "    }\n",
              "\n",
              "    .dataframe tbody tr th {\n",
              "        vertical-align: top;\n",
              "    }\n",
              "\n",
              "    .dataframe thead th {\n",
              "        text-align: right;\n",
              "    }\n",
              "</style>\n",
              "<table border=\"1\" class=\"dataframe\">\n",
              "  <thead>\n",
              "    <tr style=\"text-align: right;\">\n",
              "      <th></th>\n",
              "      <th>id</th>\n",
              "      <th>gender</th>\n",
              "      <th>age</th>\n",
              "      <th>height_in_m</th>\n",
              "      <th>weight_in_kg</th>\n",
              "      <th>avg_glucose_level</th>\n",
              "      <th>bmi</th>\n",
              "      <th>smoking_status</th>\n",
              "      <th>hypertension</th>\n",
              "      <th>heart_disease</th>\n",
              "      <th>ever_married</th>\n",
              "      <th>work_type</th>\n",
              "      <th>Residence_type</th>\n",
              "      <th>stroke</th>\n",
              "    </tr>\n",
              "  </thead>\n",
              "  <tbody>\n",
              "    <tr>\n",
              "      <th>0</th>\n",
              "      <td>9046</td>\n",
              "      <td>Male</td>\n",
              "      <td>67.0</td>\n",
              "      <td>1.82880</td>\n",
              "      <td>122.409046</td>\n",
              "      <td>169.35</td>\n",
              "      <td>36.6</td>\n",
              "      <td>formerly smoked</td>\n",
              "      <td>0</td>\n",
              "      <td>1</td>\n",
              "      <td>Yes</td>\n",
              "      <td>Private</td>\n",
              "      <td>Urban</td>\n",
              "      <td>1</td>\n",
              "    </tr>\n",
              "    <tr>\n",
              "      <th>2</th>\n",
              "      <td>31112</td>\n",
              "      <td>Male</td>\n",
              "      <td>80.0</td>\n",
              "      <td>1.79832</td>\n",
              "      <td>105.103532</td>\n",
              "      <td>105.92</td>\n",
              "      <td>32.5</td>\n",
              "      <td>never smoked</td>\n",
              "      <td>0</td>\n",
              "      <td>1</td>\n",
              "      <td>Yes</td>\n",
              "      <td>Private</td>\n",
              "      <td>Rural</td>\n",
              "      <td>1</td>\n",
              "    </tr>\n",
              "    <tr>\n",
              "      <th>5</th>\n",
              "      <td>56669</td>\n",
              "      <td>Male</td>\n",
              "      <td>81.0</td>\n",
              "      <td>1.79832</td>\n",
              "      <td>93.784690</td>\n",
              "      <td>169.35</td>\n",
              "      <td>29.0</td>\n",
              "      <td>formerly smoked</td>\n",
              "      <td>0</td>\n",
              "      <td>0</td>\n",
              "      <td>Yes</td>\n",
              "      <td>Private</td>\n",
              "      <td>Urban</td>\n",
              "      <td>1</td>\n",
              "    </tr>\n",
              "    <tr>\n",
              "      <th>6</th>\n",
              "      <td>53882</td>\n",
              "      <td>Male</td>\n",
              "      <td>74.0</td>\n",
              "      <td>1.88976</td>\n",
              "      <td>97.850684</td>\n",
              "      <td>70.09</td>\n",
              "      <td>27.4</td>\n",
              "      <td>never smoked</td>\n",
              "      <td>1</td>\n",
              "      <td>1</td>\n",
              "      <td>Yes</td>\n",
              "      <td>Private</td>\n",
              "      <td>Rural</td>\n",
              "      <td>1</td>\n",
              "    </tr>\n",
              "    <tr>\n",
              "      <th>13</th>\n",
              "      <td>8213</td>\n",
              "      <td>Male</td>\n",
              "      <td>78.0</td>\n",
              "      <td>1.52400</td>\n",
              "      <td>NaN</td>\n",
              "      <td>169.35</td>\n",
              "      <td>NaN</td>\n",
              "      <td>Unknown</td>\n",
              "      <td>0</td>\n",
              "      <td>1</td>\n",
              "      <td>Yes</td>\n",
              "      <td>Private</td>\n",
              "      <td>Urban</td>\n",
              "      <td>1</td>\n",
              "    </tr>\n",
              "    <tr>\n",
              "      <th>...</th>\n",
              "      <td>...</td>\n",
              "      <td>...</td>\n",
              "      <td>...</td>\n",
              "      <td>...</td>\n",
              "      <td>...</td>\n",
              "      <td>...</td>\n",
              "      <td>...</td>\n",
              "      <td>...</td>\n",
              "      <td>...</td>\n",
              "      <td>...</td>\n",
              "      <td>...</td>\n",
              "      <td>...</td>\n",
              "      <td>...</td>\n",
              "      <td>...</td>\n",
              "    </tr>\n",
              "    <tr>\n",
              "      <th>5119</th>\n",
              "      <td>26242</td>\n",
              "      <td>Male</td>\n",
              "      <td>6.0</td>\n",
              "      <td>1.55448</td>\n",
              "      <td>48.328161</td>\n",
              "      <td>83.28</td>\n",
              "      <td>20.0</td>\n",
              "      <td>Unknown</td>\n",
              "      <td>0</td>\n",
              "      <td>0</td>\n",
              "      <td>NaN</td>\n",
              "      <td>children</td>\n",
              "      <td>Urban</td>\n",
              "      <td>0</td>\n",
              "    </tr>\n",
              "    <tr>\n",
              "      <th>5121</th>\n",
              "      <td>20973</td>\n",
              "      <td>Male</td>\n",
              "      <td>45.0</td>\n",
              "      <td>1.73736</td>\n",
              "      <td>114.398109</td>\n",
              "      <td>86.99</td>\n",
              "      <td>37.9</td>\n",
              "      <td>never smoked</td>\n",
              "      <td>0</td>\n",
              "      <td>0</td>\n",
              "      <td>Yes</td>\n",
              "      <td>Govt_job</td>\n",
              "      <td>Rural</td>\n",
              "      <td>0</td>\n",
              "    </tr>\n",
              "    <tr>\n",
              "      <th>5122</th>\n",
              "      <td>62793</td>\n",
              "      <td>Male</td>\n",
              "      <td>37.0</td>\n",
              "      <td>1.95072</td>\n",
              "      <td>95.893775</td>\n",
              "      <td>79.56</td>\n",
              "      <td>25.2</td>\n",
              "      <td>never smoked</td>\n",
              "      <td>0</td>\n",
              "      <td>0</td>\n",
              "      <td>Yes</td>\n",
              "      <td>Private</td>\n",
              "      <td>Urban</td>\n",
              "      <td>0</td>\n",
              "    </tr>\n",
              "    <tr>\n",
              "      <th>5125</th>\n",
              "      <td>64520</td>\n",
              "      <td>Male</td>\n",
              "      <td>68.0</td>\n",
              "      <td>1.61544</td>\n",
              "      <td>106.473573</td>\n",
              "      <td>91.68</td>\n",
              "      <td>40.8</td>\n",
              "      <td>Unknown</td>\n",
              "      <td>0</td>\n",
              "      <td>0</td>\n",
              "      <td>Yes</td>\n",
              "      <td>Self-employed</td>\n",
              "      <td>Urban</td>\n",
              "      <td>0</td>\n",
              "    </tr>\n",
              "    <tr>\n",
              "      <th>5128</th>\n",
              "      <td>35295</td>\n",
              "      <td>Male</td>\n",
              "      <td>69.0</td>\n",
              "      <td>1.95072</td>\n",
              "      <td>103.884923</td>\n",
              "      <td>65.08</td>\n",
              "      <td>27.3</td>\n",
              "      <td>formerly smoked</td>\n",
              "      <td>0</td>\n",
              "      <td>0</td>\n",
              "      <td>Yes</td>\n",
              "      <td>Private</td>\n",
              "      <td>Urban</td>\n",
              "      <td>0</td>\n",
              "    </tr>\n",
              "  </tbody>\n",
              "</table>\n",
              "<p>2072 rows × 14 columns</p>\n",
              "</div>"
            ],
            "text/plain": [
              "         id gender   age  height_in_m  weight_in_kg  avg_glucose_level   bmi  \\\n",
              "0      9046   Male  67.0      1.82880    122.409046             169.35  36.6   \n",
              "2     31112   Male  80.0      1.79832    105.103532             105.92  32.5   \n",
              "5     56669   Male  81.0      1.79832     93.784690             169.35  29.0   \n",
              "6     53882   Male  74.0      1.88976     97.850684              70.09  27.4   \n",
              "13     8213   Male  78.0      1.52400           NaN             169.35   NaN   \n",
              "...     ...    ...   ...          ...           ...                ...   ...   \n",
              "5119  26242   Male   6.0      1.55448     48.328161              83.28  20.0   \n",
              "5121  20973   Male  45.0      1.73736    114.398109              86.99  37.9   \n",
              "5122  62793   Male  37.0      1.95072     95.893775              79.56  25.2   \n",
              "5125  64520   Male  68.0      1.61544    106.473573              91.68  40.8   \n",
              "5128  35295   Male  69.0      1.95072    103.884923              65.08  27.3   \n",
              "\n",
              "       smoking_status  hypertension  heart_disease ever_married  \\\n",
              "0     formerly smoked             0              1          Yes   \n",
              "2        never smoked             0              1          Yes   \n",
              "5     formerly smoked             0              0          Yes   \n",
              "6        never smoked             1              1          Yes   \n",
              "13            Unknown             0              1          Yes   \n",
              "...               ...           ...            ...          ...   \n",
              "5119          Unknown             0              0          NaN   \n",
              "5121     never smoked             0              0          Yes   \n",
              "5122     never smoked             0              0          Yes   \n",
              "5125          Unknown             0              0          Yes   \n",
              "5128  formerly smoked             0              0          Yes   \n",
              "\n",
              "          work_type Residence_type  stroke  \n",
              "0           Private          Urban       1  \n",
              "2           Private          Rural       1  \n",
              "5           Private          Urban       1  \n",
              "6           Private          Rural       1  \n",
              "13          Private          Urban       1  \n",
              "...             ...            ...     ...  \n",
              "5119       children          Urban       0  \n",
              "5121       Govt_job          Rural       0  \n",
              "5122        Private          Urban       0  \n",
              "5125  Self-employed          Urban       0  \n",
              "5128        Private          Urban       0  \n",
              "\n",
              "[2072 rows x 14 columns]"
            ]
          },
          "execution_count": 41,
          "metadata": {},
          "output_type": "execute_result"
        }
      ],
      "source": [
        "## write your code here\n",
        "\n",
        "# df['gender']=='Male'  # series \n",
        "\n",
        "# df[df['gender']=='Male']  # dataframe\n",
        "\n",
        "df.loc[df['gender'] == \"Male\"]"
      ]
    },
    {
      "cell_type": "markdown",
      "metadata": {
        "id": "l8shY_roJbQr"
      },
      "source": [
        "## Select all those rows which have avg_glucose_level greater than 100 and columns gender, age, bmi and avg_glucose_level"
      ]
    },
    {
      "cell_type": "code",
      "execution_count": 56,
      "metadata": {},
      "outputs": [
        {
          "data": {
            "text/plain": [
              "0       False\n",
              "1        True\n",
              "2       False\n",
              "3        True\n",
              "4       False\n",
              "        ...  \n",
              "5130     True\n",
              "5131     True\n",
              "5132     True\n",
              "5133     True\n",
              "5134     True\n",
              "Name: gender, Length: 5135, dtype: bool"
            ]
          },
          "execution_count": 56,
          "metadata": {},
          "output_type": "execute_result"
        }
      ],
      "source": [
        "df['gender'] == 'Female'\n",
        "\n",
        "# boolean values ; so we can use bit-wise operator (&)"
      ]
    },
    {
      "cell_type": "code",
      "execution_count": 46,
      "metadata": {
        "id": "vBmeU7h7JIk6"
      },
      "outputs": [
        {
          "data": {
            "text/html": [
              "<div>\n",
              "<style scoped>\n",
              "    .dataframe tbody tr th:only-of-type {\n",
              "        vertical-align: middle;\n",
              "    }\n",
              "\n",
              "    .dataframe tbody tr th {\n",
              "        vertical-align: top;\n",
              "    }\n",
              "\n",
              "    .dataframe thead th {\n",
              "        text-align: right;\n",
              "    }\n",
              "</style>\n",
              "<table border=\"1\" class=\"dataframe\">\n",
              "  <thead>\n",
              "    <tr style=\"text-align: right;\">\n",
              "      <th></th>\n",
              "      <th>gender</th>\n",
              "      <th>age</th>\n",
              "      <th>bmi</th>\n",
              "      <th>avg_glucose_level</th>\n",
              "    </tr>\n",
              "  </thead>\n",
              "  <tbody>\n",
              "    <tr>\n",
              "      <th>0</th>\n",
              "      <td>Male</td>\n",
              "      <td>67.0</td>\n",
              "      <td>36.6</td>\n",
              "      <td>169.35</td>\n",
              "    </tr>\n",
              "    <tr>\n",
              "      <th>1</th>\n",
              "      <td>Female</td>\n",
              "      <td>61.0</td>\n",
              "      <td>NaN</td>\n",
              "      <td>169.35</td>\n",
              "    </tr>\n",
              "    <tr>\n",
              "      <th>2</th>\n",
              "      <td>Male</td>\n",
              "      <td>80.0</td>\n",
              "      <td>32.5</td>\n",
              "      <td>105.92</td>\n",
              "    </tr>\n",
              "    <tr>\n",
              "      <th>3</th>\n",
              "      <td>Female</td>\n",
              "      <td>49.0</td>\n",
              "      <td>34.4</td>\n",
              "      <td>169.35</td>\n",
              "    </tr>\n",
              "    <tr>\n",
              "      <th>4</th>\n",
              "      <td>female</td>\n",
              "      <td>79.0</td>\n",
              "      <td>24.0</td>\n",
              "      <td>169.35</td>\n",
              "    </tr>\n",
              "    <tr>\n",
              "      <th>...</th>\n",
              "      <td>...</td>\n",
              "      <td>...</td>\n",
              "      <td>...</td>\n",
              "      <td>...</td>\n",
              "    </tr>\n",
              "    <tr>\n",
              "      <th>5110</th>\n",
              "      <td>Female</td>\n",
              "      <td>39.0</td>\n",
              "      <td>26.6</td>\n",
              "      <td>102.51</td>\n",
              "    </tr>\n",
              "    <tr>\n",
              "      <th>5123</th>\n",
              "      <td>Female</td>\n",
              "      <td>18.0</td>\n",
              "      <td>23.2</td>\n",
              "      <td>112.33</td>\n",
              "    </tr>\n",
              "    <tr>\n",
              "      <th>5126</th>\n",
              "      <td>Female</td>\n",
              "      <td>36.0</td>\n",
              "      <td>23.2</td>\n",
              "      <td>100.33</td>\n",
              "    </tr>\n",
              "    <tr>\n",
              "      <th>5130</th>\n",
              "      <td>Female</td>\n",
              "      <td>57.0</td>\n",
              "      <td>25.8</td>\n",
              "      <td>169.97</td>\n",
              "    </tr>\n",
              "    <tr>\n",
              "      <th>5131</th>\n",
              "      <td>Female</td>\n",
              "      <td>37.0</td>\n",
              "      <td>25.1</td>\n",
              "      <td>118.41</td>\n",
              "    </tr>\n",
              "  </tbody>\n",
              "</table>\n",
              "<p>1984 rows × 4 columns</p>\n",
              "</div>"
            ],
            "text/plain": [
              "      gender   age   bmi  avg_glucose_level\n",
              "0       Male  67.0  36.6             169.35\n",
              "1     Female  61.0   NaN             169.35\n",
              "2       Male  80.0  32.5             105.92\n",
              "3     Female  49.0  34.4             169.35\n",
              "4     female  79.0  24.0             169.35\n",
              "...      ...   ...   ...                ...\n",
              "5110  Female  39.0  26.6             102.51\n",
              "5123  Female  18.0  23.2             112.33\n",
              "5126  Female  36.0  23.2             100.33\n",
              "5130  Female  57.0  25.8             169.97\n",
              "5131  Female  37.0  25.1             118.41\n",
              "\n",
              "[1984 rows x 4 columns]"
            ]
          },
          "execution_count": 46,
          "metadata": {},
          "output_type": "execute_result"
        }
      ],
      "source": [
        "## write your code here\n",
        "\n",
        "# df['gender','age','bmi','avg_gulcose_level']\n",
        "\n",
        "df.loc[df['avg_glucose_level']>100,['gender','age','bmi','avg_glucose_level']]"
      ]
    },
    {
      "cell_type": "markdown",
      "metadata": {
        "id": "ZPwD6WERJxfG"
      },
      "source": [
        "## Select all those Females who are greater than 50 years old?"
      ]
    },
    {
      "cell_type": "code",
      "execution_count": 51,
      "metadata": {
        "id": "uXYoVDsvJk0c"
      },
      "outputs": [
        {
          "data": {
            "text/html": [
              "<div>\n",
              "<style scoped>\n",
              "    .dataframe tbody tr th:only-of-type {\n",
              "        vertical-align: middle;\n",
              "    }\n",
              "\n",
              "    .dataframe tbody tr th {\n",
              "        vertical-align: top;\n",
              "    }\n",
              "\n",
              "    .dataframe thead th {\n",
              "        text-align: right;\n",
              "    }\n",
              "</style>\n",
              "<table border=\"1\" class=\"dataframe\">\n",
              "  <thead>\n",
              "    <tr style=\"text-align: right;\">\n",
              "      <th></th>\n",
              "      <th>id</th>\n",
              "      <th>gender</th>\n",
              "      <th>age</th>\n",
              "      <th>height_in_m</th>\n",
              "      <th>weight_in_kg</th>\n",
              "      <th>avg_glucose_level</th>\n",
              "      <th>bmi</th>\n",
              "      <th>smoking_status</th>\n",
              "      <th>hypertension</th>\n",
              "      <th>heart_disease</th>\n",
              "      <th>ever_married</th>\n",
              "      <th>work_type</th>\n",
              "      <th>Residence_type</th>\n",
              "      <th>stroke</th>\n",
              "    </tr>\n",
              "  </thead>\n",
              "  <tbody>\n",
              "    <tr>\n",
              "      <th>1</th>\n",
              "      <td>51676</td>\n",
              "      <td>Female</td>\n",
              "      <td>61.0</td>\n",
              "      <td>1.64592</td>\n",
              "      <td>NaN</td>\n",
              "      <td>169.35</td>\n",
              "      <td>NaN</td>\n",
              "      <td>never smoked</td>\n",
              "      <td>0</td>\n",
              "      <td>0</td>\n",
              "      <td>Yes</td>\n",
              "      <td>Self-employed</td>\n",
              "      <td>Rural</td>\n",
              "      <td>1</td>\n",
              "    </tr>\n",
              "    <tr>\n",
              "      <th>7</th>\n",
              "      <td>10434</td>\n",
              "      <td>Female</td>\n",
              "      <td>69.0</td>\n",
              "      <td>1.61544</td>\n",
              "      <td>59.499938</td>\n",
              "      <td>94.39</td>\n",
              "      <td>22.8</td>\n",
              "      <td>never smoked</td>\n",
              "      <td>0</td>\n",
              "      <td>0</td>\n",
              "      <td>No</td>\n",
              "      <td>Private</td>\n",
              "      <td>Urban</td>\n",
              "      <td>1</td>\n",
              "    </tr>\n",
              "    <tr>\n",
              "      <th>8</th>\n",
              "      <td>27419</td>\n",
              "      <td>Female</td>\n",
              "      <td>59.0</td>\n",
              "      <td>1.85928</td>\n",
              "      <td>NaN</td>\n",
              "      <td>76.15</td>\n",
              "      <td>NaN</td>\n",
              "      <td>Unknown</td>\n",
              "      <td>0</td>\n",
              "      <td>0</td>\n",
              "      <td>Yes</td>\n",
              "      <td>Private</td>\n",
              "      <td>Rural</td>\n",
              "      <td>1</td>\n",
              "    </tr>\n",
              "    <tr>\n",
              "      <th>9</th>\n",
              "      <td>60491</td>\n",
              "      <td>Female</td>\n",
              "      <td>78.0</td>\n",
              "      <td>1.98120</td>\n",
              "      <td>94.988713</td>\n",
              "      <td>58.57</td>\n",
              "      <td>24.2</td>\n",
              "      <td>Unknown</td>\n",
              "      <td>0</td>\n",
              "      <td>0</td>\n",
              "      <td>Yes</td>\n",
              "      <td>Private</td>\n",
              "      <td>Urban</td>\n",
              "      <td>1</td>\n",
              "    </tr>\n",
              "    <tr>\n",
              "      <th>10</th>\n",
              "      <td>12109</td>\n",
              "      <td>Female</td>\n",
              "      <td>81.0</td>\n",
              "      <td>1.95072</td>\n",
              "      <td>113.017663</td>\n",
              "      <td>80.43</td>\n",
              "      <td>29.7</td>\n",
              "      <td>never smoked</td>\n",
              "      <td>1</td>\n",
              "      <td>0</td>\n",
              "      <td>Yes</td>\n",
              "      <td>Private</td>\n",
              "      <td>Rural</td>\n",
              "      <td>1</td>\n",
              "    </tr>\n",
              "    <tr>\n",
              "      <th>...</th>\n",
              "      <td>...</td>\n",
              "      <td>...</td>\n",
              "      <td>...</td>\n",
              "      <td>...</td>\n",
              "      <td>...</td>\n",
              "      <td>...</td>\n",
              "      <td>...</td>\n",
              "      <td>...</td>\n",
              "      <td>...</td>\n",
              "      <td>...</td>\n",
              "      <td>...</td>\n",
              "      <td>...</td>\n",
              "      <td>...</td>\n",
              "      <td>...</td>\n",
              "    </tr>\n",
              "    <tr>\n",
              "      <th>5106</th>\n",
              "      <td>44873</td>\n",
              "      <td>Female</td>\n",
              "      <td>81.0</td>\n",
              "      <td>1.88976</td>\n",
              "      <td>142.847714</td>\n",
              "      <td>125.20</td>\n",
              "      <td>40.0</td>\n",
              "      <td>never smoked</td>\n",
              "      <td>0</td>\n",
              "      <td>0</td>\n",
              "      <td>Yes</td>\n",
              "      <td>Self-employed</td>\n",
              "      <td>Urban</td>\n",
              "      <td>0</td>\n",
              "    </tr>\n",
              "    <tr>\n",
              "      <th>5115</th>\n",
              "      <td>9160</td>\n",
              "      <td>Female</td>\n",
              "      <td>80.0</td>\n",
              "      <td>1.73736</td>\n",
              "      <td>78.478914</td>\n",
              "      <td>90.77</td>\n",
              "      <td>26.0</td>\n",
              "      <td>never smoked</td>\n",
              "      <td>1</td>\n",
              "      <td>0</td>\n",
              "      <td>Yes</td>\n",
              "      <td>Private</td>\n",
              "      <td>Urban</td>\n",
              "      <td>0</td>\n",
              "    </tr>\n",
              "    <tr>\n",
              "      <th>5124</th>\n",
              "      <td>27705</td>\n",
              "      <td>Female</td>\n",
              "      <td>82.0</td>\n",
              "      <td>1.79832</td>\n",
              "      <td>105.103532</td>\n",
              "      <td>88.60</td>\n",
              "      <td>32.5</td>\n",
              "      <td>Unknown</td>\n",
              "      <td>0</td>\n",
              "      <td>1</td>\n",
              "      <td>Yes</td>\n",
              "      <td>Self-employed</td>\n",
              "      <td>Rural</td>\n",
              "      <td>0</td>\n",
              "    </tr>\n",
              "    <tr>\n",
              "      <th>5127</th>\n",
              "      <td>23989</td>\n",
              "      <td>Female</td>\n",
              "      <td>62.0</td>\n",
              "      <td>1.73736</td>\n",
              "      <td>98.400484</td>\n",
              "      <td>86.40</td>\n",
              "      <td>32.6</td>\n",
              "      <td>smokes</td>\n",
              "      <td>0</td>\n",
              "      <td>0</td>\n",
              "      <td>Yes</td>\n",
              "      <td>Self-employed</td>\n",
              "      <td>Urban</td>\n",
              "      <td>0</td>\n",
              "    </tr>\n",
              "    <tr>\n",
              "      <th>5130</th>\n",
              "      <td>46373</td>\n",
              "      <td>Female</td>\n",
              "      <td>57.0</td>\n",
              "      <td>1.67640</td>\n",
              "      <td>72.506178</td>\n",
              "      <td>169.97</td>\n",
              "      <td>25.8</td>\n",
              "      <td>never smoked</td>\n",
              "      <td>0</td>\n",
              "      <td>0</td>\n",
              "      <td>Yes</td>\n",
              "      <td>Private</td>\n",
              "      <td>Rural</td>\n",
              "      <td>0</td>\n",
              "    </tr>\n",
              "  </tbody>\n",
              "</table>\n",
              "<p>1203 rows × 14 columns</p>\n",
              "</div>"
            ],
            "text/plain": [
              "         id  gender   age  height_in_m  weight_in_kg  avg_glucose_level   bmi  \\\n",
              "1     51676  Female  61.0      1.64592           NaN             169.35   NaN   \n",
              "7     10434  Female  69.0      1.61544     59.499938              94.39  22.8   \n",
              "8     27419  Female  59.0      1.85928           NaN              76.15   NaN   \n",
              "9     60491  Female  78.0      1.98120     94.988713              58.57  24.2   \n",
              "10    12109  Female  81.0      1.95072    113.017663              80.43  29.7   \n",
              "...     ...     ...   ...          ...           ...                ...   ...   \n",
              "5106  44873  Female  81.0      1.88976    142.847714             125.20  40.0   \n",
              "5115   9160  Female  80.0      1.73736     78.478914              90.77  26.0   \n",
              "5124  27705  Female  82.0      1.79832    105.103532              88.60  32.5   \n",
              "5127  23989  Female  62.0      1.73736     98.400484              86.40  32.6   \n",
              "5130  46373  Female  57.0      1.67640     72.506178             169.97  25.8   \n",
              "\n",
              "     smoking_status  hypertension  heart_disease ever_married      work_type  \\\n",
              "1      never smoked             0              0          Yes  Self-employed   \n",
              "7      never smoked             0              0           No        Private   \n",
              "8           Unknown             0              0          Yes        Private   \n",
              "9           Unknown             0              0          Yes        Private   \n",
              "10     never smoked             1              0          Yes        Private   \n",
              "...             ...           ...            ...          ...            ...   \n",
              "5106   never smoked             0              0          Yes  Self-employed   \n",
              "5115   never smoked             1              0          Yes        Private   \n",
              "5124        Unknown             0              1          Yes  Self-employed   \n",
              "5127         smokes             0              0          Yes  Self-employed   \n",
              "5130   never smoked             0              0          Yes        Private   \n",
              "\n",
              "     Residence_type  stroke  \n",
              "1             Rural       1  \n",
              "7             Urban       1  \n",
              "8             Rural       1  \n",
              "9             Urban       1  \n",
              "10            Rural       1  \n",
              "...             ...     ...  \n",
              "5106          Urban       0  \n",
              "5115          Urban       0  \n",
              "5124          Rural       0  \n",
              "5127          Urban       0  \n",
              "5130          Rural       0  \n",
              "\n",
              "[1203 rows x 14 columns]"
            ]
          },
          "execution_count": 51,
          "metadata": {},
          "output_type": "execute_result"
        }
      ],
      "source": [
        "## write your code here\n",
        "\n",
        "df.loc[(df['gender'] == \"Female\") & (df['age']>50)]"
      ]
    },
    {
      "cell_type": "markdown",
      "metadata": {
        "id": "MoGtqDg-LDUQ"
      },
      "source": [
        "## Data Wrangling\n",
        "\n",
        "- Data Inspection\n",
        "  - Checking Duplicate Enties\n",
        "  - Checking Missing Values\n",
        "  - Checking standard format\n",
        "  - Checking data entry typos and errors\n",
        "- Data Cleaning\n",
        "  - Removing Duplicates\n",
        "  - Handling Missing Values\n",
        "  - Standardizing Formats\n",
        "  - Correcting Errors\n",
        "- Data Transformation\n",
        "  - Feature Engineering\n",
        "  - Normalization/Scaling\n",
        "  - One-Hot Encoding\n",
        "- Data Integration\n",
        "- Data Reduction\n",
        "- Data Formatting\n",
        "- Data Enrichment\n",
        "- Data Validation\n",
        "- Documentation\n",
        "- Exploratory Data Analysis (EDA)\n"
      ]
    },
    {
      "cell_type": "markdown",
      "metadata": {
        "id": "Tv59NmshLk9h"
      },
      "source": [
        "### Checking Duplicate Entries\n",
        "- Check if duplicate entries are present or not.\n",
        "- If present find how many of duplicate entries are there?"
      ]
    },
    {
      "cell_type": "code",
      "execution_count": 57,
      "metadata": {
        "id": "Lv4Gcme6KDXH"
      },
      "outputs": [
        {
          "data": {
            "text/plain": [
              "0       False\n",
              "1       False\n",
              "2       False\n",
              "3       False\n",
              "4       False\n",
              "        ...  \n",
              "5130     True\n",
              "5131     True\n",
              "5132     True\n",
              "5133     True\n",
              "5134     True\n",
              "Length: 5135, dtype: bool"
            ]
          },
          "execution_count": 57,
          "metadata": {},
          "output_type": "execute_result"
        }
      ],
      "source": [
        "## write your code here\n",
        "df.duplicated()"
      ]
    },
    {
      "cell_type": "code",
      "execution_count": 58,
      "metadata": {},
      "outputs": [
        {
          "data": {
            "text/html": [
              "<div>\n",
              "<style scoped>\n",
              "    .dataframe tbody tr th:only-of-type {\n",
              "        vertical-align: middle;\n",
              "    }\n",
              "\n",
              "    .dataframe tbody tr th {\n",
              "        vertical-align: top;\n",
              "    }\n",
              "\n",
              "    .dataframe thead th {\n",
              "        text-align: right;\n",
              "    }\n",
              "</style>\n",
              "<table border=\"1\" class=\"dataframe\">\n",
              "  <thead>\n",
              "    <tr style=\"text-align: right;\">\n",
              "      <th></th>\n",
              "      <th>id</th>\n",
              "      <th>gender</th>\n",
              "      <th>age</th>\n",
              "      <th>height_in_m</th>\n",
              "      <th>weight_in_kg</th>\n",
              "      <th>avg_glucose_level</th>\n",
              "      <th>bmi</th>\n",
              "      <th>smoking_status</th>\n",
              "      <th>hypertension</th>\n",
              "      <th>heart_disease</th>\n",
              "      <th>ever_married</th>\n",
              "      <th>work_type</th>\n",
              "      <th>Residence_type</th>\n",
              "      <th>stroke</th>\n",
              "    </tr>\n",
              "  </thead>\n",
              "  <tbody>\n",
              "    <tr>\n",
              "      <th>5110</th>\n",
              "      <td>26605</td>\n",
              "      <td>Female</td>\n",
              "      <td>39.0</td>\n",
              "      <td>1.61544</td>\n",
              "      <td>69.416594</td>\n",
              "      <td>102.51</td>\n",
              "      <td>26.6</td>\n",
              "      <td>smokes</td>\n",
              "      <td>0</td>\n",
              "      <td>0</td>\n",
              "      <td>Yes</td>\n",
              "      <td>Private</td>\n",
              "      <td>Rural</td>\n",
              "      <td>0</td>\n",
              "    </tr>\n",
              "    <tr>\n",
              "      <th>5111</th>\n",
              "      <td>5236</td>\n",
              "      <td>Female</td>\n",
              "      <td>49.0</td>\n",
              "      <td>1.73736</td>\n",
              "      <td>99.607852</td>\n",
              "      <td>73.48</td>\n",
              "      <td>33.0</td>\n",
              "      <td>never smoked</td>\n",
              "      <td>0</td>\n",
              "      <td>0</td>\n",
              "      <td>Yes</td>\n",
              "      <td>Private</td>\n",
              "      <td>Rural</td>\n",
              "      <td>0</td>\n",
              "    </tr>\n",
              "    <tr>\n",
              "      <th>5112</th>\n",
              "      <td>11709</td>\n",
              "      <td>Male</td>\n",
              "      <td>71.0</td>\n",
              "      <td>1.55448</td>\n",
              "      <td>76.116854</td>\n",
              "      <td>95.08</td>\n",
              "      <td>31.5</td>\n",
              "      <td>never smoked</td>\n",
              "      <td>0</td>\n",
              "      <td>0</td>\n",
              "      <td>No</td>\n",
              "      <td>Private</td>\n",
              "      <td>Urban</td>\n",
              "      <td>0</td>\n",
              "    </tr>\n",
              "    <tr>\n",
              "      <th>5113</th>\n",
              "      <td>53695</td>\n",
              "      <td>Male</td>\n",
              "      <td>70.0</td>\n",
              "      <td>1.95072</td>\n",
              "      <td>103.504392</td>\n",
              "      <td>81.59</td>\n",
              "      <td>27.2</td>\n",
              "      <td>never smoked</td>\n",
              "      <td>0</td>\n",
              "      <td>0</td>\n",
              "      <td>Yes</td>\n",
              "      <td>Govt_job</td>\n",
              "      <td>Urban</td>\n",
              "      <td>0</td>\n",
              "    </tr>\n",
              "    <tr>\n",
              "      <th>5114</th>\n",
              "      <td>68596</td>\n",
              "      <td>Female</td>\n",
              "      <td>19.0</td>\n",
              "      <td>1.85928</td>\n",
              "      <td>97.485204</td>\n",
              "      <td>58.39</td>\n",
              "      <td>28.2</td>\n",
              "      <td>never smoked</td>\n",
              "      <td>0</td>\n",
              "      <td>0</td>\n",
              "      <td>No</td>\n",
              "      <td>Private</td>\n",
              "      <td>Urban</td>\n",
              "      <td>0</td>\n",
              "    </tr>\n",
              "    <tr>\n",
              "      <th>5115</th>\n",
              "      <td>9160</td>\n",
              "      <td>Female</td>\n",
              "      <td>80.0</td>\n",
              "      <td>1.73736</td>\n",
              "      <td>78.478914</td>\n",
              "      <td>90.77</td>\n",
              "      <td>26.0</td>\n",
              "      <td>never smoked</td>\n",
              "      <td>1</td>\n",
              "      <td>0</td>\n",
              "      <td>Yes</td>\n",
              "      <td>Private</td>\n",
              "      <td>Urban</td>\n",
              "      <td>0</td>\n",
              "    </tr>\n",
              "    <tr>\n",
              "      <th>5116</th>\n",
              "      <td>26474</td>\n",
              "      <td>Female</td>\n",
              "      <td>44.0</td>\n",
              "      <td>1.67640</td>\n",
              "      <td>93.021491</td>\n",
              "      <td>97.16</td>\n",
              "      <td>33.1</td>\n",
              "      <td>Unknown</td>\n",
              "      <td>0</td>\n",
              "      <td>0</td>\n",
              "      <td>Yes</td>\n",
              "      <td>Govt_job</td>\n",
              "      <td>Urban</td>\n",
              "      <td>0</td>\n",
              "    </tr>\n",
              "    <tr>\n",
              "      <th>5117</th>\n",
              "      <td>23633</td>\n",
              "      <td>Female</td>\n",
              "      <td>37.0</td>\n",
              "      <td>1.82880</td>\n",
              "      <td>140.803847</td>\n",
              "      <td>83.65</td>\n",
              "      <td>42.1</td>\n",
              "      <td>smokes</td>\n",
              "      <td>0</td>\n",
              "      <td>0</td>\n",
              "      <td>Yes</td>\n",
              "      <td>Private</td>\n",
              "      <td>Rural</td>\n",
              "      <td>0</td>\n",
              "    </tr>\n",
              "    <tr>\n",
              "      <th>5118</th>\n",
              "      <td>53998</td>\n",
              "      <td>Female</td>\n",
              "      <td>21.0</td>\n",
              "      <td>1.64592</td>\n",
              "      <td>84.793348</td>\n",
              "      <td>58.66</td>\n",
              "      <td>31.3</td>\n",
              "      <td>never smoked</td>\n",
              "      <td>0</td>\n",
              "      <td>0</td>\n",
              "      <td>No</td>\n",
              "      <td>Private</td>\n",
              "      <td>Urban</td>\n",
              "      <td>0</td>\n",
              "    </tr>\n",
              "    <tr>\n",
              "      <th>5119</th>\n",
              "      <td>26242</td>\n",
              "      <td>Male</td>\n",
              "      <td>6.0</td>\n",
              "      <td>1.55448</td>\n",
              "      <td>48.328161</td>\n",
              "      <td>83.28</td>\n",
              "      <td>20.0</td>\n",
              "      <td>Unknown</td>\n",
              "      <td>0</td>\n",
              "      <td>0</td>\n",
              "      <td>NaN</td>\n",
              "      <td>children</td>\n",
              "      <td>Urban</td>\n",
              "      <td>0</td>\n",
              "    </tr>\n",
              "    <tr>\n",
              "      <th>5120</th>\n",
              "      <td>23026</td>\n",
              "      <td>Female</td>\n",
              "      <td>48.0</td>\n",
              "      <td>1.61544</td>\n",
              "      <td>57.673185</td>\n",
              "      <td>99.07</td>\n",
              "      <td>22.1</td>\n",
              "      <td>never smoked</td>\n",
              "      <td>0</td>\n",
              "      <td>0</td>\n",
              "      <td>Yes</td>\n",
              "      <td>Private</td>\n",
              "      <td>Rural</td>\n",
              "      <td>0</td>\n",
              "    </tr>\n",
              "    <tr>\n",
              "      <th>5121</th>\n",
              "      <td>20973</td>\n",
              "      <td>Male</td>\n",
              "      <td>45.0</td>\n",
              "      <td>1.73736</td>\n",
              "      <td>114.398109</td>\n",
              "      <td>86.99</td>\n",
              "      <td>37.9</td>\n",
              "      <td>never smoked</td>\n",
              "      <td>0</td>\n",
              "      <td>0</td>\n",
              "      <td>Yes</td>\n",
              "      <td>Govt_job</td>\n",
              "      <td>Rural</td>\n",
              "      <td>0</td>\n",
              "    </tr>\n",
              "    <tr>\n",
              "      <th>5122</th>\n",
              "      <td>62793</td>\n",
              "      <td>Male</td>\n",
              "      <td>37.0</td>\n",
              "      <td>1.95072</td>\n",
              "      <td>95.893775</td>\n",
              "      <td>79.56</td>\n",
              "      <td>25.2</td>\n",
              "      <td>never smoked</td>\n",
              "      <td>0</td>\n",
              "      <td>0</td>\n",
              "      <td>Yes</td>\n",
              "      <td>Private</td>\n",
              "      <td>Urban</td>\n",
              "      <td>0</td>\n",
              "    </tr>\n",
              "    <tr>\n",
              "      <th>5123</th>\n",
              "      <td>58508</td>\n",
              "      <td>Female</td>\n",
              "      <td>18.0</td>\n",
              "      <td>1.82880</td>\n",
              "      <td>77.592619</td>\n",
              "      <td>112.33</td>\n",
              "      <td>23.2</td>\n",
              "      <td>formerly smoked</td>\n",
              "      <td>0</td>\n",
              "      <td>0</td>\n",
              "      <td>No</td>\n",
              "      <td>Govt_job</td>\n",
              "      <td>Rural</td>\n",
              "      <td>0</td>\n",
              "    </tr>\n",
              "    <tr>\n",
              "      <th>5124</th>\n",
              "      <td>27705</td>\n",
              "      <td>Female</td>\n",
              "      <td>82.0</td>\n",
              "      <td>1.79832</td>\n",
              "      <td>105.103532</td>\n",
              "      <td>88.60</td>\n",
              "      <td>32.5</td>\n",
              "      <td>Unknown</td>\n",
              "      <td>0</td>\n",
              "      <td>1</td>\n",
              "      <td>Yes</td>\n",
              "      <td>Self-employed</td>\n",
              "      <td>Rural</td>\n",
              "      <td>0</td>\n",
              "    </tr>\n",
              "    <tr>\n",
              "      <th>5125</th>\n",
              "      <td>64520</td>\n",
              "      <td>Male</td>\n",
              "      <td>68.0</td>\n",
              "      <td>1.61544</td>\n",
              "      <td>106.473573</td>\n",
              "      <td>91.68</td>\n",
              "      <td>40.8</td>\n",
              "      <td>Unknown</td>\n",
              "      <td>0</td>\n",
              "      <td>0</td>\n",
              "      <td>Yes</td>\n",
              "      <td>Self-employed</td>\n",
              "      <td>Urban</td>\n",
              "      <td>0</td>\n",
              "    </tr>\n",
              "    <tr>\n",
              "      <th>5126</th>\n",
              "      <td>3390</td>\n",
              "      <td>Female</td>\n",
              "      <td>36.0</td>\n",
              "      <td>1.70688</td>\n",
              "      <td>67.591793</td>\n",
              "      <td>100.33</td>\n",
              "      <td>23.2</td>\n",
              "      <td>never smoked</td>\n",
              "      <td>0</td>\n",
              "      <td>0</td>\n",
              "      <td>Yes</td>\n",
              "      <td>Private</td>\n",
              "      <td>Rural</td>\n",
              "      <td>0</td>\n",
              "    </tr>\n",
              "    <tr>\n",
              "      <th>5127</th>\n",
              "      <td>23989</td>\n",
              "      <td>Female</td>\n",
              "      <td>62.0</td>\n",
              "      <td>1.73736</td>\n",
              "      <td>98.400484</td>\n",
              "      <td>86.40</td>\n",
              "      <td>32.6</td>\n",
              "      <td>smokes</td>\n",
              "      <td>0</td>\n",
              "      <td>0</td>\n",
              "      <td>Yes</td>\n",
              "      <td>Self-employed</td>\n",
              "      <td>Urban</td>\n",
              "      <td>0</td>\n",
              "    </tr>\n",
              "    <tr>\n",
              "      <th>5128</th>\n",
              "      <td>35295</td>\n",
              "      <td>Male</td>\n",
              "      <td>69.0</td>\n",
              "      <td>1.95072</td>\n",
              "      <td>103.884923</td>\n",
              "      <td>65.08</td>\n",
              "      <td>27.3</td>\n",
              "      <td>formerly smoked</td>\n",
              "      <td>0</td>\n",
              "      <td>0</td>\n",
              "      <td>Yes</td>\n",
              "      <td>Private</td>\n",
              "      <td>Urban</td>\n",
              "      <td>0</td>\n",
              "    </tr>\n",
              "    <tr>\n",
              "      <th>5129</th>\n",
              "      <td>34966</td>\n",
              "      <td>Female</td>\n",
              "      <td>43.0</td>\n",
              "      <td>1.92024</td>\n",
              "      <td>146.386670</td>\n",
              "      <td>87.41</td>\n",
              "      <td>39.7</td>\n",
              "      <td>formerly smoked</td>\n",
              "      <td>0</td>\n",
              "      <td>0</td>\n",
              "      <td>Yes</td>\n",
              "      <td>Self-employed</td>\n",
              "      <td>Urban</td>\n",
              "      <td>0</td>\n",
              "    </tr>\n",
              "    <tr>\n",
              "      <th>5130</th>\n",
              "      <td>46373</td>\n",
              "      <td>Female</td>\n",
              "      <td>57.0</td>\n",
              "      <td>1.67640</td>\n",
              "      <td>72.506178</td>\n",
              "      <td>169.97</td>\n",
              "      <td>25.8</td>\n",
              "      <td>never smoked</td>\n",
              "      <td>0</td>\n",
              "      <td>0</td>\n",
              "      <td>Yes</td>\n",
              "      <td>Private</td>\n",
              "      <td>Rural</td>\n",
              "      <td>0</td>\n",
              "    </tr>\n",
              "    <tr>\n",
              "      <th>5131</th>\n",
              "      <td>40112</td>\n",
              "      <td>Female</td>\n",
              "      <td>37.0</td>\n",
              "      <td>1.92024</td>\n",
              "      <td>92.551774</td>\n",
              "      <td>118.41</td>\n",
              "      <td>25.1</td>\n",
              "      <td>never smoked</td>\n",
              "      <td>0</td>\n",
              "      <td>0</td>\n",
              "      <td>No</td>\n",
              "      <td>Private</td>\n",
              "      <td>Urban</td>\n",
              "      <td>0</td>\n",
              "    </tr>\n",
              "    <tr>\n",
              "      <th>5132</th>\n",
              "      <td>32240</td>\n",
              "      <td>Female</td>\n",
              "      <td>27.0</td>\n",
              "      <td>1.82880</td>\n",
              "      <td>139.131593</td>\n",
              "      <td>93.55</td>\n",
              "      <td>41.6</td>\n",
              "      <td>never smoked</td>\n",
              "      <td>0</td>\n",
              "      <td>0</td>\n",
              "      <td>No</td>\n",
              "      <td>Private</td>\n",
              "      <td>Urban</td>\n",
              "      <td>0</td>\n",
              "    </tr>\n",
              "    <tr>\n",
              "      <th>5133</th>\n",
              "      <td>69312</td>\n",
              "      <td>Female</td>\n",
              "      <td>48.0</td>\n",
              "      <td>1.58496</td>\n",
              "      <td>78.377464</td>\n",
              "      <td>99.29</td>\n",
              "      <td>31.2</td>\n",
              "      <td>never smoked</td>\n",
              "      <td>0</td>\n",
              "      <td>0</td>\n",
              "      <td>Yes</td>\n",
              "      <td>Self-employed</td>\n",
              "      <td>Urban</td>\n",
              "      <td>0</td>\n",
              "    </tr>\n",
              "    <tr>\n",
              "      <th>5134</th>\n",
              "      <td>25763</td>\n",
              "      <td>Female</td>\n",
              "      <td>23.0</td>\n",
              "      <td>1.64592</td>\n",
              "      <td>76.666190</td>\n",
              "      <td>98.66</td>\n",
              "      <td>28.3</td>\n",
              "      <td>Unknown</td>\n",
              "      <td>0</td>\n",
              "      <td>0</td>\n",
              "      <td>No</td>\n",
              "      <td>Private</td>\n",
              "      <td>Urban</td>\n",
              "      <td>0</td>\n",
              "    </tr>\n",
              "  </tbody>\n",
              "</table>\n",
              "</div>"
            ],
            "text/plain": [
              "         id  gender   age  height_in_m  weight_in_kg  avg_glucose_level   bmi  \\\n",
              "5110  26605  Female  39.0      1.61544     69.416594             102.51  26.6   \n",
              "5111   5236  Female  49.0      1.73736     99.607852              73.48  33.0   \n",
              "5112  11709    Male  71.0      1.55448     76.116854              95.08  31.5   \n",
              "5113  53695    Male  70.0      1.95072    103.504392              81.59  27.2   \n",
              "5114  68596  Female  19.0      1.85928     97.485204              58.39  28.2   \n",
              "5115   9160  Female  80.0      1.73736     78.478914              90.77  26.0   \n",
              "5116  26474  Female  44.0      1.67640     93.021491              97.16  33.1   \n",
              "5117  23633  Female  37.0      1.82880    140.803847              83.65  42.1   \n",
              "5118  53998  Female  21.0      1.64592     84.793348              58.66  31.3   \n",
              "5119  26242    Male   6.0      1.55448     48.328161              83.28  20.0   \n",
              "5120  23026  Female  48.0      1.61544     57.673185              99.07  22.1   \n",
              "5121  20973    Male  45.0      1.73736    114.398109              86.99  37.9   \n",
              "5122  62793    Male  37.0      1.95072     95.893775              79.56  25.2   \n",
              "5123  58508  Female  18.0      1.82880     77.592619             112.33  23.2   \n",
              "5124  27705  Female  82.0      1.79832    105.103532              88.60  32.5   \n",
              "5125  64520    Male  68.0      1.61544    106.473573              91.68  40.8   \n",
              "5126   3390  Female  36.0      1.70688     67.591793             100.33  23.2   \n",
              "5127  23989  Female  62.0      1.73736     98.400484              86.40  32.6   \n",
              "5128  35295    Male  69.0      1.95072    103.884923              65.08  27.3   \n",
              "5129  34966  Female  43.0      1.92024    146.386670              87.41  39.7   \n",
              "5130  46373  Female  57.0      1.67640     72.506178             169.97  25.8   \n",
              "5131  40112  Female  37.0      1.92024     92.551774             118.41  25.1   \n",
              "5132  32240  Female  27.0      1.82880    139.131593              93.55  41.6   \n",
              "5133  69312  Female  48.0      1.58496     78.377464              99.29  31.2   \n",
              "5134  25763  Female  23.0      1.64592     76.666190              98.66  28.3   \n",
              "\n",
              "       smoking_status  hypertension  heart_disease ever_married  \\\n",
              "5110           smokes             0              0          Yes   \n",
              "5111     never smoked             0              0          Yes   \n",
              "5112     never smoked             0              0           No   \n",
              "5113     never smoked             0              0          Yes   \n",
              "5114     never smoked             0              0           No   \n",
              "5115     never smoked             1              0          Yes   \n",
              "5116          Unknown             0              0          Yes   \n",
              "5117           smokes             0              0          Yes   \n",
              "5118     never smoked             0              0           No   \n",
              "5119          Unknown             0              0          NaN   \n",
              "5120     never smoked             0              0          Yes   \n",
              "5121     never smoked             0              0          Yes   \n",
              "5122     never smoked             0              0          Yes   \n",
              "5123  formerly smoked             0              0           No   \n",
              "5124          Unknown             0              1          Yes   \n",
              "5125          Unknown             0              0          Yes   \n",
              "5126     never smoked             0              0          Yes   \n",
              "5127           smokes             0              0          Yes   \n",
              "5128  formerly smoked             0              0          Yes   \n",
              "5129  formerly smoked             0              0          Yes   \n",
              "5130     never smoked             0              0          Yes   \n",
              "5131     never smoked             0              0           No   \n",
              "5132     never smoked             0              0           No   \n",
              "5133     never smoked             0              0          Yes   \n",
              "5134          Unknown             0              0           No   \n",
              "\n",
              "          work_type Residence_type  stroke  \n",
              "5110        Private          Rural       0  \n",
              "5111        Private          Rural       0  \n",
              "5112        Private          Urban       0  \n",
              "5113       Govt_job          Urban       0  \n",
              "5114        Private          Urban       0  \n",
              "5115        Private          Urban       0  \n",
              "5116       Govt_job          Urban       0  \n",
              "5117        Private          Rural       0  \n",
              "5118        Private          Urban       0  \n",
              "5119       children          Urban       0  \n",
              "5120        Private          Rural       0  \n",
              "5121       Govt_job          Rural       0  \n",
              "5122        Private          Urban       0  \n",
              "5123       Govt_job          Rural       0  \n",
              "5124  Self-employed          Rural       0  \n",
              "5125  Self-employed          Urban       0  \n",
              "5126        Private          Rural       0  \n",
              "5127  Self-employed          Urban       0  \n",
              "5128        Private          Urban       0  \n",
              "5129  Self-employed          Urban       0  \n",
              "5130        Private          Rural       0  \n",
              "5131        Private          Urban       0  \n",
              "5132        Private          Urban       0  \n",
              "5133  Self-employed          Urban       0  \n",
              "5134        Private          Urban       0  "
            ]
          },
          "execution_count": 58,
          "metadata": {},
          "output_type": "execute_result"
        }
      ],
      "source": [
        "df[df.duplicated()]"
      ]
    },
    {
      "cell_type": "code",
      "execution_count": 59,
      "metadata": {
        "id": "ZvMjZ2T-KpId"
      },
      "outputs": [
        {
          "data": {
            "text/html": [
              "<div>\n",
              "<style scoped>\n",
              "    .dataframe tbody tr th:only-of-type {\n",
              "        vertical-align: middle;\n",
              "    }\n",
              "\n",
              "    .dataframe tbody tr th {\n",
              "        vertical-align: top;\n",
              "    }\n",
              "\n",
              "    .dataframe thead th {\n",
              "        text-align: right;\n",
              "    }\n",
              "</style>\n",
              "<table border=\"1\" class=\"dataframe\">\n",
              "  <thead>\n",
              "    <tr style=\"text-align: right;\">\n",
              "      <th></th>\n",
              "      <th>id</th>\n",
              "      <th>gender</th>\n",
              "      <th>age</th>\n",
              "      <th>height_in_m</th>\n",
              "      <th>weight_in_kg</th>\n",
              "      <th>avg_glucose_level</th>\n",
              "      <th>bmi</th>\n",
              "      <th>smoking_status</th>\n",
              "      <th>hypertension</th>\n",
              "      <th>heart_disease</th>\n",
              "      <th>ever_married</th>\n",
              "      <th>work_type</th>\n",
              "      <th>Residence_type</th>\n",
              "      <th>stroke</th>\n",
              "    </tr>\n",
              "  </thead>\n",
              "  <tbody>\n",
              "    <tr>\n",
              "      <th>0</th>\n",
              "      <td>9046</td>\n",
              "      <td>Male</td>\n",
              "      <td>67.0</td>\n",
              "      <td>1.82880</td>\n",
              "      <td>122.409046</td>\n",
              "      <td>169.35</td>\n",
              "      <td>36.6</td>\n",
              "      <td>formerly smoked</td>\n",
              "      <td>0</td>\n",
              "      <td>1</td>\n",
              "      <td>Yes</td>\n",
              "      <td>Private</td>\n",
              "      <td>Urban</td>\n",
              "      <td>1</td>\n",
              "    </tr>\n",
              "    <tr>\n",
              "      <th>1</th>\n",
              "      <td>51676</td>\n",
              "      <td>Female</td>\n",
              "      <td>61.0</td>\n",
              "      <td>1.64592</td>\n",
              "      <td>NaN</td>\n",
              "      <td>169.35</td>\n",
              "      <td>NaN</td>\n",
              "      <td>never smoked</td>\n",
              "      <td>0</td>\n",
              "      <td>0</td>\n",
              "      <td>Yes</td>\n",
              "      <td>Self-employed</td>\n",
              "      <td>Rural</td>\n",
              "      <td>1</td>\n",
              "    </tr>\n",
              "    <tr>\n",
              "      <th>2</th>\n",
              "      <td>31112</td>\n",
              "      <td>Male</td>\n",
              "      <td>80.0</td>\n",
              "      <td>1.79832</td>\n",
              "      <td>105.103532</td>\n",
              "      <td>105.92</td>\n",
              "      <td>32.5</td>\n",
              "      <td>never smoked</td>\n",
              "      <td>0</td>\n",
              "      <td>1</td>\n",
              "      <td>Yes</td>\n",
              "      <td>Private</td>\n",
              "      <td>Rural</td>\n",
              "      <td>1</td>\n",
              "    </tr>\n",
              "    <tr>\n",
              "      <th>3</th>\n",
              "      <td>60182</td>\n",
              "      <td>Female</td>\n",
              "      <td>49.0</td>\n",
              "      <td>1.92024</td>\n",
              "      <td>126.843865</td>\n",
              "      <td>169.35</td>\n",
              "      <td>34.4</td>\n",
              "      <td>smokes</td>\n",
              "      <td>0</td>\n",
              "      <td>0</td>\n",
              "      <td>Yes</td>\n",
              "      <td>Private</td>\n",
              "      <td>Urban</td>\n",
              "      <td>1</td>\n",
              "    </tr>\n",
              "    <tr>\n",
              "      <th>4</th>\n",
              "      <td>1665</td>\n",
              "      <td>female</td>\n",
              "      <td>79.0</td>\n",
              "      <td>1.85928</td>\n",
              "      <td>82.966131</td>\n",
              "      <td>169.35</td>\n",
              "      <td>24.0</td>\n",
              "      <td>never smoked</td>\n",
              "      <td>1</td>\n",
              "      <td>0</td>\n",
              "      <td>Yes</td>\n",
              "      <td>Self-employed</td>\n",
              "      <td>Rural</td>\n",
              "      <td>1</td>\n",
              "    </tr>\n",
              "    <tr>\n",
              "      <th>...</th>\n",
              "      <td>...</td>\n",
              "      <td>...</td>\n",
              "      <td>...</td>\n",
              "      <td>...</td>\n",
              "      <td>...</td>\n",
              "      <td>...</td>\n",
              "      <td>...</td>\n",
              "      <td>...</td>\n",
              "      <td>...</td>\n",
              "      <td>...</td>\n",
              "      <td>...</td>\n",
              "      <td>...</td>\n",
              "      <td>...</td>\n",
              "      <td>...</td>\n",
              "    </tr>\n",
              "    <tr>\n",
              "      <th>5105</th>\n",
              "      <td>18234</td>\n",
              "      <td>Female</td>\n",
              "      <td>80.0</td>\n",
              "      <td>1.73736</td>\n",
              "      <td>NaN</td>\n",
              "      <td>83.75</td>\n",
              "      <td>NaN</td>\n",
              "      <td>never smoked</td>\n",
              "      <td>1</td>\n",
              "      <td>0</td>\n",
              "      <td>Yes</td>\n",
              "      <td>Private</td>\n",
              "      <td>Urban</td>\n",
              "      <td>0</td>\n",
              "    </tr>\n",
              "    <tr>\n",
              "      <th>5106</th>\n",
              "      <td>44873</td>\n",
              "      <td>Female</td>\n",
              "      <td>81.0</td>\n",
              "      <td>1.88976</td>\n",
              "      <td>142.847714</td>\n",
              "      <td>125.20</td>\n",
              "      <td>40.0</td>\n",
              "      <td>never smoked</td>\n",
              "      <td>0</td>\n",
              "      <td>0</td>\n",
              "      <td>Yes</td>\n",
              "      <td>Self-employed</td>\n",
              "      <td>Urban</td>\n",
              "      <td>0</td>\n",
              "    </tr>\n",
              "    <tr>\n",
              "      <th>5107</th>\n",
              "      <td>19723</td>\n",
              "      <td>Female</td>\n",
              "      <td>35.0</td>\n",
              "      <td>1.82880</td>\n",
              "      <td>102.341989</td>\n",
              "      <td>82.99</td>\n",
              "      <td>30.6</td>\n",
              "      <td>never smoked</td>\n",
              "      <td>0</td>\n",
              "      <td>0</td>\n",
              "      <td>Yes</td>\n",
              "      <td>Self-employed</td>\n",
              "      <td>Rural</td>\n",
              "      <td>0</td>\n",
              "    </tr>\n",
              "    <tr>\n",
              "      <th>5108</th>\n",
              "      <td>37544</td>\n",
              "      <td>Male</td>\n",
              "      <td>51.0</td>\n",
              "      <td>1.82880</td>\n",
              "      <td>85.619442</td>\n",
              "      <td>166.29</td>\n",
              "      <td>25.6</td>\n",
              "      <td>formerly smoked</td>\n",
              "      <td>0</td>\n",
              "      <td>0</td>\n",
              "      <td>Yes</td>\n",
              "      <td>Private</td>\n",
              "      <td>Rural</td>\n",
              "      <td>0</td>\n",
              "    </tr>\n",
              "    <tr>\n",
              "      <th>5109</th>\n",
              "      <td>44679</td>\n",
              "      <td>Female</td>\n",
              "      <td>44.0</td>\n",
              "      <td>1.58496</td>\n",
              "      <td>65.816973</td>\n",
              "      <td>85.28</td>\n",
              "      <td>26.2</td>\n",
              "      <td>Unknown</td>\n",
              "      <td>0</td>\n",
              "      <td>0</td>\n",
              "      <td>Yes</td>\n",
              "      <td>Govt_job</td>\n",
              "      <td>Urban</td>\n",
              "      <td>0</td>\n",
              "    </tr>\n",
              "  </tbody>\n",
              "</table>\n",
              "<p>5110 rows × 14 columns</p>\n",
              "</div>"
            ],
            "text/plain": [
              "         id  gender   age  height_in_m  weight_in_kg  avg_glucose_level   bmi  \\\n",
              "0      9046    Male  67.0      1.82880    122.409046             169.35  36.6   \n",
              "1     51676  Female  61.0      1.64592           NaN             169.35   NaN   \n",
              "2     31112    Male  80.0      1.79832    105.103532             105.92  32.5   \n",
              "3     60182  Female  49.0      1.92024    126.843865             169.35  34.4   \n",
              "4      1665  female  79.0      1.85928     82.966131             169.35  24.0   \n",
              "...     ...     ...   ...          ...           ...                ...   ...   \n",
              "5105  18234  Female  80.0      1.73736           NaN              83.75   NaN   \n",
              "5106  44873  Female  81.0      1.88976    142.847714             125.20  40.0   \n",
              "5107  19723  Female  35.0      1.82880    102.341989              82.99  30.6   \n",
              "5108  37544    Male  51.0      1.82880     85.619442             166.29  25.6   \n",
              "5109  44679  Female  44.0      1.58496     65.816973              85.28  26.2   \n",
              "\n",
              "       smoking_status  hypertension  heart_disease ever_married  \\\n",
              "0     formerly smoked             0              1          Yes   \n",
              "1        never smoked             0              0          Yes   \n",
              "2        never smoked             0              1          Yes   \n",
              "3              smokes             0              0          Yes   \n",
              "4        never smoked             1              0          Yes   \n",
              "...               ...           ...            ...          ...   \n",
              "5105     never smoked             1              0          Yes   \n",
              "5106     never smoked             0              0          Yes   \n",
              "5107     never smoked             0              0          Yes   \n",
              "5108  formerly smoked             0              0          Yes   \n",
              "5109          Unknown             0              0          Yes   \n",
              "\n",
              "          work_type Residence_type  stroke  \n",
              "0           Private          Urban       1  \n",
              "1     Self-employed          Rural       1  \n",
              "2           Private          Rural       1  \n",
              "3           Private          Urban       1  \n",
              "4     Self-employed          Rural       1  \n",
              "...             ...            ...     ...  \n",
              "5105        Private          Urban       0  \n",
              "5106  Self-employed          Urban       0  \n",
              "5107  Self-employed          Rural       0  \n",
              "5108        Private          Rural       0  \n",
              "5109       Govt_job          Urban       0  \n",
              "\n",
              "[5110 rows x 14 columns]"
            ]
          },
          "execution_count": 59,
          "metadata": {},
          "output_type": "execute_result"
        }
      ],
      "source": [
        "# Now removing the duplicated things\n",
        "## write your code here\n",
        "\n",
        "df[~df.duplicated()]"
      ]
    },
    {
      "cell_type": "code",
      "execution_count": 63,
      "metadata": {},
      "outputs": [
        {
          "data": {
            "text/plain": [
              "0       False\n",
              "1       False\n",
              "2       False\n",
              "3       False\n",
              "4       False\n",
              "        ...  \n",
              "5105    False\n",
              "5106    False\n",
              "5107    False\n",
              "5108    False\n",
              "5109    False\n",
              "Length: 5110, dtype: bool"
            ]
          },
          "execution_count": 63,
          "metadata": {},
          "output_type": "execute_result"
        }
      ],
      "source": [
        "df[~df.duplicated()].duplicated()"
      ]
    },
    {
      "cell_type": "code",
      "execution_count": 64,
      "metadata": {},
      "outputs": [
        {
          "data": {
            "text/plain": [
              "False    5110\n",
              "Name: count, dtype: int64"
            ]
          },
          "execution_count": 64,
          "metadata": {},
          "output_type": "execute_result"
        }
      ],
      "source": [
        "df[~df.duplicated()].duplicated().value_counts()"
      ]
    },
    {
      "cell_type": "code",
      "execution_count": 65,
      "metadata": {},
      "outputs": [
        {
          "data": {
            "text/plain": [
              "(5110, 14)"
            ]
          },
          "execution_count": 65,
          "metadata": {},
          "output_type": "execute_result"
        }
      ],
      "source": [
        "df = df[~df.duplicated()]\n",
        "\n",
        "df.shape"
      ]
    },
    {
      "cell_type": "markdown",
      "metadata": {
        "id": "uBv2FTw7L7gK"
      },
      "source": [
        "## Remove Duplicate Entries\n",
        "\n",
        "- Remove all those rows which has duplicate entries"
      ]
    },
    {
      "cell_type": "code",
      "execution_count": null,
      "metadata": {
        "id": "VUKSJBHbLtHB"
      },
      "outputs": [],
      "source": [
        "## write your code here\n"
      ]
    },
    {
      "cell_type": "code",
      "execution_count": 66,
      "metadata": {
        "id": "Rn_WXSMUMEJI"
      },
      "outputs": [],
      "source": [
        "## write your code here\n",
        "\n",
        "# we did earlier"
      ]
    },
    {
      "cell_type": "markdown",
      "metadata": {
        "id": "ZIQdCWmjMi8R"
      },
      "source": [
        "## Checking Missing Values\n",
        "- Find missing values (NAN) values in the datasets\n",
        "- Find columns which has missing values with their frequency"
      ]
    },
    {
      "cell_type": "code",
      "execution_count": 70,
      "metadata": {},
      "outputs": [
        {
          "data": {
            "text/html": [
              "<div>\n",
              "<style scoped>\n",
              "    .dataframe tbody tr th:only-of-type {\n",
              "        vertical-align: middle;\n",
              "    }\n",
              "\n",
              "    .dataframe tbody tr th {\n",
              "        vertical-align: top;\n",
              "    }\n",
              "\n",
              "    .dataframe thead th {\n",
              "        text-align: right;\n",
              "    }\n",
              "</style>\n",
              "<table border=\"1\" class=\"dataframe\">\n",
              "  <thead>\n",
              "    <tr style=\"text-align: right;\">\n",
              "      <th></th>\n",
              "      <th>id</th>\n",
              "      <th>gender</th>\n",
              "      <th>age</th>\n",
              "      <th>height_in_m</th>\n",
              "      <th>weight_in_kg</th>\n",
              "      <th>avg_glucose_level</th>\n",
              "      <th>bmi</th>\n",
              "      <th>smoking_status</th>\n",
              "      <th>hypertension</th>\n",
              "      <th>heart_disease</th>\n",
              "      <th>ever_married</th>\n",
              "      <th>work_type</th>\n",
              "      <th>Residence_type</th>\n",
              "      <th>stroke</th>\n",
              "    </tr>\n",
              "  </thead>\n",
              "  <tbody>\n",
              "    <tr>\n",
              "      <th>0</th>\n",
              "      <td>9046</td>\n",
              "      <td>Male</td>\n",
              "      <td>67.0</td>\n",
              "      <td>1.82880</td>\n",
              "      <td>122.409046</td>\n",
              "      <td>169.35</td>\n",
              "      <td>36.6</td>\n",
              "      <td>formerly smoked</td>\n",
              "      <td>0</td>\n",
              "      <td>1</td>\n",
              "      <td>Yes</td>\n",
              "      <td>Private</td>\n",
              "      <td>Urban</td>\n",
              "      <td>1</td>\n",
              "    </tr>\n",
              "    <tr>\n",
              "      <th>1</th>\n",
              "      <td>51676</td>\n",
              "      <td>Female</td>\n",
              "      <td>61.0</td>\n",
              "      <td>1.64592</td>\n",
              "      <td>NaN</td>\n",
              "      <td>169.35</td>\n",
              "      <td>NaN</td>\n",
              "      <td>never smoked</td>\n",
              "      <td>0</td>\n",
              "      <td>0</td>\n",
              "      <td>Yes</td>\n",
              "      <td>Self-employed</td>\n",
              "      <td>Rural</td>\n",
              "      <td>1</td>\n",
              "    </tr>\n",
              "    <tr>\n",
              "      <th>2</th>\n",
              "      <td>31112</td>\n",
              "      <td>Male</td>\n",
              "      <td>80.0</td>\n",
              "      <td>1.79832</td>\n",
              "      <td>105.103532</td>\n",
              "      <td>105.92</td>\n",
              "      <td>32.5</td>\n",
              "      <td>never smoked</td>\n",
              "      <td>0</td>\n",
              "      <td>1</td>\n",
              "      <td>Yes</td>\n",
              "      <td>Private</td>\n",
              "      <td>Rural</td>\n",
              "      <td>1</td>\n",
              "    </tr>\n",
              "    <tr>\n",
              "      <th>3</th>\n",
              "      <td>60182</td>\n",
              "      <td>Female</td>\n",
              "      <td>49.0</td>\n",
              "      <td>1.92024</td>\n",
              "      <td>126.843865</td>\n",
              "      <td>169.35</td>\n",
              "      <td>34.4</td>\n",
              "      <td>smokes</td>\n",
              "      <td>0</td>\n",
              "      <td>0</td>\n",
              "      <td>Yes</td>\n",
              "      <td>Private</td>\n",
              "      <td>Urban</td>\n",
              "      <td>1</td>\n",
              "    </tr>\n",
              "    <tr>\n",
              "      <th>4</th>\n",
              "      <td>1665</td>\n",
              "      <td>female</td>\n",
              "      <td>79.0</td>\n",
              "      <td>1.85928</td>\n",
              "      <td>82.966131</td>\n",
              "      <td>169.35</td>\n",
              "      <td>24.0</td>\n",
              "      <td>never smoked</td>\n",
              "      <td>1</td>\n",
              "      <td>0</td>\n",
              "      <td>Yes</td>\n",
              "      <td>Self-employed</td>\n",
              "      <td>Rural</td>\n",
              "      <td>1</td>\n",
              "    </tr>\n",
              "    <tr>\n",
              "      <th>...</th>\n",
              "      <td>...</td>\n",
              "      <td>...</td>\n",
              "      <td>...</td>\n",
              "      <td>...</td>\n",
              "      <td>...</td>\n",
              "      <td>...</td>\n",
              "      <td>...</td>\n",
              "      <td>...</td>\n",
              "      <td>...</td>\n",
              "      <td>...</td>\n",
              "      <td>...</td>\n",
              "      <td>...</td>\n",
              "      <td>...</td>\n",
              "      <td>...</td>\n",
              "    </tr>\n",
              "    <tr>\n",
              "      <th>5105</th>\n",
              "      <td>18234</td>\n",
              "      <td>Female</td>\n",
              "      <td>80.0</td>\n",
              "      <td>1.73736</td>\n",
              "      <td>NaN</td>\n",
              "      <td>83.75</td>\n",
              "      <td>NaN</td>\n",
              "      <td>never smoked</td>\n",
              "      <td>1</td>\n",
              "      <td>0</td>\n",
              "      <td>Yes</td>\n",
              "      <td>Private</td>\n",
              "      <td>Urban</td>\n",
              "      <td>0</td>\n",
              "    </tr>\n",
              "    <tr>\n",
              "      <th>5106</th>\n",
              "      <td>44873</td>\n",
              "      <td>Female</td>\n",
              "      <td>81.0</td>\n",
              "      <td>1.88976</td>\n",
              "      <td>142.847714</td>\n",
              "      <td>125.20</td>\n",
              "      <td>40.0</td>\n",
              "      <td>never smoked</td>\n",
              "      <td>0</td>\n",
              "      <td>0</td>\n",
              "      <td>Yes</td>\n",
              "      <td>Self-employed</td>\n",
              "      <td>Urban</td>\n",
              "      <td>0</td>\n",
              "    </tr>\n",
              "    <tr>\n",
              "      <th>5107</th>\n",
              "      <td>19723</td>\n",
              "      <td>Female</td>\n",
              "      <td>35.0</td>\n",
              "      <td>1.82880</td>\n",
              "      <td>102.341989</td>\n",
              "      <td>82.99</td>\n",
              "      <td>30.6</td>\n",
              "      <td>never smoked</td>\n",
              "      <td>0</td>\n",
              "      <td>0</td>\n",
              "      <td>Yes</td>\n",
              "      <td>Self-employed</td>\n",
              "      <td>Rural</td>\n",
              "      <td>0</td>\n",
              "    </tr>\n",
              "    <tr>\n",
              "      <th>5108</th>\n",
              "      <td>37544</td>\n",
              "      <td>Male</td>\n",
              "      <td>51.0</td>\n",
              "      <td>1.82880</td>\n",
              "      <td>85.619442</td>\n",
              "      <td>166.29</td>\n",
              "      <td>25.6</td>\n",
              "      <td>formerly smoked</td>\n",
              "      <td>0</td>\n",
              "      <td>0</td>\n",
              "      <td>Yes</td>\n",
              "      <td>Private</td>\n",
              "      <td>Rural</td>\n",
              "      <td>0</td>\n",
              "    </tr>\n",
              "    <tr>\n",
              "      <th>5109</th>\n",
              "      <td>44679</td>\n",
              "      <td>Female</td>\n",
              "      <td>44.0</td>\n",
              "      <td>1.58496</td>\n",
              "      <td>65.816973</td>\n",
              "      <td>85.28</td>\n",
              "      <td>26.2</td>\n",
              "      <td>Unknown</td>\n",
              "      <td>0</td>\n",
              "      <td>0</td>\n",
              "      <td>Yes</td>\n",
              "      <td>Govt_job</td>\n",
              "      <td>Urban</td>\n",
              "      <td>0</td>\n",
              "    </tr>\n",
              "  </tbody>\n",
              "</table>\n",
              "<p>5110 rows × 14 columns</p>\n",
              "</div>"
            ],
            "text/plain": [
              "         id  gender   age  height_in_m  weight_in_kg  avg_glucose_level   bmi  \\\n",
              "0      9046    Male  67.0      1.82880    122.409046             169.35  36.6   \n",
              "1     51676  Female  61.0      1.64592           NaN             169.35   NaN   \n",
              "2     31112    Male  80.0      1.79832    105.103532             105.92  32.5   \n",
              "3     60182  Female  49.0      1.92024    126.843865             169.35  34.4   \n",
              "4      1665  female  79.0      1.85928     82.966131             169.35  24.0   \n",
              "...     ...     ...   ...          ...           ...                ...   ...   \n",
              "5105  18234  Female  80.0      1.73736           NaN              83.75   NaN   \n",
              "5106  44873  Female  81.0      1.88976    142.847714             125.20  40.0   \n",
              "5107  19723  Female  35.0      1.82880    102.341989              82.99  30.6   \n",
              "5108  37544    Male  51.0      1.82880     85.619442             166.29  25.6   \n",
              "5109  44679  Female  44.0      1.58496     65.816973              85.28  26.2   \n",
              "\n",
              "       smoking_status  hypertension  heart_disease ever_married  \\\n",
              "0     formerly smoked             0              1          Yes   \n",
              "1        never smoked             0              0          Yes   \n",
              "2        never smoked             0              1          Yes   \n",
              "3              smokes             0              0          Yes   \n",
              "4        never smoked             1              0          Yes   \n",
              "...               ...           ...            ...          ...   \n",
              "5105     never smoked             1              0          Yes   \n",
              "5106     never smoked             0              0          Yes   \n",
              "5107     never smoked             0              0          Yes   \n",
              "5108  formerly smoked             0              0          Yes   \n",
              "5109          Unknown             0              0          Yes   \n",
              "\n",
              "          work_type Residence_type  stroke  \n",
              "0           Private          Urban       1  \n",
              "1     Self-employed          Rural       1  \n",
              "2           Private          Rural       1  \n",
              "3           Private          Urban       1  \n",
              "4     Self-employed          Rural       1  \n",
              "...             ...            ...     ...  \n",
              "5105        Private          Urban       0  \n",
              "5106  Self-employed          Urban       0  \n",
              "5107  Self-employed          Rural       0  \n",
              "5108        Private          Rural       0  \n",
              "5109       Govt_job          Urban       0  \n",
              "\n",
              "[5110 rows x 14 columns]"
            ]
          },
          "execution_count": 70,
          "metadata": {},
          "output_type": "execute_result"
        }
      ],
      "source": [
        "df"
      ]
    },
    {
      "cell_type": "code",
      "execution_count": 68,
      "metadata": {
        "id": "v8cakW4cMNKi"
      },
      "outputs": [
        {
          "data": {
            "text/html": [
              "<div>\n",
              "<style scoped>\n",
              "    .dataframe tbody tr th:only-of-type {\n",
              "        vertical-align: middle;\n",
              "    }\n",
              "\n",
              "    .dataframe tbody tr th {\n",
              "        vertical-align: top;\n",
              "    }\n",
              "\n",
              "    .dataframe thead th {\n",
              "        text-align: right;\n",
              "    }\n",
              "</style>\n",
              "<table border=\"1\" class=\"dataframe\">\n",
              "  <thead>\n",
              "    <tr style=\"text-align: right;\">\n",
              "      <th></th>\n",
              "      <th>id</th>\n",
              "      <th>gender</th>\n",
              "      <th>age</th>\n",
              "      <th>height_in_m</th>\n",
              "      <th>weight_in_kg</th>\n",
              "      <th>avg_glucose_level</th>\n",
              "      <th>bmi</th>\n",
              "      <th>smoking_status</th>\n",
              "      <th>hypertension</th>\n",
              "      <th>heart_disease</th>\n",
              "      <th>ever_married</th>\n",
              "      <th>work_type</th>\n",
              "      <th>Residence_type</th>\n",
              "      <th>stroke</th>\n",
              "    </tr>\n",
              "  </thead>\n",
              "  <tbody>\n",
              "    <tr>\n",
              "      <th>0</th>\n",
              "      <td>False</td>\n",
              "      <td>False</td>\n",
              "      <td>False</td>\n",
              "      <td>False</td>\n",
              "      <td>False</td>\n",
              "      <td>False</td>\n",
              "      <td>False</td>\n",
              "      <td>False</td>\n",
              "      <td>False</td>\n",
              "      <td>False</td>\n",
              "      <td>False</td>\n",
              "      <td>False</td>\n",
              "      <td>False</td>\n",
              "      <td>False</td>\n",
              "    </tr>\n",
              "    <tr>\n",
              "      <th>1</th>\n",
              "      <td>False</td>\n",
              "      <td>False</td>\n",
              "      <td>False</td>\n",
              "      <td>False</td>\n",
              "      <td>True</td>\n",
              "      <td>False</td>\n",
              "      <td>True</td>\n",
              "      <td>False</td>\n",
              "      <td>False</td>\n",
              "      <td>False</td>\n",
              "      <td>False</td>\n",
              "      <td>False</td>\n",
              "      <td>False</td>\n",
              "      <td>False</td>\n",
              "    </tr>\n",
              "    <tr>\n",
              "      <th>2</th>\n",
              "      <td>False</td>\n",
              "      <td>False</td>\n",
              "      <td>False</td>\n",
              "      <td>False</td>\n",
              "      <td>False</td>\n",
              "      <td>False</td>\n",
              "      <td>False</td>\n",
              "      <td>False</td>\n",
              "      <td>False</td>\n",
              "      <td>False</td>\n",
              "      <td>False</td>\n",
              "      <td>False</td>\n",
              "      <td>False</td>\n",
              "      <td>False</td>\n",
              "    </tr>\n",
              "    <tr>\n",
              "      <th>3</th>\n",
              "      <td>False</td>\n",
              "      <td>False</td>\n",
              "      <td>False</td>\n",
              "      <td>False</td>\n",
              "      <td>False</td>\n",
              "      <td>False</td>\n",
              "      <td>False</td>\n",
              "      <td>False</td>\n",
              "      <td>False</td>\n",
              "      <td>False</td>\n",
              "      <td>False</td>\n",
              "      <td>False</td>\n",
              "      <td>False</td>\n",
              "      <td>False</td>\n",
              "    </tr>\n",
              "    <tr>\n",
              "      <th>4</th>\n",
              "      <td>False</td>\n",
              "      <td>False</td>\n",
              "      <td>False</td>\n",
              "      <td>False</td>\n",
              "      <td>False</td>\n",
              "      <td>False</td>\n",
              "      <td>False</td>\n",
              "      <td>False</td>\n",
              "      <td>False</td>\n",
              "      <td>False</td>\n",
              "      <td>False</td>\n",
              "      <td>False</td>\n",
              "      <td>False</td>\n",
              "      <td>False</td>\n",
              "    </tr>\n",
              "    <tr>\n",
              "      <th>...</th>\n",
              "      <td>...</td>\n",
              "      <td>...</td>\n",
              "      <td>...</td>\n",
              "      <td>...</td>\n",
              "      <td>...</td>\n",
              "      <td>...</td>\n",
              "      <td>...</td>\n",
              "      <td>...</td>\n",
              "      <td>...</td>\n",
              "      <td>...</td>\n",
              "      <td>...</td>\n",
              "      <td>...</td>\n",
              "      <td>...</td>\n",
              "      <td>...</td>\n",
              "    </tr>\n",
              "    <tr>\n",
              "      <th>5105</th>\n",
              "      <td>False</td>\n",
              "      <td>False</td>\n",
              "      <td>False</td>\n",
              "      <td>False</td>\n",
              "      <td>True</td>\n",
              "      <td>False</td>\n",
              "      <td>True</td>\n",
              "      <td>False</td>\n",
              "      <td>False</td>\n",
              "      <td>False</td>\n",
              "      <td>False</td>\n",
              "      <td>False</td>\n",
              "      <td>False</td>\n",
              "      <td>False</td>\n",
              "    </tr>\n",
              "    <tr>\n",
              "      <th>5106</th>\n",
              "      <td>False</td>\n",
              "      <td>False</td>\n",
              "      <td>False</td>\n",
              "      <td>False</td>\n",
              "      <td>False</td>\n",
              "      <td>False</td>\n",
              "      <td>False</td>\n",
              "      <td>False</td>\n",
              "      <td>False</td>\n",
              "      <td>False</td>\n",
              "      <td>False</td>\n",
              "      <td>False</td>\n",
              "      <td>False</td>\n",
              "      <td>False</td>\n",
              "    </tr>\n",
              "    <tr>\n",
              "      <th>5107</th>\n",
              "      <td>False</td>\n",
              "      <td>False</td>\n",
              "      <td>False</td>\n",
              "      <td>False</td>\n",
              "      <td>False</td>\n",
              "      <td>False</td>\n",
              "      <td>False</td>\n",
              "      <td>False</td>\n",
              "      <td>False</td>\n",
              "      <td>False</td>\n",
              "      <td>False</td>\n",
              "      <td>False</td>\n",
              "      <td>False</td>\n",
              "      <td>False</td>\n",
              "    </tr>\n",
              "    <tr>\n",
              "      <th>5108</th>\n",
              "      <td>False</td>\n",
              "      <td>False</td>\n",
              "      <td>False</td>\n",
              "      <td>False</td>\n",
              "      <td>False</td>\n",
              "      <td>False</td>\n",
              "      <td>False</td>\n",
              "      <td>False</td>\n",
              "      <td>False</td>\n",
              "      <td>False</td>\n",
              "      <td>False</td>\n",
              "      <td>False</td>\n",
              "      <td>False</td>\n",
              "      <td>False</td>\n",
              "    </tr>\n",
              "    <tr>\n",
              "      <th>5109</th>\n",
              "      <td>False</td>\n",
              "      <td>False</td>\n",
              "      <td>False</td>\n",
              "      <td>False</td>\n",
              "      <td>False</td>\n",
              "      <td>False</td>\n",
              "      <td>False</td>\n",
              "      <td>False</td>\n",
              "      <td>False</td>\n",
              "      <td>False</td>\n",
              "      <td>False</td>\n",
              "      <td>False</td>\n",
              "      <td>False</td>\n",
              "      <td>False</td>\n",
              "    </tr>\n",
              "  </tbody>\n",
              "</table>\n",
              "<p>5110 rows × 14 columns</p>\n",
              "</div>"
            ],
            "text/plain": [
              "         id  gender    age  height_in_m  weight_in_kg  avg_glucose_level  \\\n",
              "0     False   False  False        False         False              False   \n",
              "1     False   False  False        False          True              False   \n",
              "2     False   False  False        False         False              False   \n",
              "3     False   False  False        False         False              False   \n",
              "4     False   False  False        False         False              False   \n",
              "...     ...     ...    ...          ...           ...                ...   \n",
              "5105  False   False  False        False          True              False   \n",
              "5106  False   False  False        False         False              False   \n",
              "5107  False   False  False        False         False              False   \n",
              "5108  False   False  False        False         False              False   \n",
              "5109  False   False  False        False         False              False   \n",
              "\n",
              "        bmi  smoking_status  hypertension  heart_disease  ever_married  \\\n",
              "0     False           False         False          False         False   \n",
              "1      True           False         False          False         False   \n",
              "2     False           False         False          False         False   \n",
              "3     False           False         False          False         False   \n",
              "4     False           False         False          False         False   \n",
              "...     ...             ...           ...            ...           ...   \n",
              "5105   True           False         False          False         False   \n",
              "5106  False           False         False          False         False   \n",
              "5107  False           False         False          False         False   \n",
              "5108  False           False         False          False         False   \n",
              "5109  False           False         False          False         False   \n",
              "\n",
              "      work_type  Residence_type  stroke  \n",
              "0         False           False   False  \n",
              "1         False           False   False  \n",
              "2         False           False   False  \n",
              "3         False           False   False  \n",
              "4         False           False   False  \n",
              "...         ...             ...     ...  \n",
              "5105      False           False   False  \n",
              "5106      False           False   False  \n",
              "5107      False           False   False  \n",
              "5108      False           False   False  \n",
              "5109      False           False   False  \n",
              "\n",
              "[5110 rows x 14 columns]"
            ]
          },
          "execution_count": 68,
          "metadata": {},
          "output_type": "execute_result"
        }
      ],
      "source": [
        "## write your code here\n",
        "\n",
        "# That can be human errors, that can be system error (data from server  or user must be inserted into today 4th june, but aaja aayena. So, there are the errors)\n",
        "\n",
        "df.isnull()"
      ]
    },
    {
      "cell_type": "code",
      "execution_count": 71,
      "metadata": {},
      "outputs": [
        {
          "data": {
            "text/plain": [
              "id                     0\n",
              "gender                 0\n",
              "age                    0\n",
              "height_in_m            0\n",
              "weight_in_kg         201\n",
              "avg_glucose_level      0\n",
              "bmi                  201\n",
              "smoking_status         0\n",
              "hypertension           0\n",
              "heart_disease          0\n",
              "ever_married         201\n",
              "work_type              0\n",
              "Residence_type         0\n",
              "stroke                 0\n",
              "dtype: int64"
            ]
          },
          "execution_count": 71,
          "metadata": {},
          "output_type": "execute_result"
        }
      ],
      "source": [
        "df.isnull().sum()"
      ]
    },
    {
      "cell_type": "markdown",
      "metadata": {
        "id": "wbKDGBTGMwof"
      },
      "source": [
        "## Visualize missing values using heatmaps"
      ]
    },
    {
      "cell_type": "code",
      "execution_count": 72,
      "metadata": {
        "id": "UvY_SV-TMNNX"
      },
      "outputs": [
        {
          "data": {
            "text/plain": [
              "<AxesSubplot:>"
            ]
          },
          "execution_count": 72,
          "metadata": {},
          "output_type": "execute_result"
        },
        {
          "data": {
            "image/png": "[encoded data removed]",
            "text/plain": [
              "<Figure size 640x480 with 2 Axes>"
            ]
          },
          "metadata": {},
          "output_type": "display_data"
        }
      ],
      "source": [
        "## write your code here\n",
        "sns.heatmap(df.isnull(),cmap='hot')"
      ]
    },
    {
      "cell_type": "markdown",
      "metadata": {},
      "source": [
        "pattern of null in height_in_kg and bmi is same"
      ]
    },
    {
      "cell_type": "markdown",
      "metadata": {
        "id": "DcrkiP18NfjW"
      },
      "source": [
        "## Handling Missing Values\n",
        "\n",
        "- Handle missing values for ever_married column, avg_glucose_level and weight_in_kg column"
      ]
    },
    {
      "cell_type": "code",
      "execution_count": 75,
      "metadata": {
        "id": "2-idkbgOMNP9"
      },
      "outputs": [
        {
          "data": {
            "text/plain": [
              "0       122.409046\n",
              "1              NaN\n",
              "2       105.103532\n",
              "3       126.843865\n",
              "4        82.966131\n",
              "           ...    \n",
              "5105           NaN\n",
              "5106    142.847714\n",
              "5107    102.341989\n",
              "5108     85.619442\n",
              "5109     65.816973\n",
              "Name: weight_in_kg, Length: 5110, dtype: float64"
            ]
          },
          "execution_count": 75,
          "metadata": {},
          "output_type": "execute_result"
        }
      ],
      "source": [
        "## write your code here\n",
        "\n",
        "df['weight_in_kg']"
      ]
    },
    {
      "cell_type": "code",
      "execution_count": 80,
      "metadata": {},
      "outputs": [
        {
          "data": {
            "text/html": [
              "<div>\n",
              "<style scoped>\n",
              "    .dataframe tbody tr th:only-of-type {\n",
              "        vertical-align: middle;\n",
              "    }\n",
              "\n",
              "    .dataframe tbody tr th {\n",
              "        vertical-align: top;\n",
              "    }\n",
              "\n",
              "    .dataframe thead th {\n",
              "        text-align: right;\n",
              "    }\n",
              "</style>\n",
              "<table border=\"1\" class=\"dataframe\">\n",
              "  <thead>\n",
              "    <tr style=\"text-align: right;\">\n",
              "      <th></th>\n",
              "      <th>id</th>\n",
              "      <th>gender</th>\n",
              "      <th>age</th>\n",
              "      <th>height_in_m</th>\n",
              "      <th>weight_in_kg</th>\n",
              "      <th>avg_glucose_level</th>\n",
              "      <th>bmi</th>\n",
              "      <th>smoking_status</th>\n",
              "      <th>hypertension</th>\n",
              "      <th>heart_disease</th>\n",
              "      <th>ever_married</th>\n",
              "      <th>work_type</th>\n",
              "      <th>Residence_type</th>\n",
              "      <th>stroke</th>\n",
              "    </tr>\n",
              "  </thead>\n",
              "  <tbody>\n",
              "    <tr>\n",
              "      <th>1</th>\n",
              "      <td>51676</td>\n",
              "      <td>Female</td>\n",
              "      <td>61.0</td>\n",
              "      <td>1.64592</td>\n",
              "      <td>NaN</td>\n",
              "      <td>169.35</td>\n",
              "      <td>NaN</td>\n",
              "      <td>never smoked</td>\n",
              "      <td>0</td>\n",
              "      <td>0</td>\n",
              "      <td>Yes</td>\n",
              "      <td>Self-employed</td>\n",
              "      <td>Rural</td>\n",
              "      <td>1</td>\n",
              "    </tr>\n",
              "    <tr>\n",
              "      <th>8</th>\n",
              "      <td>27419</td>\n",
              "      <td>Female</td>\n",
              "      <td>59.0</td>\n",
              "      <td>1.85928</td>\n",
              "      <td>NaN</td>\n",
              "      <td>76.15</td>\n",
              "      <td>NaN</td>\n",
              "      <td>Unknown</td>\n",
              "      <td>0</td>\n",
              "      <td>0</td>\n",
              "      <td>Yes</td>\n",
              "      <td>Private</td>\n",
              "      <td>Rural</td>\n",
              "      <td>1</td>\n",
              "    </tr>\n",
              "    <tr>\n",
              "      <th>13</th>\n",
              "      <td>8213</td>\n",
              "      <td>Male</td>\n",
              "      <td>78.0</td>\n",
              "      <td>1.52400</td>\n",
              "      <td>NaN</td>\n",
              "      <td>169.35</td>\n",
              "      <td>NaN</td>\n",
              "      <td>Unknown</td>\n",
              "      <td>0</td>\n",
              "      <td>1</td>\n",
              "      <td>Yes</td>\n",
              "      <td>Private</td>\n",
              "      <td>Urban</td>\n",
              "      <td>1</td>\n",
              "    </tr>\n",
              "    <tr>\n",
              "      <th>19</th>\n",
              "      <td>25226</td>\n",
              "      <td>Male</td>\n",
              "      <td>57.0</td>\n",
              "      <td>1.85928</td>\n",
              "      <td>NaN</td>\n",
              "      <td>169.35</td>\n",
              "      <td>NaN</td>\n",
              "      <td>Unknown</td>\n",
              "      <td>0</td>\n",
              "      <td>1</td>\n",
              "      <td>No</td>\n",
              "      <td>Govt_job</td>\n",
              "      <td>Urban</td>\n",
              "      <td>1</td>\n",
              "    </tr>\n",
              "    <tr>\n",
              "      <th>27</th>\n",
              "      <td>61843</td>\n",
              "      <td>Male</td>\n",
              "      <td>58.0</td>\n",
              "      <td>1.64592</td>\n",
              "      <td>NaN</td>\n",
              "      <td>169.35</td>\n",
              "      <td>NaN</td>\n",
              "      <td>Unknown</td>\n",
              "      <td>0</td>\n",
              "      <td>0</td>\n",
              "      <td>Yes</td>\n",
              "      <td>Private</td>\n",
              "      <td>Rural</td>\n",
              "      <td>1</td>\n",
              "    </tr>\n",
              "    <tr>\n",
              "      <th>...</th>\n",
              "      <td>...</td>\n",
              "      <td>...</td>\n",
              "      <td>...</td>\n",
              "      <td>...</td>\n",
              "      <td>...</td>\n",
              "      <td>...</td>\n",
              "      <td>...</td>\n",
              "      <td>...</td>\n",
              "      <td>...</td>\n",
              "      <td>...</td>\n",
              "      <td>...</td>\n",
              "      <td>...</td>\n",
              "      <td>...</td>\n",
              "      <td>...</td>\n",
              "    </tr>\n",
              "    <tr>\n",
              "      <th>5039</th>\n",
              "      <td>42007</td>\n",
              "      <td>Male</td>\n",
              "      <td>41.0</td>\n",
              "      <td>1.70688</td>\n",
              "      <td>NaN</td>\n",
              "      <td>70.15</td>\n",
              "      <td>NaN</td>\n",
              "      <td>formerly smoked</td>\n",
              "      <td>0</td>\n",
              "      <td>0</td>\n",
              "      <td>No</td>\n",
              "      <td>Private</td>\n",
              "      <td>Rural</td>\n",
              "      <td>0</td>\n",
              "    </tr>\n",
              "    <tr>\n",
              "      <th>5048</th>\n",
              "      <td>28788</td>\n",
              "      <td>Male</td>\n",
              "      <td>40.0</td>\n",
              "      <td>1.73736</td>\n",
              "      <td>NaN</td>\n",
              "      <td>169.35</td>\n",
              "      <td>NaN</td>\n",
              "      <td>smokes</td>\n",
              "      <td>0</td>\n",
              "      <td>0</td>\n",
              "      <td>Yes</td>\n",
              "      <td>Private</td>\n",
              "      <td>Urban</td>\n",
              "      <td>0</td>\n",
              "    </tr>\n",
              "    <tr>\n",
              "      <th>5093</th>\n",
              "      <td>32235</td>\n",
              "      <td>Female</td>\n",
              "      <td>45.0</td>\n",
              "      <td>1.58496</td>\n",
              "      <td>NaN</td>\n",
              "      <td>95.02</td>\n",
              "      <td>NaN</td>\n",
              "      <td>smokes</td>\n",
              "      <td>1</td>\n",
              "      <td>0</td>\n",
              "      <td>Yes</td>\n",
              "      <td>Govt_job</td>\n",
              "      <td>Rural</td>\n",
              "      <td>0</td>\n",
              "    </tr>\n",
              "    <tr>\n",
              "      <th>5099</th>\n",
              "      <td>7293</td>\n",
              "      <td>Male</td>\n",
              "      <td>40.0</td>\n",
              "      <td>1.73736</td>\n",
              "      <td>NaN</td>\n",
              "      <td>83.94</td>\n",
              "      <td>NaN</td>\n",
              "      <td>smokes</td>\n",
              "      <td>0</td>\n",
              "      <td>0</td>\n",
              "      <td>Yes</td>\n",
              "      <td>Private</td>\n",
              "      <td>Rural</td>\n",
              "      <td>0</td>\n",
              "    </tr>\n",
              "    <tr>\n",
              "      <th>5105</th>\n",
              "      <td>18234</td>\n",
              "      <td>Female</td>\n",
              "      <td>80.0</td>\n",
              "      <td>1.73736</td>\n",
              "      <td>NaN</td>\n",
              "      <td>83.75</td>\n",
              "      <td>NaN</td>\n",
              "      <td>never smoked</td>\n",
              "      <td>1</td>\n",
              "      <td>0</td>\n",
              "      <td>Yes</td>\n",
              "      <td>Private</td>\n",
              "      <td>Urban</td>\n",
              "      <td>0</td>\n",
              "    </tr>\n",
              "  </tbody>\n",
              "</table>\n",
              "<p>201 rows × 14 columns</p>\n",
              "</div>"
            ],
            "text/plain": [
              "         id  gender   age  height_in_m  weight_in_kg  avg_glucose_level  bmi  \\\n",
              "1     51676  Female  61.0      1.64592           NaN             169.35  NaN   \n",
              "8     27419  Female  59.0      1.85928           NaN              76.15  NaN   \n",
              "13     8213    Male  78.0      1.52400           NaN             169.35  NaN   \n",
              "19    25226    Male  57.0      1.85928           NaN             169.35  NaN   \n",
              "27    61843    Male  58.0      1.64592           NaN             169.35  NaN   \n",
              "...     ...     ...   ...          ...           ...                ...  ...   \n",
              "5039  42007    Male  41.0      1.70688           NaN              70.15  NaN   \n",
              "5048  28788    Male  40.0      1.73736           NaN             169.35  NaN   \n",
              "5093  32235  Female  45.0      1.58496           NaN              95.02  NaN   \n",
              "5099   7293    Male  40.0      1.73736           NaN              83.94  NaN   \n",
              "5105  18234  Female  80.0      1.73736           NaN              83.75  NaN   \n",
              "\n",
              "       smoking_status  hypertension  heart_disease ever_married  \\\n",
              "1        never smoked             0              0          Yes   \n",
              "8             Unknown             0              0          Yes   \n",
              "13            Unknown             0              1          Yes   \n",
              "19            Unknown             0              1           No   \n",
              "27            Unknown             0              0          Yes   \n",
              "...               ...           ...            ...          ...   \n",
              "5039  formerly smoked             0              0           No   \n",
              "5048           smokes             0              0          Yes   \n",
              "5093           smokes             1              0          Yes   \n",
              "5099           smokes             0              0          Yes   \n",
              "5105     never smoked             1              0          Yes   \n",
              "\n",
              "          work_type Residence_type  stroke  \n",
              "1     Self-employed          Rural       1  \n",
              "8           Private          Rural       1  \n",
              "13          Private          Urban       1  \n",
              "19         Govt_job          Urban       1  \n",
              "27          Private          Rural       1  \n",
              "...             ...            ...     ...  \n",
              "5039        Private          Rural       0  \n",
              "5048        Private          Urban       0  \n",
              "5093       Govt_job          Rural       0  \n",
              "5099        Private          Rural       0  \n",
              "5105        Private          Urban       0  \n",
              "\n",
              "[201 rows x 14 columns]"
            ]
          },
          "execution_count": 80,
          "metadata": {},
          "output_type": "execute_result"
        }
      ],
      "source": [
        "df.loc[df['weight_in_kg'].isnull()]"
      ]
    },
    {
      "cell_type": "markdown",
      "metadata": {},
      "source": [
        "jaha jaha weight_in_Kg NULL chha, tyaha tyaha BMI pani null xa; "
      ]
    },
    {
      "cell_type": "code",
      "execution_count": 81,
      "metadata": {
        "id": "DL0S3d5FMNS9"
      },
      "outputs": [
        {
          "data": {
            "text/plain": [
              "(4909, 14)"
            ]
          },
          "execution_count": 81,
          "metadata": {},
          "output_type": "execute_result"
        }
      ],
      "source": [
        "## write your code here\n",
        "\n",
        "# How to now treat the null for weight_in_kg? \n",
        "\n",
        "# Using Mean (to replace) or then to (dropna)\n",
        "\n",
        "# What if mean has outlier then, we can't use mean to fill it; Also, if mean also doesnot follow the normal distribution then mean doesnot follow the central tendency ;THerefore, we must not fill it \n",
        "\n",
        "clean_df = df.loc[~df['weight_in_kg'].isnull()]\n",
        "clean_df.shape"
      ]
    },
    {
      "cell_type": "code",
      "execution_count": 83,
      "metadata": {
        "id": "8FNdApHgNoSv"
      },
      "outputs": [
        {
          "data": {
            "text/plain": [
              "weight_in_kg\n",
              "False    4909\n",
              "Name: count, dtype: int64"
            ]
          },
          "execution_count": 83,
          "metadata": {},
          "output_type": "execute_result"
        }
      ],
      "source": [
        "# now rechecking the value, whether this is mising or not\n",
        "\n",
        "## write your code here\n",
        "\n",
        "clean_df['weight_in_kg'].isnull().value_counts()"
      ]
    },
    {
      "cell_type": "code",
      "execution_count": 85,
      "metadata": {},
      "outputs": [
        {
          "data": {
            "text/plain": [
              "0"
            ]
          },
          "execution_count": 85,
          "metadata": {},
          "output_type": "execute_result"
        }
      ],
      "source": [
        "clean_df['weight_in_kg'].isnull().sum()"
      ]
    },
    {
      "cell_type": "code",
      "execution_count": 86,
      "metadata": {},
      "outputs": [
        {
          "data": {
            "text/plain": [
              "id                     0\n",
              "gender                 0\n",
              "age                    0\n",
              "height_in_m            0\n",
              "weight_in_kg           0\n",
              "avg_glucose_level      0\n",
              "bmi                    0\n",
              "smoking_status         0\n",
              "hypertension           0\n",
              "heart_disease          0\n",
              "ever_married         196\n",
              "work_type              0\n",
              "Residence_type         0\n",
              "stroke                 0\n",
              "dtype: int64"
            ]
          },
          "execution_count": 86,
          "metadata": {},
          "output_type": "execute_result"
        }
      ],
      "source": [
        "clean_df.isnull().sum()"
      ]
    },
    {
      "cell_type": "code",
      "execution_count": 90,
      "metadata": {
        "id": "8VV8AGgFN6VT"
      },
      "outputs": [
        {
          "data": {
            "text/html": [
              "<div>\n",
              "<style scoped>\n",
              "    .dataframe tbody tr th:only-of-type {\n",
              "        vertical-align: middle;\n",
              "    }\n",
              "\n",
              "    .dataframe tbody tr th {\n",
              "        vertical-align: top;\n",
              "    }\n",
              "\n",
              "    .dataframe thead th {\n",
              "        text-align: right;\n",
              "    }\n",
              "</style>\n",
              "<table border=\"1\" class=\"dataframe\">\n",
              "  <thead>\n",
              "    <tr style=\"text-align: right;\">\n",
              "      <th></th>\n",
              "      <th>id</th>\n",
              "      <th>gender</th>\n",
              "      <th>age</th>\n",
              "      <th>height_in_m</th>\n",
              "      <th>weight_in_kg</th>\n",
              "      <th>avg_glucose_level</th>\n",
              "      <th>bmi</th>\n",
              "      <th>smoking_status</th>\n",
              "      <th>hypertension</th>\n",
              "      <th>heart_disease</th>\n",
              "      <th>ever_married</th>\n",
              "      <th>work_type</th>\n",
              "      <th>Residence_type</th>\n",
              "      <th>stroke</th>\n",
              "    </tr>\n",
              "  </thead>\n",
              "  <tbody>\n",
              "    <tr>\n",
              "      <th>249</th>\n",
              "      <td>30669</td>\n",
              "      <td>Male</td>\n",
              "      <td>3.0</td>\n",
              "      <td>1.64592</td>\n",
              "      <td>48.762948</td>\n",
              "      <td>95.12</td>\n",
              "      <td>18.0</td>\n",
              "      <td>Unknown</td>\n",
              "      <td>0</td>\n",
              "      <td>0</td>\n",
              "      <td>NaN</td>\n",
              "      <td>children</td>\n",
              "      <td>Rural</td>\n",
              "      <td>0</td>\n",
              "    </tr>\n",
              "    <tr>\n",
              "      <th>282</th>\n",
              "      <td>33759</td>\n",
              "      <td>Female</td>\n",
              "      <td>3.0</td>\n",
              "      <td>1.55448</td>\n",
              "      <td>38.662529</td>\n",
              "      <td>73.74</td>\n",
              "      <td>16.0</td>\n",
              "      <td>Unknown</td>\n",
              "      <td>0</td>\n",
              "      <td>0</td>\n",
              "      <td>NaN</td>\n",
              "      <td>children</td>\n",
              "      <td>Urban</td>\n",
              "      <td>0</td>\n",
              "    </tr>\n",
              "    <tr>\n",
              "      <th>291</th>\n",
              "      <td>11014</td>\n",
              "      <td>Male</td>\n",
              "      <td>4.0</td>\n",
              "      <td>1.85928</td>\n",
              "      <td>69.138442</td>\n",
              "      <td>79.17</td>\n",
              "      <td>20.0</td>\n",
              "      <td>Unknown</td>\n",
              "      <td>0</td>\n",
              "      <td>0</td>\n",
              "      <td>NaN</td>\n",
              "      <td>children</td>\n",
              "      <td>Rural</td>\n",
              "      <td>0</td>\n",
              "    </tr>\n",
              "    <tr>\n",
              "      <th>369</th>\n",
              "      <td>8171</td>\n",
              "      <td>Female</td>\n",
              "      <td>4.0</td>\n",
              "      <td>1.76784</td>\n",
              "      <td>51.879287</td>\n",
              "      <td>93.25</td>\n",
              "      <td>16.6</td>\n",
              "      <td>Unknown</td>\n",
              "      <td>0</td>\n",
              "      <td>0</td>\n",
              "      <td>NaN</td>\n",
              "      <td>children</td>\n",
              "      <td>Rural</td>\n",
              "      <td>0</td>\n",
              "    </tr>\n",
              "    <tr>\n",
              "      <th>380</th>\n",
              "      <td>31741</td>\n",
              "      <td>Male</td>\n",
              "      <td>4.0</td>\n",
              "      <td>1.95072</td>\n",
              "      <td>63.548652</td>\n",
              "      <td>106.22</td>\n",
              "      <td>16.7</td>\n",
              "      <td>Unknown</td>\n",
              "      <td>0</td>\n",
              "      <td>0</td>\n",
              "      <td>NaN</td>\n",
              "      <td>children</td>\n",
              "      <td>Rural</td>\n",
              "      <td>0</td>\n",
              "    </tr>\n",
              "    <tr>\n",
              "      <th>...</th>\n",
              "      <td>...</td>\n",
              "      <td>...</td>\n",
              "      <td>...</td>\n",
              "      <td>...</td>\n",
              "      <td>...</td>\n",
              "      <td>...</td>\n",
              "      <td>...</td>\n",
              "      <td>...</td>\n",
              "      <td>...</td>\n",
              "      <td>...</td>\n",
              "      <td>...</td>\n",
              "      <td>...</td>\n",
              "      <td>...</td>\n",
              "      <td>...</td>\n",
              "    </tr>\n",
              "    <tr>\n",
              "      <th>4990</th>\n",
              "      <td>21743</td>\n",
              "      <td>Male</td>\n",
              "      <td>4.0</td>\n",
              "      <td>1.85928</td>\n",
              "      <td>61.187521</td>\n",
              "      <td>85.88</td>\n",
              "      <td>17.7</td>\n",
              "      <td>Unknown</td>\n",
              "      <td>0</td>\n",
              "      <td>0</td>\n",
              "      <td>NaN</td>\n",
              "      <td>children</td>\n",
              "      <td>Urban</td>\n",
              "      <td>0</td>\n",
              "    </tr>\n",
              "    <tr>\n",
              "      <th>5020</th>\n",
              "      <td>6278</td>\n",
              "      <td>Male</td>\n",
              "      <td>5.0</td>\n",
              "      <td>1.58496</td>\n",
              "      <td>44.212928</td>\n",
              "      <td>97.46</td>\n",
              "      <td>17.6</td>\n",
              "      <td>Unknown</td>\n",
              "      <td>0</td>\n",
              "      <td>0</td>\n",
              "      <td>NaN</td>\n",
              "      <td>children</td>\n",
              "      <td>Urban</td>\n",
              "      <td>0</td>\n",
              "    </tr>\n",
              "    <tr>\n",
              "      <th>5050</th>\n",
              "      <td>15581</td>\n",
              "      <td>Male</td>\n",
              "      <td>5.0</td>\n",
              "      <td>1.95072</td>\n",
              "      <td>73.442454</td>\n",
              "      <td>101.87</td>\n",
              "      <td>19.3</td>\n",
              "      <td>Unknown</td>\n",
              "      <td>0</td>\n",
              "      <td>0</td>\n",
              "      <td>NaN</td>\n",
              "      <td>children</td>\n",
              "      <td>Urban</td>\n",
              "      <td>0</td>\n",
              "    </tr>\n",
              "    <tr>\n",
              "      <th>5052</th>\n",
              "      <td>31836</td>\n",
              "      <td>Female</td>\n",
              "      <td>6.0</td>\n",
              "      <td>1.98120</td>\n",
              "      <td>86.745891</td>\n",
              "      <td>91.05</td>\n",
              "      <td>22.1</td>\n",
              "      <td>Unknown</td>\n",
              "      <td>0</td>\n",
              "      <td>0</td>\n",
              "      <td>NaN</td>\n",
              "      <td>children</td>\n",
              "      <td>Urban</td>\n",
              "      <td>0</td>\n",
              "    </tr>\n",
              "    <tr>\n",
              "      <th>5070</th>\n",
              "      <td>62425</td>\n",
              "      <td>Female</td>\n",
              "      <td>5.0</td>\n",
              "      <td>1.85928</td>\n",
              "      <td>58.076292</td>\n",
              "      <td>61.98</td>\n",
              "      <td>16.8</td>\n",
              "      <td>Unknown</td>\n",
              "      <td>0</td>\n",
              "      <td>0</td>\n",
              "      <td>NaN</td>\n",
              "      <td>children</td>\n",
              "      <td>Urban</td>\n",
              "      <td>0</td>\n",
              "    </tr>\n",
              "  </tbody>\n",
              "</table>\n",
              "<p>201 rows × 14 columns</p>\n",
              "</div>"
            ],
            "text/plain": [
              "         id  gender  age  height_in_m  weight_in_kg  avg_glucose_level   bmi  \\\n",
              "249   30669    Male  3.0      1.64592     48.762948              95.12  18.0   \n",
              "282   33759  Female  3.0      1.55448     38.662529              73.74  16.0   \n",
              "291   11014    Male  4.0      1.85928     69.138442              79.17  20.0   \n",
              "369    8171  Female  4.0      1.76784     51.879287              93.25  16.6   \n",
              "380   31741    Male  4.0      1.95072     63.548652             106.22  16.7   \n",
              "...     ...     ...  ...          ...           ...                ...   ...   \n",
              "4990  21743    Male  4.0      1.85928     61.187521              85.88  17.7   \n",
              "5020   6278    Male  5.0      1.58496     44.212928              97.46  17.6   \n",
              "5050  15581    Male  5.0      1.95072     73.442454             101.87  19.3   \n",
              "5052  31836  Female  6.0      1.98120     86.745891              91.05  22.1   \n",
              "5070  62425  Female  5.0      1.85928     58.076292              61.98  16.8   \n",
              "\n",
              "     smoking_status  hypertension  heart_disease ever_married work_type  \\\n",
              "249         Unknown             0              0          NaN  children   \n",
              "282         Unknown             0              0          NaN  children   \n",
              "291         Unknown             0              0          NaN  children   \n",
              "369         Unknown             0              0          NaN  children   \n",
              "380         Unknown             0              0          NaN  children   \n",
              "...             ...           ...            ...          ...       ...   \n",
              "4990        Unknown             0              0          NaN  children   \n",
              "5020        Unknown             0              0          NaN  children   \n",
              "5050        Unknown             0              0          NaN  children   \n",
              "5052        Unknown             0              0          NaN  children   \n",
              "5070        Unknown             0              0          NaN  children   \n",
              "\n",
              "     Residence_type  stroke  \n",
              "249           Rural       0  \n",
              "282           Urban       0  \n",
              "291           Rural       0  \n",
              "369           Rural       0  \n",
              "380           Rural       0  \n",
              "...             ...     ...  \n",
              "4990          Urban       0  \n",
              "5020          Urban       0  \n",
              "5050          Urban       0  \n",
              "5052          Urban       0  \n",
              "5070          Urban       0  \n",
              "\n",
              "[201 rows x 14 columns]"
            ]
          },
          "execution_count": 90,
          "metadata": {},
          "output_type": "execute_result"
        }
      ],
      "source": [
        "## write your code here\n",
        "\n",
        "\n",
        "# now doing cleaning in ever_married; \n",
        "\n",
        "# Aba ever_married herene, kasto xa bhanera \n",
        "\n",
        "\n",
        "df.loc[df['ever_married'].isnull()]\n",
        "# see the columns fourth last"
      ]
    },
    {
      "cell_type": "markdown",
      "metadata": {},
      "source": [
        "यो डेटा हेर्दा के बुझ्न सकिन्छ भने, जहाँ जसको ever_married को value NaN छ, त्यहाँ तिनिहरुको smoking_status पनि Unknown छ। To check that: "
      ]
    },
    {
      "cell_type": "code",
      "execution_count": 92,
      "metadata": {},
      "outputs": [
        {
          "data": {
            "text/plain": [
              "249     Unknown\n",
              "282     Unknown\n",
              "291     Unknown\n",
              "369     Unknown\n",
              "380     Unknown\n",
              "         ...   \n",
              "4990    Unknown\n",
              "5020    Unknown\n",
              "5050    Unknown\n",
              "5052    Unknown\n",
              "5070    Unknown\n",
              "Name: smoking_status, Length: 201, dtype: object"
            ]
          },
          "execution_count": 92,
          "metadata": {},
          "output_type": "execute_result"
        }
      ],
      "source": [
        "df.loc[df['ever_married'].isnull(), 'smoking_status']"
      ]
    },
    {
      "cell_type": "code",
      "execution_count": 93,
      "metadata": {},
      "outputs": [
        {
          "data": {
            "text/plain": [
              "smoking_status\n",
              "Unknown    201\n",
              "Name: count, dtype: int64"
            ]
          },
          "execution_count": 93,
          "metadata": {},
          "output_type": "execute_result"
        }
      ],
      "source": [
        "df.loc[df['ever_married'].isnull(), 'smoking_status'].value_counts()"
      ]
    },
    {
      "cell_type": "markdown",
      "metadata": {},
      "source": [
        "हो, अनि interesting कुरा त के छ भने — ever_married मा जतिवटा NaN values छन्, smoking_status मा पनि त्यत्तिकैवटा Unknown values छन्।\n",
        "\n",
        "यसले के देखाउँछ भने यी दुई fields मा not just correlated, but perfectly aligned missing data छ।"
      ]
    },
    {
      "cell_type": "markdown",
      "metadata": {},
      "source": [
        "-------\n",
        "\n",
        "यो data बाट हामी के देख्न सक्छौं भने, work_type को value सबैभन्दा बढी children छ, जसको count 200 छ। त्यसपछि, Self-employed भनेको 1 मात्र छ। यसले देखाउँछ कि अधिकांश entries मा work_type को value children नै छ, र बाकी एक मात्र Self-employed छ।\n",
        "\n",
        "\n",
        "हो, अनि interesting कुरा के हो भने, यो work_type र ever_married को relationship पनि align हुन्छ।\n",
        "जसको work_type children छ, ती सबैको ever_married पनि NaN छ। यसले देखाउँछ कि work_type र ever_married को बीचमा पनि clear correlation छ — जहाँ work_type children हुन्छ, त्यहाँ ever_married ले NaN value नै लिन्छ।"
      ]
    },
    {
      "cell_type": "code",
      "execution_count": 98,
      "metadata": {},
      "outputs": [
        {
          "data": {
            "text/plain": [
              "weight_in_kg\n",
              "False    4909\n",
              "Name: count, dtype: int64"
            ]
          },
          "execution_count": 98,
          "metadata": {},
          "output_type": "execute_result"
        }
      ],
      "source": [
        "# now rechecking the value, whether this is mising or not\n",
        "\n",
        "## write your code here\n",
        "\n",
        "clean_df['weight_in_kg'].isnull().value_counts()"
      ]
    },
    {
      "cell_type": "code",
      "execution_count": 96,
      "metadata": {},
      "outputs": [
        {
          "data": {
            "text/plain": [
              "work_type\n",
              "children         200\n",
              "Self-employed      1\n",
              "Name: count, dtype: int64"
            ]
          },
          "execution_count": 96,
          "metadata": {},
          "output_type": "execute_result"
        }
      ],
      "source": [
        "df.loc[df['ever_married'].isnull(), 'work_type'].value_counts()"
      ]
    },
    {
      "cell_type": "markdown",
      "metadata": {},
      "source": [
        "-----"
      ]
    },
    {
      "cell_type": "markdown",
      "metadata": {},
      "source": [
        "हो, तपाईँ बिल्कुल सही भन्नुहुन्छ। df.loc[df['ever_married'].isnull()] गर्दा जो ever_married मा NaN छन्, ती data मा उमेर 3, 4, 5 जस्तो छ। यो त बच्चा हो, जसको लागि bihe गर्नु भनेको सम्भव नै हुँदैन।\n",
        "त्यसैले, 18 वर्ष भन्दा कम उमेर भएकाहरूले bihe गर्नु भनेको statistical sense मा असंभाव्य छ।\n",
        "\n"
      ]
    },
    {
      "cell_type": "code",
      "execution_count": 97,
      "metadata": {},
      "outputs": [
        {
          "data": {
            "text/html": [
              "<div>\n",
              "<style scoped>\n",
              "    .dataframe tbody tr th:only-of-type {\n",
              "        vertical-align: middle;\n",
              "    }\n",
              "\n",
              "    .dataframe tbody tr th {\n",
              "        vertical-align: top;\n",
              "    }\n",
              "\n",
              "    .dataframe thead th {\n",
              "        text-align: right;\n",
              "    }\n",
              "</style>\n",
              "<table border=\"1\" class=\"dataframe\">\n",
              "  <thead>\n",
              "    <tr style=\"text-align: right;\">\n",
              "      <th></th>\n",
              "      <th>id</th>\n",
              "      <th>gender</th>\n",
              "      <th>age</th>\n",
              "      <th>height_in_m</th>\n",
              "      <th>weight_in_kg</th>\n",
              "      <th>avg_glucose_level</th>\n",
              "      <th>bmi</th>\n",
              "      <th>smoking_status</th>\n",
              "      <th>hypertension</th>\n",
              "      <th>heart_disease</th>\n",
              "      <th>ever_married</th>\n",
              "      <th>work_type</th>\n",
              "      <th>Residence_type</th>\n",
              "      <th>stroke</th>\n",
              "    </tr>\n",
              "  </thead>\n",
              "  <tbody>\n",
              "    <tr>\n",
              "      <th>249</th>\n",
              "      <td>30669</td>\n",
              "      <td>Male</td>\n",
              "      <td>3.0</td>\n",
              "      <td>1.64592</td>\n",
              "      <td>48.762948</td>\n",
              "      <td>95.12</td>\n",
              "      <td>18.0</td>\n",
              "      <td>Unknown</td>\n",
              "      <td>0</td>\n",
              "      <td>0</td>\n",
              "      <td>NaN</td>\n",
              "      <td>children</td>\n",
              "      <td>Rural</td>\n",
              "      <td>0</td>\n",
              "    </tr>\n",
              "    <tr>\n",
              "      <th>282</th>\n",
              "      <td>33759</td>\n",
              "      <td>Female</td>\n",
              "      <td>3.0</td>\n",
              "      <td>1.55448</td>\n",
              "      <td>38.662529</td>\n",
              "      <td>73.74</td>\n",
              "      <td>16.0</td>\n",
              "      <td>Unknown</td>\n",
              "      <td>0</td>\n",
              "      <td>0</td>\n",
              "      <td>NaN</td>\n",
              "      <td>children</td>\n",
              "      <td>Urban</td>\n",
              "      <td>0</td>\n",
              "    </tr>\n",
              "    <tr>\n",
              "      <th>291</th>\n",
              "      <td>11014</td>\n",
              "      <td>Male</td>\n",
              "      <td>4.0</td>\n",
              "      <td>1.85928</td>\n",
              "      <td>69.138442</td>\n",
              "      <td>79.17</td>\n",
              "      <td>20.0</td>\n",
              "      <td>Unknown</td>\n",
              "      <td>0</td>\n",
              "      <td>0</td>\n",
              "      <td>NaN</td>\n",
              "      <td>children</td>\n",
              "      <td>Rural</td>\n",
              "      <td>0</td>\n",
              "    </tr>\n",
              "    <tr>\n",
              "      <th>369</th>\n",
              "      <td>8171</td>\n",
              "      <td>Female</td>\n",
              "      <td>4.0</td>\n",
              "      <td>1.76784</td>\n",
              "      <td>51.879287</td>\n",
              "      <td>93.25</td>\n",
              "      <td>16.6</td>\n",
              "      <td>Unknown</td>\n",
              "      <td>0</td>\n",
              "      <td>0</td>\n",
              "      <td>NaN</td>\n",
              "      <td>children</td>\n",
              "      <td>Rural</td>\n",
              "      <td>0</td>\n",
              "    </tr>\n",
              "    <tr>\n",
              "      <th>380</th>\n",
              "      <td>31741</td>\n",
              "      <td>Male</td>\n",
              "      <td>4.0</td>\n",
              "      <td>1.95072</td>\n",
              "      <td>63.548652</td>\n",
              "      <td>106.22</td>\n",
              "      <td>16.7</td>\n",
              "      <td>Unknown</td>\n",
              "      <td>0</td>\n",
              "      <td>0</td>\n",
              "      <td>NaN</td>\n",
              "      <td>children</td>\n",
              "      <td>Rural</td>\n",
              "      <td>0</td>\n",
              "    </tr>\n",
              "    <tr>\n",
              "      <th>...</th>\n",
              "      <td>...</td>\n",
              "      <td>...</td>\n",
              "      <td>...</td>\n",
              "      <td>...</td>\n",
              "      <td>...</td>\n",
              "      <td>...</td>\n",
              "      <td>...</td>\n",
              "      <td>...</td>\n",
              "      <td>...</td>\n",
              "      <td>...</td>\n",
              "      <td>...</td>\n",
              "      <td>...</td>\n",
              "      <td>...</td>\n",
              "      <td>...</td>\n",
              "    </tr>\n",
              "    <tr>\n",
              "      <th>4990</th>\n",
              "      <td>21743</td>\n",
              "      <td>Male</td>\n",
              "      <td>4.0</td>\n",
              "      <td>1.85928</td>\n",
              "      <td>61.187521</td>\n",
              "      <td>85.88</td>\n",
              "      <td>17.7</td>\n",
              "      <td>Unknown</td>\n",
              "      <td>0</td>\n",
              "      <td>0</td>\n",
              "      <td>NaN</td>\n",
              "      <td>children</td>\n",
              "      <td>Urban</td>\n",
              "      <td>0</td>\n",
              "    </tr>\n",
              "    <tr>\n",
              "      <th>5020</th>\n",
              "      <td>6278</td>\n",
              "      <td>Male</td>\n",
              "      <td>5.0</td>\n",
              "      <td>1.58496</td>\n",
              "      <td>44.212928</td>\n",
              "      <td>97.46</td>\n",
              "      <td>17.6</td>\n",
              "      <td>Unknown</td>\n",
              "      <td>0</td>\n",
              "      <td>0</td>\n",
              "      <td>NaN</td>\n",
              "      <td>children</td>\n",
              "      <td>Urban</td>\n",
              "      <td>0</td>\n",
              "    </tr>\n",
              "    <tr>\n",
              "      <th>5050</th>\n",
              "      <td>15581</td>\n",
              "      <td>Male</td>\n",
              "      <td>5.0</td>\n",
              "      <td>1.95072</td>\n",
              "      <td>73.442454</td>\n",
              "      <td>101.87</td>\n",
              "      <td>19.3</td>\n",
              "      <td>Unknown</td>\n",
              "      <td>0</td>\n",
              "      <td>0</td>\n",
              "      <td>NaN</td>\n",
              "      <td>children</td>\n",
              "      <td>Urban</td>\n",
              "      <td>0</td>\n",
              "    </tr>\n",
              "    <tr>\n",
              "      <th>5052</th>\n",
              "      <td>31836</td>\n",
              "      <td>Female</td>\n",
              "      <td>6.0</td>\n",
              "      <td>1.98120</td>\n",
              "      <td>86.745891</td>\n",
              "      <td>91.05</td>\n",
              "      <td>22.1</td>\n",
              "      <td>Unknown</td>\n",
              "      <td>0</td>\n",
              "      <td>0</td>\n",
              "      <td>NaN</td>\n",
              "      <td>children</td>\n",
              "      <td>Urban</td>\n",
              "      <td>0</td>\n",
              "    </tr>\n",
              "    <tr>\n",
              "      <th>5070</th>\n",
              "      <td>62425</td>\n",
              "      <td>Female</td>\n",
              "      <td>5.0</td>\n",
              "      <td>1.85928</td>\n",
              "      <td>58.076292</td>\n",
              "      <td>61.98</td>\n",
              "      <td>16.8</td>\n",
              "      <td>Unknown</td>\n",
              "      <td>0</td>\n",
              "      <td>0</td>\n",
              "      <td>NaN</td>\n",
              "      <td>children</td>\n",
              "      <td>Urban</td>\n",
              "      <td>0</td>\n",
              "    </tr>\n",
              "  </tbody>\n",
              "</table>\n",
              "<p>201 rows × 14 columns</p>\n",
              "</div>"
            ],
            "text/plain": [
              "         id  gender  age  height_in_m  weight_in_kg  avg_glucose_level   bmi  \\\n",
              "249   30669    Male  3.0      1.64592     48.762948              95.12  18.0   \n",
              "282   33759  Female  3.0      1.55448     38.662529              73.74  16.0   \n",
              "291   11014    Male  4.0      1.85928     69.138442              79.17  20.0   \n",
              "369    8171  Female  4.0      1.76784     51.879287              93.25  16.6   \n",
              "380   31741    Male  4.0      1.95072     63.548652             106.22  16.7   \n",
              "...     ...     ...  ...          ...           ...                ...   ...   \n",
              "4990  21743    Male  4.0      1.85928     61.187521              85.88  17.7   \n",
              "5020   6278    Male  5.0      1.58496     44.212928              97.46  17.6   \n",
              "5050  15581    Male  5.0      1.95072     73.442454             101.87  19.3   \n",
              "5052  31836  Female  6.0      1.98120     86.745891              91.05  22.1   \n",
              "5070  62425  Female  5.0      1.85928     58.076292              61.98  16.8   \n",
              "\n",
              "     smoking_status  hypertension  heart_disease ever_married work_type  \\\n",
              "249         Unknown             0              0          NaN  children   \n",
              "282         Unknown             0              0          NaN  children   \n",
              "291         Unknown             0              0          NaN  children   \n",
              "369         Unknown             0              0          NaN  children   \n",
              "380         Unknown             0              0          NaN  children   \n",
              "...             ...           ...            ...          ...       ...   \n",
              "4990        Unknown             0              0          NaN  children   \n",
              "5020        Unknown             0              0          NaN  children   \n",
              "5050        Unknown             0              0          NaN  children   \n",
              "5052        Unknown             0              0          NaN  children   \n",
              "5070        Unknown             0              0          NaN  children   \n",
              "\n",
              "     Residence_type  stroke  \n",
              "249           Rural       0  \n",
              "282           Urban       0  \n",
              "291           Rural       0  \n",
              "369           Rural       0  \n",
              "380           Rural       0  \n",
              "...             ...     ...  \n",
              "4990          Urban       0  \n",
              "5020          Urban       0  \n",
              "5050          Urban       0  \n",
              "5052          Urban       0  \n",
              "5070          Urban       0  \n",
              "\n",
              "[201 rows x 14 columns]"
            ]
          },
          "execution_count": 97,
          "metadata": {},
          "output_type": "execute_result"
        }
      ],
      "source": [
        "df.loc[df['ever_married'].isnull()]\n"
      ]
    },
    {
      "cell_type": "code",
      "execution_count": 99,
      "metadata": {},
      "outputs": [
        {
          "data": {
            "text/plain": [
              "ever_married\n",
              "Yes    3408\n",
              "No     1501\n",
              "Name: count, dtype: int64"
            ]
          },
          "execution_count": 99,
          "metadata": {},
          "output_type": "execute_result"
        }
      ],
      "source": [
        "df['ever_married'].value_counts()"
      ]
    },
    {
      "cell_type": "code",
      "execution_count": 104,
      "metadata": {},
      "outputs": [
        {
          "data": {
            "text/plain": [
              "age\n",
              "5.0    65\n",
              "3.0    46\n",
              "4.0    34\n",
              "7.0    32\n",
              "6.0    24\n",
              "Name: count, dtype: int64"
            ]
          },
          "execution_count": 104,
          "metadata": {},
          "output_type": "execute_result"
        }
      ],
      "source": [
        "## write your code here \n",
        "\n",
        "# If someone is below 18 years old, he/she cannot marry someone\n",
        "\n",
        "df.loc[df['ever_married'].isnull(),'age'].value_counts()"
      ]
    },
    {
      "cell_type": "markdown",
      "metadata": {},
      "source": [
        "ती data मा उमेर 3, 4, 5, 6, 7 जस्तो छ। यो त बच्चा हो, जसको लागि bihe गर्नु भनेको सम्भव नै हुँदैन। सबैको age भनेको 3, 4, 5, 6, 7 मात्र छ, त्यसैले हामी ever_married को status लाई \"No\" राख्न सक्छौं | "
      ]
    },
    {
      "cell_type": "code",
      "execution_count": 117,
      "metadata": {},
      "outputs": [],
      "source": [
        "clean_df.loc[clean_df['ever_married'].isnull(),'ever_married'] = 'No'\n",
        "\n",
        "# This line replaces all NaN values in the 'ever_married' column with the string 'No'.\n",
        "\n",
        "\n",
        "# clean_df ma kam garne hai"
      ]
    },
    {
      "cell_type": "code",
      "execution_count": 118,
      "metadata": {},
      "outputs": [
        {
          "data": {
            "text/plain": [
              "id                   0\n",
              "gender               0\n",
              "age                  0\n",
              "height_in_m          0\n",
              "weight_in_kg         0\n",
              "avg_glucose_level    0\n",
              "bmi                  0\n",
              "smoking_status       0\n",
              "hypertension         0\n",
              "heart_disease        0\n",
              "ever_married         0\n",
              "work_type            0\n",
              "Residence_type       0\n",
              "stroke               0\n",
              "dtype: int64"
            ]
          },
          "execution_count": 118,
          "metadata": {},
          "output_type": "execute_result"
        }
      ],
      "source": [
        "clean_df.isnull().sum()"
      ]
    },
    {
      "cell_type": "markdown",
      "metadata": {
        "id": "ss5BBdL5nhII"
      },
      "source": [
        "## Checking missing values for weight_in_kg and bmi columns"
      ]
    },
    {
      "cell_type": "code",
      "execution_count": null,
      "metadata": {
        "id": "6tyjr5pmOhye"
      },
      "outputs": [],
      "source": [
        "## write your code here\n"
      ]
    },
    {
      "cell_type": "code",
      "execution_count": null,
      "metadata": {
        "id": "GVvrnFyfOdVN"
      },
      "outputs": [],
      "source": [
        "## write your code here\n"
      ]
    },
    {
      "cell_type": "markdown",
      "metadata": {
        "id": "fAQrvTXqnq9R"
      },
      "source": [
        "## Check relationship between bmi and height_in_m whether it can be used to fill missing values in bmi (use scatterplot to visually inspect relationship)\n"
      ]
    },
    {
      "cell_type": "code",
      "execution_count": null,
      "metadata": {
        "id": "Gokj-af6OfRj"
      },
      "outputs": [],
      "source": [
        "## write your code here\n"
      ]
    },
    {
      "cell_type": "code",
      "execution_count": null,
      "metadata": {
        "id": "Ke6kWxX_PIBj"
      },
      "outputs": [],
      "source": [
        "## write your code here\n"
      ]
    },
    {
      "cell_type": "code",
      "execution_count": null,
      "metadata": {
        "id": "GB1WVuZOPWb1"
      },
      "outputs": [],
      "source": [
        "## write your code here\n"
      ]
    },
    {
      "cell_type": "code",
      "execution_count": null,
      "metadata": {
        "id": "Bdh26tyKPhPP"
      },
      "outputs": [],
      "source": [
        "## write your code here\n"
      ]
    },
    {
      "cell_type": "markdown",
      "metadata": {
        "id": "G5oV7TZHP_h3"
      },
      "source": [
        "## Exploratory Data Analysis\n",
        "\n",
        "- Univariate Analysis: Studying one variable at a time\n",
        "- Bivariate Analysis: Studying two variables at a time\n",
        "- Multivariate Analysis: Studying multiple variables at a time\n",
        "- We need to investigate each feature properly"
      ]
    },
    {
      "cell_type": "code",
      "execution_count": null,
      "metadata": {
        "id": "68NeELsnQYLe"
      },
      "outputs": [],
      "source": [
        "## write your code here\n",
        "\n",
        "# Need to do visually \n",
        "\n",
        "\n"
      ]
    },
    {
      "cell_type": "markdown",
      "metadata": {
        "id": "6ncE8puRQV3G"
      },
      "source": [
        "## id feature"
      ]
    },
    {
      "cell_type": "code",
      "execution_count": 121,
      "metadata": {
        "id": "-H5ovpAmPjbL"
      },
      "outputs": [
        {
          "data": {
            "text/plain": [
              "id\n",
              "9046     1\n",
              "57288    1\n",
              "42251    1\n",
              "51106    1\n",
              "27518    1\n",
              "        ..\n",
              "42082    1\n",
              "16953    1\n",
              "63416    1\n",
              "24782    1\n",
              "44679    1\n",
              "Name: count, Length: 4909, dtype: int64"
            ]
          },
          "execution_count": 121,
          "metadata": {},
          "output_type": "execute_result"
        }
      ],
      "source": [
        "## write your code here\n",
        "\n",
        "clean_df['id'].value_counts()\n",
        "\n",
        "# All patterns are unique; Then there is no any pattern or link with the features; \n",
        "\n",
        "# THerefore, if all value is unique, then in the realtional database, it can be a primary_key; And yes it is"
      ]
    },
    {
      "cell_type": "code",
      "execution_count": null,
      "metadata": {},
      "outputs": [],
      "source": []
    },
    {
      "cell_type": "markdown",
      "metadata": {
        "id": "72T2_GNdQj90"
      },
      "source": [
        "## gender"
      ]
    },
    {
      "cell_type": "code",
      "execution_count": 127,
      "metadata": {
        "id": "UtV3KGWJQfpS"
      },
      "outputs": [
        {
          "data": {
            "text/plain": [
              "dtype('O')"
            ]
          },
          "execution_count": 127,
          "metadata": {},
          "output_type": "execute_result"
        }
      ],
      "source": [
        "## write your code here (check dtypes first)\n",
        "\n",
        "clean_df['gender'].dtype"
      ]
    },
    {
      "cell_type": "markdown",
      "metadata": {},
      "source": [
        "means this is object datatypes"
      ]
    },
    {
      "cell_type": "code",
      "execution_count": 125,
      "metadata": {
        "id": "k0YlhcJaQnaj"
      },
      "outputs": [
        {
          "data": {
            "text/plain": [
              "gender\n",
              "Female    2850\n",
              "Male      1966\n",
              "female      47\n",
              "male        45\n",
              "Other        1\n",
              "Name: count, dtype: int64"
            ]
          },
          "execution_count": 125,
          "metadata": {},
          "output_type": "execute_result"
        }
      ],
      "source": [
        "## write your code here\n",
        "clean_df['gender'].value_counts()"
      ]
    },
    {
      "cell_type": "markdown",
      "metadata": {},
      "source": [
        "Now there are two same female and male types; So we need to replace then ; as they have uppercase and lowercase; "
      ]
    },
    {
      "cell_type": "code",
      "execution_count": 129,
      "metadata": {},
      "outputs": [
        {
          "name": "stderr",
          "output_type": "stream",
          "text": [
            "/tmp/ipykernel_288831/1779052789.py:1: SettingWithCopyWarning: \n",
            "A value is trying to be set on a copy of a slice from a DataFrame.\n",
            "Try using .loc[row_indexer,col_indexer] = value instead\n",
            "\n",
            "See the caveats in the documentation: https://pandas.pydata.org/pandas-docs/stable/user_guide/indexing.html#returning-a-view-versus-a-copy\n",
            "  clean_df['gender'] = clean_df['gender'].str.lower()\n"
          ]
        }
      ],
      "source": [
        "clean_df['gender'] = clean_df['gender'].str.lower()"
      ]
    },
    {
      "cell_type": "code",
      "execution_count": 130,
      "metadata": {},
      "outputs": [
        {
          "data": {
            "text/plain": [
              "gender\n",
              "female    2897\n",
              "male      2011\n",
              "other        1\n",
              "Name: count, dtype: int64"
            ]
          },
          "execution_count": 130,
          "metadata": {},
          "output_type": "execute_result"
        }
      ],
      "source": [
        "clean_df['gender'].value_counts()"
      ]
    },
    {
      "cell_type": "markdown",
      "metadata": {},
      "source": [
        "Since, there is only 1 \"other\" types; If there were many we need to keep it, but as it was only one, so we can remove this "
      ]
    },
    {
      "cell_type": "code",
      "execution_count": 131,
      "metadata": {
        "id": "qt7WIpkcQr2q"
      },
      "outputs": [],
      "source": [
        "## write your code here for calculating frequency count of gender column\n"
      ]
    },
    {
      "cell_type": "code",
      "execution_count": 134,
      "metadata": {
        "id": "htc1l7qRQ7uY"
      },
      "outputs": [],
      "source": [
        "clean_df = clean_df.loc[clean_df['gender']!='other']"
      ]
    },
    {
      "cell_type": "code",
      "execution_count": 135,
      "metadata": {
        "id": "3t3teBBpQ-G7"
      },
      "outputs": [
        {
          "data": {
            "text/plain": [
              "gender\n",
              "female    2897\n",
              "male      2011\n",
              "Name: count, dtype: int64"
            ]
          },
          "execution_count": 135,
          "metadata": {},
          "output_type": "execute_result"
        }
      ],
      "source": [
        "## write your code here\n",
        "clean_df['gender'].value_counts()"
      ]
    },
    {
      "cell_type": "markdown",
      "metadata": {},
      "source": [
        "EDA (Exploratory Data Analysis) भनेको data सँग play around गर्नु, clean गर्नु, र visualization गर्नु हो।\n",
        "तपाईं EDA गर्न चाहनुहुन्छ भने, पहिले data को cleaning गर्नु पर्छ — जस्तै, NaN values हटाउनु, missing data भराउनु, outliers चेक गर्नु। त्यसपछि visualization मा जानुहोस्, जस्तै histograms, box plots, scatter plots, आदि। यसले हामीलाई data को patterns र relationships बुझ्नमा मद्दत पुर्‍याउँछ।\n",
        "\n"
      ]
    },
    {
      "cell_type": "markdown",
      "metadata": {},
      "source": [
        "----\n",
        "\n",
        "### **Univariate Analysis**:\n",
        "\n",
        "*   **Categorical**:\n",
        "    *   Bar Graph\n",
        "    *   Pie Chart\n",
        "\n",
        "*   **Numerical**:\n",
        "    *   Distribution Plot\n",
        "    *   KDE Plot\n",
        "    *   Histogram\n",
        "    *   Boxplot\n",
        "\n",
        "### **Bivariate Analysis**:\n",
        "\n",
        "*   **Categorical vs Categorical**:\n",
        "    *   Stacked Bar Graph\n",
        "    *   Grouped Bar Graph\n",
        "\n",
        "*   **Categorical vs Numerical**:\n",
        "    *   Scatter Plot\n",
        "    *   KDE Plot\n",
        "    *   Pairplot\n",
        "\n",
        "### **Multivariate Analysis**:\n",
        "\n",
        "*   3D Plot\n",
        "*   Tensorboard Embedding Projector\n"
      ]
    },
    {
      "cell_type": "markdown",
      "metadata": {
        "id": "mvVf-tfFoV9t"
      },
      "source": [
        "## Create Piechart Or Bargraph For Univariate Analysis Of Categorical Feature"
      ]
    },
    {
      "cell_type": "code",
      "execution_count": 138,
      "metadata": {},
      "outputs": [
        {
          "data": {
            "text/plain": [
              "(2,)"
            ]
          },
          "execution_count": 138,
          "metadata": {},
          "output_type": "execute_result"
        }
      ],
      "source": [
        "clean_df['gender'].value_counts().shape"
      ]
    },
    {
      "cell_type": "markdown",
      "metadata": {},
      "source": [
        "(2,) means that there are 2 unique values in the 'gender' column (e.g., \"Male\" and \"Female\").\n",
        "\n",
        "Only has two rows; THis is 1D data structure"
      ]
    },
    {
      "cell_type": "code",
      "execution_count": 136,
      "metadata": {
        "id": "eSD2OxtfRXIk"
      },
      "outputs": [
        {
          "data": {
            "text/html": [
              "<div>\n",
              "<style scoped>\n",
              "    .dataframe tbody tr th:only-of-type {\n",
              "        vertical-align: middle;\n",
              "    }\n",
              "\n",
              "    .dataframe tbody tr th {\n",
              "        vertical-align: top;\n",
              "    }\n",
              "\n",
              "    .dataframe thead th {\n",
              "        text-align: right;\n",
              "    }\n",
              "</style>\n",
              "<table border=\"1\" class=\"dataframe\">\n",
              "  <thead>\n",
              "    <tr style=\"text-align: right;\">\n",
              "      <th></th>\n",
              "      <th>gender</th>\n",
              "      <th>count</th>\n",
              "    </tr>\n",
              "  </thead>\n",
              "  <tbody>\n",
              "    <tr>\n",
              "      <th>0</th>\n",
              "      <td>female</td>\n",
              "      <td>2897</td>\n",
              "    </tr>\n",
              "    <tr>\n",
              "      <th>1</th>\n",
              "      <td>male</td>\n",
              "      <td>2011</td>\n",
              "    </tr>\n",
              "  </tbody>\n",
              "</table>\n",
              "</div>"
            ],
            "text/plain": [
              "   gender  count\n",
              "0  female   2897\n",
              "1    male   2011"
            ]
          },
          "execution_count": 136,
          "metadata": {},
          "output_type": "execute_result"
        }
      ],
      "source": [
        "## write your code here\n",
        "\n",
        "# Now, trying to see the pie-chart of gender \n",
        "\n",
        "clean_df['gender'].value_counts().reset_index()\n"
      ]
    },
    {
      "cell_type": "code",
      "execution_count": 139,
      "metadata": {},
      "outputs": [
        {
          "data": {
            "text/plain": [
              "(2, 2)"
            ]
          },
          "execution_count": 139,
          "metadata": {},
          "output_type": "execute_result"
        }
      ],
      "source": [
        "clean_df['gender'].value_counts().reset_index().shape"
      ]
    },
    {
      "cell_type": "code",
      "execution_count": 142,
      "metadata": {},
      "outputs": [
        {
          "data": {
            "text/html": [
              "<div>\n",
              "<style scoped>\n",
              "    .dataframe tbody tr th:only-of-type {\n",
              "        vertical-align: middle;\n",
              "    }\n",
              "\n",
              "    .dataframe tbody tr th {\n",
              "        vertical-align: top;\n",
              "    }\n",
              "\n",
              "    .dataframe thead th {\n",
              "        text-align: right;\n",
              "    }\n",
              "</style>\n",
              "<table border=\"1\" class=\"dataframe\">\n",
              "  <thead>\n",
              "    <tr style=\"text-align: right;\">\n",
              "      <th></th>\n",
              "      <th>index</th>\n",
              "      <th>gender</th>\n",
              "      <th>count</th>\n",
              "    </tr>\n",
              "  </thead>\n",
              "  <tbody>\n",
              "    <tr>\n",
              "      <th>0</th>\n",
              "      <td>0</td>\n",
              "      <td>female</td>\n",
              "      <td>2897</td>\n",
              "    </tr>\n",
              "    <tr>\n",
              "      <th>1</th>\n",
              "      <td>1</td>\n",
              "      <td>male</td>\n",
              "      <td>2011</td>\n",
              "    </tr>\n",
              "  </tbody>\n",
              "</table>\n",
              "</div>"
            ],
            "text/plain": [
              "   index  gender  count\n",
              "0      0  female   2897\n",
              "1      1    male   2011"
            ]
          },
          "execution_count": 142,
          "metadata": {},
          "output_type": "execute_result"
        }
      ],
      "source": [
        "clean_df['gender'].value_counts().reset_index().reset_index()"
      ]
    },
    {
      "cell_type": "code",
      "execution_count": 143,
      "metadata": {},
      "outputs": [
        {
          "data": {
            "text/html": [
              "<div>\n",
              "<style scoped>\n",
              "    .dataframe tbody tr th:only-of-type {\n",
              "        vertical-align: middle;\n",
              "    }\n",
              "\n",
              "    .dataframe tbody tr th {\n",
              "        vertical-align: top;\n",
              "    }\n",
              "\n",
              "    .dataframe thead th {\n",
              "        text-align: right;\n",
              "    }\n",
              "</style>\n",
              "<table border=\"1\" class=\"dataframe\">\n",
              "  <thead>\n",
              "    <tr style=\"text-align: right;\">\n",
              "      <th></th>\n",
              "      <th>level_0</th>\n",
              "      <th>index</th>\n",
              "      <th>gender</th>\n",
              "      <th>count</th>\n",
              "    </tr>\n",
              "  </thead>\n",
              "  <tbody>\n",
              "    <tr>\n",
              "      <th>0</th>\n",
              "      <td>0</td>\n",
              "      <td>0</td>\n",
              "      <td>female</td>\n",
              "      <td>2897</td>\n",
              "    </tr>\n",
              "    <tr>\n",
              "      <th>1</th>\n",
              "      <td>1</td>\n",
              "      <td>1</td>\n",
              "      <td>male</td>\n",
              "      <td>2011</td>\n",
              "    </tr>\n",
              "  </tbody>\n",
              "</table>\n",
              "</div>"
            ],
            "text/plain": [
              "   level_0  index  gender  count\n",
              "0        0      0  female   2897\n",
              "1        1      1    male   2011"
            ]
          },
          "execution_count": 143,
          "metadata": {},
          "output_type": "execute_result"
        }
      ],
      "source": [
        "clean_df['gender'].value_counts().reset_index().reset_index().reset_index()"
      ]
    },
    {
      "cell_type": "code",
      "execution_count": 140,
      "metadata": {},
      "outputs": [],
      "source": [
        "gender_df = clean_df['gender'].value_counts().reset_index()\n"
      ]
    },
    {
      "cell_type": "code",
      "execution_count": 149,
      "metadata": {},
      "outputs": [
        {
          "data": {
            "text/plain": [
              "<matplotlib.legend.Legend at 0x79a8cd1bb400>"
            ]
          },
          "execution_count": 149,
          "metadata": {},
          "output_type": "execute_result"
        },
        {
          "data": {
            "image/png": "[encoded data removed]",
            "text/plain": [
              "<Figure size 1200x800 with 1 Axes>"
            ]
          },
          "metadata": {},
          "output_type": "display_data"
        }
      ],
      "source": [
        "import matplotlib.pyplot as plt\n",
        "\n",
        "plt.figure(figsize=(12,8))\n",
        "plt.pie(gender_df['count'], labels = gender_df['gender'], colors=['red','green'],autopct='%.1f%%')\n",
        "plt.legend()"
      ]
    },
    {
      "cell_type": "markdown",
      "metadata": {},
      "source": [
        "<li> There are 59% female and 41% male"
      ]
    },
    {
      "cell_type": "markdown",
      "metadata": {
        "id": "Hi_BQvAkSDAj"
      },
      "source": [
        "## smoking status"
      ]
    },
    {
      "cell_type": "code",
      "execution_count": 152,
      "metadata": {
        "id": "N8hTdzjQRk6O"
      },
      "outputs": [
        {
          "data": {
            "text/plain": [
              "smoking_status\n",
              "never smoked       1852\n",
              "Unknown            1483\n",
              "formerly smoked     836\n",
              "smokes              737\n",
              "Name: count, dtype: int64"
            ]
          },
          "execution_count": 152,
          "metadata": {},
          "output_type": "execute_result"
        }
      ],
      "source": [
        "## write your code here\n",
        "\n",
        "clean_df['smoking_status'].value_counts()"
      ]
    },
    {
      "cell_type": "code",
      "execution_count": 155,
      "metadata": {
        "id": "86qKBQ95SOWZ"
      },
      "outputs": [],
      "source": [
        "## write your code here\n",
        "clean_df.loc[clean_df['smoking_status'] == 'Unknown', 'smoking_status'] = 'never smoked'"
      ]
    },
    {
      "cell_type": "code",
      "execution_count": 156,
      "metadata": {
        "id": "YaDqAvGpSWwY"
      },
      "outputs": [
        {
          "data": {
            "text/plain": [
              "smoking_status\n",
              "never smoked       3335\n",
              "formerly smoked     836\n",
              "smokes              737\n",
              "Name: count, dtype: int64"
            ]
          },
          "execution_count": 156,
          "metadata": {},
          "output_type": "execute_result"
        }
      ],
      "source": [
        "## write your code here\n",
        "clean_df['smoking_status'].value_counts()"
      ]
    },
    {
      "cell_type": "markdown",
      "metadata": {},
      "source": [
        "Can represent this in pie-chart or in bar-graph"
      ]
    },
    {
      "cell_type": "code",
      "execution_count": 157,
      "metadata": {},
      "outputs": [
        {
          "data": {
            "text/html": [
              "<div>\n",
              "<style scoped>\n",
              "    .dataframe tbody tr th:only-of-type {\n",
              "        vertical-align: middle;\n",
              "    }\n",
              "\n",
              "    .dataframe tbody tr th {\n",
              "        vertical-align: top;\n",
              "    }\n",
              "\n",
              "    .dataframe thead th {\n",
              "        text-align: right;\n",
              "    }\n",
              "</style>\n",
              "<table border=\"1\" class=\"dataframe\">\n",
              "  <thead>\n",
              "    <tr style=\"text-align: right;\">\n",
              "      <th></th>\n",
              "      <th>smoking_status</th>\n",
              "      <th>count</th>\n",
              "    </tr>\n",
              "  </thead>\n",
              "  <tbody>\n",
              "    <tr>\n",
              "      <th>0</th>\n",
              "      <td>never smoked</td>\n",
              "      <td>3335</td>\n",
              "    </tr>\n",
              "    <tr>\n",
              "      <th>1</th>\n",
              "      <td>formerly smoked</td>\n",
              "      <td>836</td>\n",
              "    </tr>\n",
              "    <tr>\n",
              "      <th>2</th>\n",
              "      <td>smokes</td>\n",
              "      <td>737</td>\n",
              "    </tr>\n",
              "  </tbody>\n",
              "</table>\n",
              "</div>"
            ],
            "text/plain": [
              "    smoking_status  count\n",
              "0     never smoked   3335\n",
              "1  formerly smoked    836\n",
              "2           smokes    737"
            ]
          },
          "execution_count": 157,
          "metadata": {},
          "output_type": "execute_result"
        }
      ],
      "source": [
        "# Creating a frequency table \n",
        "\n",
        "clean_df['smoking_status'].value_counts().reset_index()"
      ]
    },
    {
      "cell_type": "code",
      "execution_count": 158,
      "metadata": {},
      "outputs": [],
      "source": [
        "# Creating a frequency table \n",
        "\n",
        "smoking_df = clean_df['smoking_status'].value_counts().reset_index()"
      ]
    },
    {
      "cell_type": "code",
      "execution_count": 162,
      "metadata": {
        "id": "r92tbwSJSkIv"
      },
      "outputs": [
        {
          "data": {
            "image/png": "[encoded data removed]",
            "text/plain": [
              "<Figure size 1200x600 with 1 Axes>"
            ]
          },
          "metadata": {},
          "output_type": "display_data"
        }
      ],
      "source": [
        "## write your code here\n",
        "\n",
        "plt.figure(figsize= (12,6))\n",
        "sns.barplot(data=smoking_df, x='smoking_status', y='count')\n",
        "plt.show()"
      ]
    },
    {
      "cell_type": "code",
      "execution_count": 164,
      "metadata": {
        "id": "AjTVNVxiSwFm"
      },
      "outputs": [
        {
          "name": "stderr",
          "output_type": "stream",
          "text": [
            "/tmp/ipykernel_288831/2243412357.py:4: FutureWarning: \n",
            "\n",
            "Passing `palette` without assigning `hue` is deprecated and will be removed in v0.14.0. Assign the `x` variable to `hue` and set `legend=False` for the same effect.\n",
            "\n",
            "  sns.barplot(data=smoking_df, x='smoking_status', y='count', palette=['red', 'green', 'blue'])\n"
          ]
        },
        {
          "data": {
            "image/png": "[encoded data removed]",
            "text/plain": [
              "<Figure size 1200x600 with 1 Axes>"
            ]
          },
          "metadata": {},
          "output_type": "display_data"
        }
      ],
      "source": [
        "## write your code here\n",
        "\n",
        "plt.figure(figsize= (12,6))\n",
        "sns.barplot(data=smoking_df, x='smoking_status', y='count', palette=['red', 'green', 'blue'])\n",
        "plt.title(\"Bar Graph of smoking status\")\n",
        "plt.show()"
      ]
    },
    {
      "cell_type": "markdown",
      "metadata": {
        "id": "vpYyqjGNophN"
      },
      "source": [
        "## Plot figure (Barchart)"
      ]
    },
    {
      "cell_type": "code",
      "execution_count": null,
      "metadata": {
        "id": "FhzyX-NtTXQB"
      },
      "outputs": [],
      "source": []
    },
    {
      "cell_type": "code",
      "execution_count": null,
      "metadata": {
        "id": "aLV1D1P0TH0S"
      },
      "outputs": [],
      "source": [
        "## write your code here (use seaborn)\n"
      ]
    },
    {
      "cell_type": "markdown",
      "metadata": {
        "id": "CF7Nkt_2T3bM"
      },
      "source": [
        "## hypertension"
      ]
    },
    {
      "cell_type": "code",
      "execution_count": 166,
      "metadata": {
        "id": "JJtYr91WT6kc"
      },
      "outputs": [
        {
          "data": {
            "text/plain": [
              "hypertension\n",
              "0    4457\n",
              "1     451\n",
              "Name: count, dtype: int64"
            ]
          },
          "execution_count": 166,
          "metadata": {},
          "output_type": "execute_result"
        }
      ],
      "source": [
        "## write your code here\n",
        "\n",
        "clean_df['hypertension'].value_counts()"
      ]
    },
    {
      "cell_type": "code",
      "execution_count": 168,
      "metadata": {},
      "outputs": [],
      "source": [
        "hypertension_df = clean_df['hypertension'].value_counts().reset_index()"
      ]
    },
    {
      "cell_type": "code",
      "execution_count": 171,
      "metadata": {
        "id": "VmXA47dSUChR"
      },
      "outputs": [
        {
          "data": {
            "text/plain": [
              "<matplotlib.legend.Legend at 0x79a8cc669d80>"
            ]
          },
          "execution_count": 171,
          "metadata": {},
          "output_type": "execute_result"
        },
        {
          "data": {
            "image/png": "[encoded data removed]",
            "text/plain": [
              "<Figure size 1200x800 with 1 Axes>"
            ]
          },
          "metadata": {},
          "output_type": "display_data"
        }
      ],
      "source": [
        "## write your code here (show graph)\n",
        "\n",
        "plt.figure(figsize=(12,8))\n",
        "plt.pie(hypertension_df['count'], labels = hypertension_df['hypertension'], colors=['red','green'],autopct='%.1f%%')\n",
        "plt.legend()"
      ]
    },
    {
      "cell_type": "markdown",
      "metadata": {
        "id": "-1CQbv7iUbcl"
      },
      "source": [
        "## stroke feature"
      ]
    },
    {
      "cell_type": "code",
      "execution_count": 173,
      "metadata": {
        "id": "HsJogkAMUdMB"
      },
      "outputs": [
        {
          "data": {
            "text/html": [
              "<div>\n",
              "<style scoped>\n",
              "    .dataframe tbody tr th:only-of-type {\n",
              "        vertical-align: middle;\n",
              "    }\n",
              "\n",
              "    .dataframe tbody tr th {\n",
              "        vertical-align: top;\n",
              "    }\n",
              "\n",
              "    .dataframe thead th {\n",
              "        text-align: right;\n",
              "    }\n",
              "</style>\n",
              "<table border=\"1\" class=\"dataframe\">\n",
              "  <thead>\n",
              "    <tr style=\"text-align: right;\">\n",
              "      <th></th>\n",
              "      <th>stroke</th>\n",
              "      <th>count</th>\n",
              "    </tr>\n",
              "  </thead>\n",
              "  <tbody>\n",
              "    <tr>\n",
              "      <th>0</th>\n",
              "      <td>0</td>\n",
              "      <td>4699</td>\n",
              "    </tr>\n",
              "    <tr>\n",
              "      <th>1</th>\n",
              "      <td>1</td>\n",
              "      <td>209</td>\n",
              "    </tr>\n",
              "  </tbody>\n",
              "</table>\n",
              "</div>"
            ],
            "text/plain": [
              "   stroke  count\n",
              "0       0   4699\n",
              "1       1    209"
            ]
          },
          "execution_count": 173,
          "metadata": {},
          "output_type": "execute_result"
        }
      ],
      "source": [
        "## write your code here\n",
        "stroke_df = clean_df['stroke'].value_counts().reset_index()\n",
        "stroke_df"
      ]
    },
    {
      "cell_type": "code",
      "execution_count": 174,
      "metadata": {
        "id": "_D-g2NbkUdSj"
      },
      "outputs": [
        {
          "data": {
            "text/plain": [
              "<matplotlib.legend.Legend at 0x79a8cc669b10>"
            ]
          },
          "execution_count": 174,
          "metadata": {},
          "output_type": "execute_result"
        },
        {
          "data": {
            "image/png": "[encoded data removed]",
            "text/plain": [
              "<Figure size 1200x800 with 1 Axes>"
            ]
          },
          "metadata": {},
          "output_type": "display_data"
        }
      ],
      "source": [
        "## write your code here(piechart)\n",
        "\n",
        "## write your code here (show graph)\n",
        "\n",
        "plt.figure(figsize=(12,8))\n",
        "plt.pie(stroke_df['count'], labels = stroke_df['stroke'], colors=['red','green'],autopct='%.1f%%')\n",
        "plt.legend()"
      ]
    },
    {
      "cell_type": "markdown",
      "metadata": {
        "id": "gTTbq1PiUR32"
      },
      "source": [
        "# Bivariate Analysis\n",
        "## Is there a chance that patients with hypertension has more likely to get a stroke or not? (cross_tab function)"
      ]
    },
    {
      "cell_type": "markdown",
      "metadata": {},
      "source": [
        "H0: There is no relationship between hypertension and stroke \n",
        "\n",
        "H1: There is a strong relationship between hypertension and stroke\n",
        "\n",
        "chisquare_test() ----> call this or use this test \n",
        "\n",
        "    Observe Pvalue: --> \n",
        "    if pvalue < 0.05 -------------> Accept alternate hypothesis \n",
        "    else \n",
        "    accept null hypothesis \n",
        "\n",
        "\n",
        "But, Before this,\n",
        "\n",
        "We need contingency table "
      ]
    },
    {
      "cell_type": "markdown",
      "metadata": {},
      "source": [
        "![alt text](image-1.png)\n",
        "\n",
        "Pandas give a crosstab function to create this contingency table "
      ]
    },
    {
      "cell_type": "code",
      "execution_count": 175,
      "metadata": {
        "id": "ThzCvC9sTl5n"
      },
      "outputs": [
        {
          "data": {
            "text/html": [
              "<div>\n",
              "<style scoped>\n",
              "    .dataframe tbody tr th:only-of-type {\n",
              "        vertical-align: middle;\n",
              "    }\n",
              "\n",
              "    .dataframe tbody tr th {\n",
              "        vertical-align: top;\n",
              "    }\n",
              "\n",
              "    .dataframe thead th {\n",
              "        text-align: right;\n",
              "    }\n",
              "</style>\n",
              "<table border=\"1\" class=\"dataframe\">\n",
              "  <thead>\n",
              "    <tr style=\"text-align: right;\">\n",
              "      <th>hypertension</th>\n",
              "      <th>0</th>\n",
              "      <th>1</th>\n",
              "    </tr>\n",
              "    <tr>\n",
              "      <th>stroke</th>\n",
              "      <th></th>\n",
              "      <th></th>\n",
              "    </tr>\n",
              "  </thead>\n",
              "  <tbody>\n",
              "    <tr>\n",
              "      <th>0</th>\n",
              "      <td>4308</td>\n",
              "      <td>391</td>\n",
              "    </tr>\n",
              "    <tr>\n",
              "      <th>1</th>\n",
              "      <td>149</td>\n",
              "      <td>60</td>\n",
              "    </tr>\n",
              "  </tbody>\n",
              "</table>\n",
              "</div>"
            ],
            "text/plain": [
              "hypertension     0    1\n",
              "stroke                 \n",
              "0             4308  391\n",
              "1              149   60"
            ]
          },
          "execution_count": 175,
          "metadata": {},
          "output_type": "execute_result"
        }
      ],
      "source": [
        "## write your code here\n",
        "\n",
        "stroke_hypertension_df = pd.crosstab(clean_df['stroke'], clean_df['hypertension'])\n",
        "\n",
        "stroke_hypertension_df"
      ]
    },
    {
      "cell_type": "markdown",
      "metadata": {},
      "source": [
        "    This is Y format table \n",
        "\n",
        "\n",
        "Hypertension nalagne lai ; stroke ni lagya xaina ; (like 4308) raixa maximum "
      ]
    },
    {
      "cell_type": "markdown",
      "metadata": {
        "id": "LtsOO7YmV0eD"
      },
      "source": [
        "## Hypothesis Testing (Chisquare test for Independence)\n",
        "\n",
        "\n",
        "chi2, p, dof, expected = chi2_contingency(stroke_hypertension_df)"
      ]
    },
    {
      "cell_type": "code",
      "execution_count": null,
      "metadata": {
        "id": "aBEHqaZypJhz"
      },
      "outputs": [],
      "source": []
    },
    {
      "cell_type": "code",
      "execution_count": 176,
      "metadata": {
        "id": "-9vhMDdqV01Q"
      },
      "outputs": [],
      "source": [
        "from scipy.stats import chi2_contingency"
      ]
    },
    {
      "cell_type": "code",
      "execution_count": 177,
      "metadata": {
        "id": "Y_rB2cTIVWEO"
      },
      "outputs": [
        {
          "name": "stdout",
          "output_type": "stream",
          "text": [
            "1\n",
            "6.143875464115642e-23\n"
          ]
        }
      ],
      "source": [
        "# Perform Chi-square test\n",
        "chi2,p,dof,excepted = chi2_contingency(stroke_hypertension_df)\n",
        "\n",
        "print(dof)\n",
        "print(p)"
      ]
    },
    {
      "cell_type": "markdown",
      "metadata": {},
      "source": [
        "Since,  p < 0.05 ; \n",
        "\n",
        "Result: - We will accept alternative hypothesis. (STrong relation)"
      ]
    },
    {
      "cell_type": "markdown",
      "metadata": {
        "id": "ufOhe3T9WcsO"
      },
      "source": [
        "## Group Barplot"
      ]
    },
    {
      "cell_type": "code",
      "execution_count": 179,
      "metadata": {
        "id": "5cIzszcLWUo_"
      },
      "outputs": [
        {
          "data": {
            "text/plain": [
              "stroke  hypertension\n",
              "0       0               4308\n",
              "        1                391\n",
              "1       0                149\n",
              "        1                 60\n",
              "Name: count, dtype: int64"
            ]
          },
          "execution_count": 179,
          "metadata": {},
          "output_type": "execute_result"
        }
      ],
      "source": [
        "## write your code here\n",
        "\n",
        "# Long format Tblae \n",
        "\n",
        "stroke_hypertension_df =  clean_df[['stroke','hypertension']].value_counts()\n",
        "\n",
        "stroke_hypertension_df"
      ]
    },
    {
      "cell_type": "code",
      "execution_count": 180,
      "metadata": {},
      "outputs": [
        {
          "data": {
            "text/html": [
              "<div>\n",
              "<style scoped>\n",
              "    .dataframe tbody tr th:only-of-type {\n",
              "        vertical-align: middle;\n",
              "    }\n",
              "\n",
              "    .dataframe tbody tr th {\n",
              "        vertical-align: top;\n",
              "    }\n",
              "\n",
              "    .dataframe thead th {\n",
              "        text-align: right;\n",
              "    }\n",
              "</style>\n",
              "<table border=\"1\" class=\"dataframe\">\n",
              "  <thead>\n",
              "    <tr style=\"text-align: right;\">\n",
              "      <th></th>\n",
              "      <th>stroke</th>\n",
              "      <th>hypertension</th>\n",
              "      <th>count</th>\n",
              "    </tr>\n",
              "  </thead>\n",
              "  <tbody>\n",
              "    <tr>\n",
              "      <th>0</th>\n",
              "      <td>0</td>\n",
              "      <td>0</td>\n",
              "      <td>4308</td>\n",
              "    </tr>\n",
              "    <tr>\n",
              "      <th>1</th>\n",
              "      <td>0</td>\n",
              "      <td>1</td>\n",
              "      <td>391</td>\n",
              "    </tr>\n",
              "    <tr>\n",
              "      <th>2</th>\n",
              "      <td>1</td>\n",
              "      <td>0</td>\n",
              "      <td>149</td>\n",
              "    </tr>\n",
              "    <tr>\n",
              "      <th>3</th>\n",
              "      <td>1</td>\n",
              "      <td>1</td>\n",
              "      <td>60</td>\n",
              "    </tr>\n",
              "  </tbody>\n",
              "</table>\n",
              "</div>"
            ],
            "text/plain": [
              "   stroke  hypertension  count\n",
              "0       0             0   4308\n",
              "1       0             1    391\n",
              "2       1             0    149\n",
              "3       1             1     60"
            ]
          },
          "execution_count": 180,
          "metadata": {},
          "output_type": "execute_result"
        }
      ],
      "source": [
        "stroke_hypertension_df =  clean_df[['stroke','hypertension']].value_counts().reset_index()\n",
        "\n",
        "stroke_hypertension_df"
      ]
    },
    {
      "cell_type": "code",
      "execution_count": 181,
      "metadata": {
        "id": "HULtKCswWnMt"
      },
      "outputs": [
        {
          "data": {
            "image/png": "[encoded data removed]",
            "text/plain": [
              "<Figure size 1200x800 with 1 Axes>"
            ]
          },
          "metadata": {},
          "output_type": "display_data"
        }
      ],
      "source": [
        "# Plot using Seaborn\n",
        "\n",
        "plt.figure(figsize=(12,8))\n",
        "sns.barplot(data = stroke_hypertension_df, x = 'hypertension', y = 'count', hue = 'stroke' )\n",
        "plt.title(\"Grouped Barplot for showing Relation betwen hyperstorke and storke\")\n",
        "plt.show()"
      ]
    },
    {
      "cell_type": "markdown",
      "metadata": {
        "id": "nuRlc2MHXcXn"
      },
      "source": [
        "## heart disease"
      ]
    },
    {
      "cell_type": "code",
      "execution_count": 182,
      "metadata": {},
      "outputs": [
        {
          "data": {
            "text/plain": [
              "heart_disease\n",
              "0    4665\n",
              "1     243\n",
              "Name: count, dtype: int64"
            ]
          },
          "execution_count": 182,
          "metadata": {},
          "output_type": "execute_result"
        }
      ],
      "source": [
        "clean_df['heart_disease'].value_counts()"
      ]
    },
    {
      "cell_type": "code",
      "execution_count": 184,
      "metadata": {
        "id": "Nr6S55KcW8gN"
      },
      "outputs": [
        {
          "data": {
            "text/html": [
              "<div>\n",
              "<style scoped>\n",
              "    .dataframe tbody tr th:only-of-type {\n",
              "        vertical-align: middle;\n",
              "    }\n",
              "\n",
              "    .dataframe tbody tr th {\n",
              "        vertical-align: top;\n",
              "    }\n",
              "\n",
              "    .dataframe thead th {\n",
              "        text-align: right;\n",
              "    }\n",
              "</style>\n",
              "<table border=\"1\" class=\"dataframe\">\n",
              "  <thead>\n",
              "    <tr style=\"text-align: right;\">\n",
              "      <th>heart_disease</th>\n",
              "      <th>0</th>\n",
              "      <th>1</th>\n",
              "    </tr>\n",
              "    <tr>\n",
              "      <th>stroke</th>\n",
              "      <th></th>\n",
              "      <th></th>\n",
              "    </tr>\n",
              "  </thead>\n",
              "  <tbody>\n",
              "    <tr>\n",
              "      <th>0</th>\n",
              "      <td>4496</td>\n",
              "      <td>203</td>\n",
              "    </tr>\n",
              "    <tr>\n",
              "      <th>1</th>\n",
              "      <td>169</td>\n",
              "      <td>40</td>\n",
              "    </tr>\n",
              "  </tbody>\n",
              "</table>\n",
              "</div>"
            ],
            "text/plain": [
              "heart_disease     0    1\n",
              "stroke                  \n",
              "0              4496  203\n",
              "1               169   40"
            ]
          },
          "execution_count": 184,
          "metadata": {},
          "output_type": "execute_result"
        }
      ],
      "source": [
        "## write your code here\n",
        "\n",
        "heart_stroke_df = pd.crosstab(clean_df['stroke'], clean_df['heart_disease'])\n",
        "\n",
        "heart_stroke_df"
      ]
    },
    {
      "cell_type": "code",
      "execution_count": 185,
      "metadata": {},
      "outputs": [
        {
          "name": "stdout",
          "output_type": "stream",
          "text": [
            "1\n",
            "2.0990170036138994e-21\n"
          ]
        }
      ],
      "source": [
        "# Perform Chi-square test\n",
        "chi2,p,dof,excepted = chi2_contingency(heart_stroke_df)\n",
        "\n",
        "print(dof)\n",
        "print(p)"
      ]
    },
    {
      "cell_type": "markdown",
      "metadata": {},
      "source": [
        "Since,  p < 0.05 ; \n",
        "\n",
        "Result: - We will accept alternative hypothesis. (STrong relation)"
      ]
    },
    {
      "cell_type": "code",
      "execution_count": 186,
      "metadata": {},
      "outputs": [
        {
          "data": {
            "text/html": [
              "<div>\n",
              "<style scoped>\n",
              "    .dataframe tbody tr th:only-of-type {\n",
              "        vertical-align: middle;\n",
              "    }\n",
              "\n",
              "    .dataframe tbody tr th {\n",
              "        vertical-align: top;\n",
              "    }\n",
              "\n",
              "    .dataframe thead th {\n",
              "        text-align: right;\n",
              "    }\n",
              "</style>\n",
              "<table border=\"1\" class=\"dataframe\">\n",
              "  <thead>\n",
              "    <tr style=\"text-align: right;\">\n",
              "      <th></th>\n",
              "      <th>stroke</th>\n",
              "      <th>heart_disease</th>\n",
              "      <th>count</th>\n",
              "    </tr>\n",
              "  </thead>\n",
              "  <tbody>\n",
              "    <tr>\n",
              "      <th>0</th>\n",
              "      <td>0</td>\n",
              "      <td>0</td>\n",
              "      <td>4496</td>\n",
              "    </tr>\n",
              "    <tr>\n",
              "      <th>1</th>\n",
              "      <td>0</td>\n",
              "      <td>1</td>\n",
              "      <td>203</td>\n",
              "    </tr>\n",
              "    <tr>\n",
              "      <th>2</th>\n",
              "      <td>1</td>\n",
              "      <td>0</td>\n",
              "      <td>169</td>\n",
              "    </tr>\n",
              "    <tr>\n",
              "      <th>3</th>\n",
              "      <td>1</td>\n",
              "      <td>1</td>\n",
              "      <td>40</td>\n",
              "    </tr>\n",
              "  </tbody>\n",
              "</table>\n",
              "</div>"
            ],
            "text/plain": [
              "   stroke  heart_disease  count\n",
              "0       0              0   4496\n",
              "1       0              1    203\n",
              "2       1              0    169\n",
              "3       1              1     40"
            ]
          },
          "execution_count": 186,
          "metadata": {},
          "output_type": "execute_result"
        }
      ],
      "source": [
        "heart_stroke_df =  clean_df[['stroke','heart_disease']].value_counts().reset_index()\n",
        "\n",
        "heart_stroke_df"
      ]
    },
    {
      "cell_type": "code",
      "execution_count": 188,
      "metadata": {},
      "outputs": [
        {
          "data": {
            "image/png": "[encoded data removed]",
            "text/plain": [
              "<Figure size 1200x800 with 1 Axes>"
            ]
          },
          "metadata": {},
          "output_type": "display_data"
        }
      ],
      "source": [
        "# Plot using Seaborn\n",
        "\n",
        "plt.figure(figsize=(12,8))\n",
        "sns.barplot(data = heart_stroke_df, x = 'heart_disease', y = 'count', hue = 'stroke' )\n",
        "plt.title(\"Grouped Barplot for showing Relation betwen hyperstorke and storke\")\n",
        "plt.show()"
      ]
    },
    {
      "cell_type": "code",
      "execution_count": null,
      "metadata": {
        "id": "yyTfktueXwPa"
      },
      "outputs": [],
      "source": [
        "## write your code here\n"
      ]
    },
    {
      "cell_type": "markdown",
      "metadata": {
        "id": "vu_GERuWXnwD"
      },
      "source": [
        "## Hypothesis Testing (Chisquare test for Independence)\n"
      ]
    },
    {
      "cell_type": "code",
      "execution_count": null,
      "metadata": {
        "id": "LyYbz6JzXgry"
      },
      "outputs": [],
      "source": [
        "# Perform Chi-square test\n",
        "\n"
      ]
    },
    {
      "cell_type": "markdown",
      "metadata": {
        "id": "Wwjfrp15YCRd"
      },
      "source": [
        "## Group Bar plot"
      ]
    },
    {
      "cell_type": "code",
      "execution_count": null,
      "metadata": {
        "id": "26IAU0CUX-pn"
      },
      "outputs": [],
      "source": [
        "## write your code here with long format table\n"
      ]
    },
    {
      "cell_type": "code",
      "execution_count": null,
      "metadata": {
        "id": "FG2r0VgUYWcj"
      },
      "outputs": [],
      "source": [
        "## write your code here\n"
      ]
    },
    {
      "cell_type": "code",
      "execution_count": null,
      "metadata": {
        "id": "P9Ml4bE6YjY5"
      },
      "outputs": [],
      "source": []
    },
    {
      "cell_type": "code",
      "execution_count": null,
      "metadata": {
        "id": "JoPCIcQQYy6c"
      },
      "outputs": [],
      "source": []
    },
    {
      "cell_type": "code",
      "execution_count": null,
      "metadata": {
        "id": "mn2-44UgYy-p"
      },
      "outputs": [],
      "source": []
    },
    {
      "cell_type": "code",
      "execution_count": null,
      "metadata": {
        "id": "DEStIMU5YzDA"
      },
      "outputs": [],
      "source": []
    },
    {
      "cell_type": "markdown",
      "metadata": {
        "id": "kY8OEbjOYz_n"
      },
      "source": [
        "## Numerical Features"
      ]
    },
    {
      "cell_type": "code",
      "execution_count": null,
      "metadata": {
        "id": "vKovecgVY4XD"
      },
      "outputs": [],
      "source": [
        "# select numerical features\n",
        "## write your code here\n"
      ]
    },
    {
      "cell_type": "markdown",
      "metadata": {
        "id": "oze9WaJeZg1j"
      },
      "source": [
        "## age column"
      ]
    },
    {
      "cell_type": "code",
      "execution_count": null,
      "metadata": {
        "id": "ho4MBiwJZFSz"
      },
      "outputs": [],
      "source": [
        "## write your code here (for histogram)\n"
      ]
    },
    {
      "cell_type": "code",
      "execution_count": null,
      "metadata": {
        "id": "I3Zd7-fMZSqA"
      },
      "outputs": [],
      "source": [
        "## write your code here (for kde plot)\n"
      ]
    },
    {
      "cell_type": "code",
      "execution_count": null,
      "metadata": {
        "id": "Qd_mvJfsaPxf"
      },
      "outputs": [],
      "source": [
        "## write your code here (for outlier analysis using boxplot)\n"
      ]
    },
    {
      "cell_type": "code",
      "execution_count": null,
      "metadata": {
        "id": "K-k5xhxuZbvT"
      },
      "outputs": [],
      "source": []
    },
    {
      "cell_type": "markdown",
      "metadata": {
        "id": "uEgcrDrNZ36B"
      },
      "source": [
        "## Bmi column"
      ]
    },
    {
      "cell_type": "code",
      "execution_count": null,
      "metadata": {
        "id": "EsZqBKByZkmu"
      },
      "outputs": [],
      "source": [
        "## write your code here (for histogram)\n"
      ]
    },
    {
      "cell_type": "code",
      "execution_count": null,
      "metadata": {
        "id": "uS6q70cpZ9BM"
      },
      "outputs": [],
      "source": [
        "## write your code here (for kde plot)"
      ]
    },
    {
      "cell_type": "code",
      "execution_count": null,
      "metadata": {
        "id": "A_n8remsaBov"
      },
      "outputs": [],
      "source": []
    },
    {
      "cell_type": "code",
      "execution_count": null,
      "metadata": {
        "id": "7FlzRT1PaMG4"
      },
      "outputs": [],
      "source": [
        "## write your code here (for boxplot outlier analysis)\n"
      ]
    },
    {
      "cell_type": "markdown",
      "metadata": {
        "id": "qrqg2Tc4hbh-"
      },
      "source": [
        "### Hypothesis Test For Normality\n",
        "\n",
        "\n",
        "# Perform Kolmogorov-Smirnov test\n",
        "statistic, pvalue = kstest(final_df['bmi'], 'norm')\n",
        "\n",
        "# Print the result\n",
        "print(\"Kolmogorov-Smirnov Test Statistic:\", statistic)\n",
        "\n",
        "print(\"p-value:\", pvalue)\n",
        "\n",
        "# Interpret the results\n",
        "alpha = 0.05  # Significance level\n",
        "\n",
        "if pvalue > alpha:\n",
        "    print(\"Sample looks Gaussian (fail to reject H0)\")\n",
        "    \n",
        "else:\n",
        "    print(\"Sample does not look Gaussian (reject H0)\")\n"
      ]
    },
    {
      "cell_type": "code",
      "execution_count": null,
      "metadata": {
        "id": "bQO-iM8ego4K"
      },
      "outputs": [],
      "source": [
        "from scipy.stats import kstest, shapiro"
      ]
    },
    {
      "cell_type": "markdown",
      "metadata": {
        "id": "5YiAa1gHahk3"
      },
      "source": [
        "## Scatterplots"
      ]
    },
    {
      "cell_type": "code",
      "execution_count": null,
      "metadata": {
        "id": "Qar1MmSJaj2W"
      },
      "outputs": [],
      "source": [
        "## write your code here\n"
      ]
    },
    {
      "cell_type": "markdown",
      "metadata": {
        "id": "qlYbOrl_qBtC"
      },
      "source": [
        "## Correlation Plots and Heatmaps"
      ]
    },
    {
      "cell_type": "code",
      "execution_count": null,
      "metadata": {
        "id": "8k5My7vgbAKZ"
      },
      "outputs": [],
      "source": [
        "## write your code here\n"
      ]
    },
    {
      "cell_type": "code",
      "execution_count": null,
      "metadata": {
        "id": "-Kj76sN1bUGS"
      },
      "outputs": [],
      "source": []
    },
    {
      "cell_type": "code",
      "execution_count": null,
      "metadata": {
        "id": "DEIlMKKNfztU"
      },
      "outputs": [],
      "source": []
    }
  ],
  "metadata": {
    "colab": {
      "provenance": []
    },
    "kernelspec": {
      "display_name": "Python 3",
      "name": "python3"
    },
    "language_info": {
      "codemirror_mode": {
        "name": "ipython",
        "version": 3
      },
      "file_extension": ".py",
      "mimetype": "text/x-python",
      "name": "python",
      "nbconvert_exporter": "python",
      "pygments_lexer": "ipython3",
      "version": "3.10.12"
    }
  },
  "nbformat": 4,
  "nbformat_minor": 0
}
